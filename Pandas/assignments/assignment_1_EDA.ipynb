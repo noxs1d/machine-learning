{
 "cells": [
  {
   "cell_type": "markdown",
   "id": "66c3d58a",
   "metadata": {},
   "source": [
    "# Вопросы к assignment 1\n",
    "Для работы вам предоставлен датасет, содержащий характеристики авто (19 признаков) и таргет для предсказания - его цену. Цена по своей сути - это непрерывная величина (не категориальная), поэтому перед вами задача регрессии."
   ]
  },
  {
   "cell_type": "markdown",
   "id": "7078c3ca",
   "metadata": {},
   "source": [
    "Вы можете создавать более одной ячейком под соответствующими вопросами. Вопросы повышенной сложности отмечены *"
   ]
  },
  {
   "cell_type": "markdown",
   "id": "ed15d5af",
   "metadata": {},
   "source": [
    "Признаки:\n",
    "- Make - приозводитель\n",
    "- Model - модель авто\n",
    "- Price - цена авто, таргет для моделей\n",
    "- Year - год выпуска авто\n",
    "- Kilometer - пробег авто в километрах\n",
    "- Fuel Type - тип топлива для авто\n",
    "- Transmission - тип коробка передач\n",
    "- Location - место продажи\n",
    "- Color - цвет авто\n",
    "- Owner - количество предыдущих владельцев\n",
    "- Seller Type - кто выступает продавцом\n",
    "- Engine - тип двигателя\n",
    "- Max Power - максимальная мощность авто\n",
    "- Max Torque - максимальный крутящий момент авто\n",
    "- Drivetrain - тип трансмиссии авто\n",
    "- Length - длина авто\n",
    "- Width - ширина авто\n",
    "- Height - высота авто\n",
    "- Seating Capacity - количество сидячих мест\n",
    "- Fuel Tank Capacity - объем топливного бака"
   ]
  },
  {
   "cell_type": "code",
   "execution_count": 2,
   "id": "ba617221",
   "metadata": {},
   "outputs": [],
   "source": [
    "import pandas as pd\n",
    "import seaborn as sns\n",
    "import numpy as np\n",
    "import matplotlib.pyplot as plt"
   ]
  },
  {
   "cell_type": "code",
   "execution_count": 3,
   "id": "c175b23d",
   "metadata": {},
   "outputs": [],
   "source": [
    "data = pd.read_csv('car details v4.csv')"
   ]
  },
  {
   "cell_type": "code",
   "execution_count": 4,
   "id": "87d98bc8",
   "metadata": {
    "scrolled": true
   },
   "outputs": [
    {
     "data": {
      "text/html": [
       "<div>\n",
       "<style scoped>\n",
       "    .dataframe tbody tr th:only-of-type {\n",
       "        vertical-align: middle;\n",
       "    }\n",
       "\n",
       "    .dataframe tbody tr th {\n",
       "        vertical-align: top;\n",
       "    }\n",
       "\n",
       "    .dataframe thead th {\n",
       "        text-align: right;\n",
       "    }\n",
       "</style>\n",
       "<table border=\"1\" class=\"dataframe\">\n",
       "  <thead>\n",
       "    <tr style=\"text-align: right;\">\n",
       "      <th></th>\n",
       "      <th>Make</th>\n",
       "      <th>Model</th>\n",
       "      <th>Price</th>\n",
       "      <th>Year</th>\n",
       "      <th>Kilometer</th>\n",
       "      <th>Fuel Type</th>\n",
       "      <th>Transmission</th>\n",
       "      <th>Location</th>\n",
       "      <th>Color</th>\n",
       "      <th>Owner</th>\n",
       "      <th>Seller Type</th>\n",
       "      <th>Engine</th>\n",
       "      <th>Max Power</th>\n",
       "      <th>Max Torque</th>\n",
       "      <th>Drivetrain</th>\n",
       "      <th>Length</th>\n",
       "      <th>Width</th>\n",
       "      <th>Height</th>\n",
       "      <th>Seating Capacity</th>\n",
       "      <th>Fuel Tank Capacity</th>\n",
       "    </tr>\n",
       "  </thead>\n",
       "  <tbody>\n",
       "    <tr>\n",
       "      <th>0</th>\n",
       "      <td>Honda</td>\n",
       "      <td>Amaze 1.2 VX i-VTEC</td>\n",
       "      <td>505000</td>\n",
       "      <td>2017</td>\n",
       "      <td>87150</td>\n",
       "      <td>Petrol</td>\n",
       "      <td>Manual</td>\n",
       "      <td>Pune</td>\n",
       "      <td>Grey</td>\n",
       "      <td>First</td>\n",
       "      <td>Corporate</td>\n",
       "      <td>1198 cc</td>\n",
       "      <td>87 bhp @ 6000 rpm</td>\n",
       "      <td>109 Nm @ 4500 rpm</td>\n",
       "      <td>FWD</td>\n",
       "      <td>3990.0</td>\n",
       "      <td>1680.0</td>\n",
       "      <td>1505.0</td>\n",
       "      <td>5.0</td>\n",
       "      <td>35.0</td>\n",
       "    </tr>\n",
       "    <tr>\n",
       "      <th>1</th>\n",
       "      <td>Maruti Suzuki</td>\n",
       "      <td>Swift DZire VDI</td>\n",
       "      <td>450000</td>\n",
       "      <td>2014</td>\n",
       "      <td>75000</td>\n",
       "      <td>Diesel</td>\n",
       "      <td>Manual</td>\n",
       "      <td>Ludhiana</td>\n",
       "      <td>White</td>\n",
       "      <td>Second</td>\n",
       "      <td>Individual</td>\n",
       "      <td>1248 cc</td>\n",
       "      <td>74 bhp @ 4000 rpm</td>\n",
       "      <td>190 Nm @ 2000 rpm</td>\n",
       "      <td>FWD</td>\n",
       "      <td>3995.0</td>\n",
       "      <td>1695.0</td>\n",
       "      <td>1555.0</td>\n",
       "      <td>5.0</td>\n",
       "      <td>42.0</td>\n",
       "    </tr>\n",
       "    <tr>\n",
       "      <th>2</th>\n",
       "      <td>Hyundai</td>\n",
       "      <td>i10 Magna 1.2 Kappa2</td>\n",
       "      <td>220000</td>\n",
       "      <td>2011</td>\n",
       "      <td>67000</td>\n",
       "      <td>Petrol</td>\n",
       "      <td>Manual</td>\n",
       "      <td>Lucknow</td>\n",
       "      <td>Maroon</td>\n",
       "      <td>First</td>\n",
       "      <td>Individual</td>\n",
       "      <td>1197 cc</td>\n",
       "      <td>79 bhp @ 6000 rpm</td>\n",
       "      <td>112.7619 Nm @ 4000 rpm</td>\n",
       "      <td>FWD</td>\n",
       "      <td>3585.0</td>\n",
       "      <td>1595.0</td>\n",
       "      <td>1550.0</td>\n",
       "      <td>5.0</td>\n",
       "      <td>35.0</td>\n",
       "    </tr>\n",
       "    <tr>\n",
       "      <th>3</th>\n",
       "      <td>Toyota</td>\n",
       "      <td>Glanza G</td>\n",
       "      <td>799000</td>\n",
       "      <td>2019</td>\n",
       "      <td>37500</td>\n",
       "      <td>Petrol</td>\n",
       "      <td>Manual</td>\n",
       "      <td>Mangalore</td>\n",
       "      <td>Red</td>\n",
       "      <td>First</td>\n",
       "      <td>Individual</td>\n",
       "      <td>1197 cc</td>\n",
       "      <td>82 bhp @ 6000 rpm</td>\n",
       "      <td>113 Nm @ 4200 rpm</td>\n",
       "      <td>FWD</td>\n",
       "      <td>3995.0</td>\n",
       "      <td>1745.0</td>\n",
       "      <td>1510.0</td>\n",
       "      <td>5.0</td>\n",
       "      <td>37.0</td>\n",
       "    </tr>\n",
       "    <tr>\n",
       "      <th>4</th>\n",
       "      <td>Toyota</td>\n",
       "      <td>Innova 2.4 VX 7 STR [2016-2020]</td>\n",
       "      <td>1950000</td>\n",
       "      <td>2018</td>\n",
       "      <td>69000</td>\n",
       "      <td>Diesel</td>\n",
       "      <td>Manual</td>\n",
       "      <td>Mumbai</td>\n",
       "      <td>Grey</td>\n",
       "      <td>First</td>\n",
       "      <td>Individual</td>\n",
       "      <td>2393 cc</td>\n",
       "      <td>148 bhp @ 3400 rpm</td>\n",
       "      <td>343 Nm @ 1400 rpm</td>\n",
       "      <td>RWD</td>\n",
       "      <td>4735.0</td>\n",
       "      <td>1830.0</td>\n",
       "      <td>1795.0</td>\n",
       "      <td>7.0</td>\n",
       "      <td>55.0</td>\n",
       "    </tr>\n",
       "  </tbody>\n",
       "</table>\n",
       "</div>"
      ],
      "text/plain": [
       "            Make                            Model    Price  Year  Kilometer  \\\n",
       "0          Honda              Amaze 1.2 VX i-VTEC   505000  2017      87150   \n",
       "1  Maruti Suzuki                  Swift DZire VDI   450000  2014      75000   \n",
       "2        Hyundai             i10 Magna 1.2 Kappa2   220000  2011      67000   \n",
       "3         Toyota                         Glanza G   799000  2019      37500   \n",
       "4         Toyota  Innova 2.4 VX 7 STR [2016-2020]  1950000  2018      69000   \n",
       "\n",
       "  Fuel Type Transmission   Location   Color   Owner Seller Type   Engine  \\\n",
       "0    Petrol       Manual       Pune    Grey   First   Corporate  1198 cc   \n",
       "1    Diesel       Manual   Ludhiana   White  Second  Individual  1248 cc   \n",
       "2    Petrol       Manual    Lucknow  Maroon   First  Individual  1197 cc   \n",
       "3    Petrol       Manual  Mangalore     Red   First  Individual  1197 cc   \n",
       "4    Diesel       Manual     Mumbai    Grey   First  Individual  2393 cc   \n",
       "\n",
       "            Max Power              Max Torque Drivetrain  Length   Width  \\\n",
       "0   87 bhp @ 6000 rpm       109 Nm @ 4500 rpm        FWD  3990.0  1680.0   \n",
       "1   74 bhp @ 4000 rpm       190 Nm @ 2000 rpm        FWD  3995.0  1695.0   \n",
       "2   79 bhp @ 6000 rpm  112.7619 Nm @ 4000 rpm        FWD  3585.0  1595.0   \n",
       "3   82 bhp @ 6000 rpm       113 Nm @ 4200 rpm        FWD  3995.0  1745.0   \n",
       "4  148 bhp @ 3400 rpm       343 Nm @ 1400 rpm        RWD  4735.0  1830.0   \n",
       "\n",
       "   Height  Seating Capacity  Fuel Tank Capacity  \n",
       "0  1505.0               5.0                35.0  \n",
       "1  1555.0               5.0                42.0  \n",
       "2  1550.0               5.0                35.0  \n",
       "3  1510.0               5.0                37.0  \n",
       "4  1795.0               7.0                55.0  "
      ]
     },
     "execution_count": 4,
     "metadata": {},
     "output_type": "execute_result"
    }
   ],
   "source": [
    "data.head()"
   ]
  },
  {
   "cell_type": "markdown",
   "id": "e2cc4166",
   "metadata": {},
   "source": [
    "1. Вывести общую информацию по данным, сколько числовых и сколько сктроковых типов признаков? Перечислить признаки, имеющие пропуски в данных. Какие методы работы с пропущенными значениями вы знаете? Обработайте эти пропуски. Важно, линейная регрессия не умеет работать с пропусками в данных."
   ]
  },
  {
   "cell_type": "code",
   "execution_count": null,
   "id": "5746de29",
   "metadata": {},
   "outputs": [],
   "source": [
    "# your code here"
   ]
  },
  {
   "cell_type": "markdown",
   "id": "570f04e8",
   "metadata": {},
   "source": [
    "2. Вывести описательные статистики по численным признакам. Какая медиана у признака \"Kilometer\"? Какая медиана у признака \"Fuel Tank Capacity\"? Какой год выпуска является самым минимальным/максимальным? Выведите строку(-и) в данных, имеющую(-щих) эти года выпуска."
   ]
  },
  {
   "cell_type": "code",
   "execution_count": null,
   "id": "e33d1308",
   "metadata": {},
   "outputs": [],
   "source": [
    "# your code here"
   ]
  },
  {
   "cell_type": "markdown",
   "id": "d050c570",
   "metadata": {},
   "source": [
    "3. Какой производитель (\"Make\") встречается наиболее часто в датасете? Выведите количество и долю в процентах."
   ]
  },
  {
   "cell_type": "code",
   "execution_count": null,
   "id": "2e9fd54e",
   "metadata": {},
   "outputs": [],
   "source": [
    "# your code here"
   ]
  },
  {
   "cell_type": "markdown",
   "id": "a10e1537",
   "metadata": {},
   "source": [
    "4. Какой город наиболее часто встречается в датасете?"
   ]
  },
  {
   "cell_type": "code",
   "execution_count": null,
   "id": "d8546068",
   "metadata": {},
   "outputs": [],
   "source": [
    "# your code here"
   ]
  },
  {
   "cell_type": "markdown",
   "id": "2021f62e",
   "metadata": {},
   "source": [
    "5. Постройте гистограмму для признака \"Fuel Tank Capacity\". Какими бы вы выбрали границы категорий для разбиения этого признака и что может помочь вам в этом? В каких целях можно использовать эти категории в дальнейшем? Повторите описанные действия для признака \"Seating Capacity\"."
   ]
  },
  {
   "cell_type": "markdown",
   "id": "f4f43dd9",
   "metadata": {},
   "source": [
    "*6. Постройте pie chart для признаков \"Color\"/\"Owner\"/\"Seller Type\". Укажите данные как в числах, так и в процентах. Добавьте легенду на графики (подписи осей, категорий данных, поиграйтесь с цветом и другим функционалом seaborn)."
   ]
  },
  {
   "cell_type": "code",
   "execution_count": null,
   "id": "5e722e33",
   "metadata": {},
   "outputs": [],
   "source": [
    "# your code here"
   ]
  },
  {
   "cell_type": "markdown",
   "id": "bba8cb19",
   "metadata": {},
   "source": [
    "7. Добавьте к данным новые признаки (новые колонки) в группировке по прозводителю (\"Make\"): медиана \"Kilometer\"/\"Length\"/\"Fuel tank Capacity\". Т.е. для каждой записи в новой колонке должны содержаться соответствующие данной модели признаки, которые показывают \"медиану пробега авто марки Toyota\" и т.д. Подсказка: необходимо воспользоваться методом groupby()."
   ]
  },
  {
   "cell_type": "code",
   "execution_count": null,
   "id": "574da948",
   "metadata": {},
   "outputs": [],
   "source": [
    "# your code here"
   ]
  },
  {
   "cell_type": "markdown",
   "id": "285a28fc",
   "metadata": {},
   "source": [
    "8. Для всех полученных на данный момент числовых признаков постройте график матрицы корреляций, на нем выведите значение корреляций в виде тепловой карты. Также постройте ещё одну матрицу корреляций, в которую пойдут топ 5 признаков по значению корреляции."
   ]
  },
  {
   "cell_type": "code",
   "execution_count": null,
   "id": "b7f419cb",
   "metadata": {},
   "outputs": [],
   "source": [
    "# your code here"
   ]
  },
  {
   "cell_type": "markdown",
   "id": "346f503a",
   "metadata": {},
   "source": [
    "9. Обработайте категориальные признаки, содержащие менее 5 уникальных значений. Воспользуйтесь OrdinalEncoding, OneHotEncoding или простым mapping чисел для этих признаков. Для дальнейших заданий удалите все остальные категориальные признаки (все, которые содержат больше 5 уникальных значений). Важно, вы не сможете построить линейную регрессию на текстовых признаках, поэтому все текстовые признаки необходимо удалить или транфсормировать в числовые."
   ]
  },
  {
   "cell_type": "code",
   "execution_count": null,
   "id": "d3c76a97",
   "metadata": {},
   "outputs": [],
   "source": [
    "# your code here"
   ]
  },
  {
   "cell_type": "markdown",
   "id": "1b5dca9f",
   "metadata": {},
   "source": [
    "10. Воспользовавшись train test split разделите полученные данные на тестовую и трейн выборки в пропорции 80% train/20% test. Можем ли мы воспользоваться stratifed split? Вы можете использовать готовые реализации из sklearn, либо написать свои функции. Помните, что перед сплитом мы разделяем данные на признаки и таргет (\"Price\")."
   ]
  },
  {
   "cell_type": "code",
   "execution_count": null,
   "id": "061f2b04",
   "metadata": {},
   "outputs": [],
   "source": [
    "# your code here"
   ]
  },
  {
   "cell_type": "markdown",
   "id": "b9d045c7",
   "metadata": {},
   "source": [
    "11. Примените алгоритм линейной регрессии для обучения и дальнейшего прогнозирования цены автомобиля. Отобразите ошибку прогноза модели на тестовой выборке с помощью RMSE."
   ]
  },
  {
   "cell_type": "code",
   "execution_count": null,
   "id": "54230394",
   "metadata": {},
   "outputs": [],
   "source": [
    "# your code here"
   ]
  },
  {
   "cell_type": "markdown",
   "id": "c79476e8",
   "metadata": {},
   "source": [
    "*12. Постройте полный пайплайн по подготовке данных обучения через sklearn.pipeline.Pipeline. Для этого воспользуйтесь предыдущими вопросами, соберите все трансформации из предыдущих вопросов и реализуйте их в данном пайплайне. Помните, что некоторый функционал идёт из коробки (import из sklearn) , а некоторый (добавление новых признаков), можно реализовать через классы с методами fit/transform/fit_transform."
   ]
  },
  {
   "cell_type": "code",
   "execution_count": null,
   "id": "35bfb8ec",
   "metadata": {},
   "outputs": [],
   "source": [
    "# your code here"
   ]
  },
  {
   "cell_type": "markdown",
   "id": "c506cbcb",
   "metadata": {},
   "source": [
    "*13. Подберите необходимые параметры модели Random Forest (n_estimators, max_features) используя стратегию кросс-валидации (с bootstrap=False и bootstrap=True). Удастся ли вам получить лучшую метрику на тестовых данных, чем если вы будете в качестве прогноза на тестовой выборке просто отдавать среднюю цену всех авто из обучающей выборки?"
   ]
  },
  {
   "cell_type": "code",
   "execution_count": null,
   "id": "9ecd45f5",
   "metadata": {},
   "outputs": [],
   "source": [
    "# your code here"
   ]
  }
 ],
 "metadata": {
  "kernelspec": {
   "display_name": "Python 3 (ipykernel)",
   "language": "python",
   "name": "python3"
  },
  "language_info": {
   "codemirror_mode": {
    "name": "ipython",
    "version": 3
   },
   "file_extension": ".py",
   "mimetype": "text/x-python",
   "name": "python",
   "nbconvert_exporter": "python",
   "pygments_lexer": "ipython3",
   "version": "3.12.4"
  }
 },
 "nbformat": 4,
 "nbformat_minor": 5
}
