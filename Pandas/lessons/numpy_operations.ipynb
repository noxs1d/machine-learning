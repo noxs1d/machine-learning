{
 "cells": [
  {
   "cell_type": "markdown",
   "id": "77450587",
   "metadata": {},
   "source": [
    "# Numpy\n",
    "**NumPy** - это фундаментальный пакет для научных вычислений на языке Python, который активно используется обширным сообществом исследователей, ученых и преподавателей во всем мире, а так же является важным компонентом для других прикладных библиотек."
   ]
  },
  {
   "cell_type": "markdown",
   "id": "88bfcbe7",
   "metadata": {},
   "source": [
    "![image](numpy.png)"
   ]
  },
  {
   "cell_type": "markdown",
   "id": "389d1486",
   "metadata": {},
   "source": [
    "Причин такого широкого распространения NumPy довльно много:\n",
    "- пакет является бесплатным, а его код открытым;\n",
    "- удобный и хорошо продуманный синтаксис;\n",
    "- дополнительная функциональность для работы с многомерными массивами;\n",
    "- быстрые вычисления на языках C и Fortran, выполняемые \"под капотом\";\n",
    "- легкая интеграция с другими библиотеками."
   ]
  },
  {
   "cell_type": "markdown",
   "id": "19e0fb95",
   "metadata": {},
   "source": [
    "Хорошее знание Numpy позволяет писать оптимизированный и лаконичный код, а его многомерные массивы являются базовой структурой для библиотеки SciPy, которая значительно расширяет его математическую функциональность и область решаемых задачь."
   ]
  },
  {
   "cell_type": "markdown",
   "id": "45c6e93e",
   "metadata": {},
   "source": [
    "# Одномерный массив"
   ]
  },
  {
   "cell_type": "markdown",
   "id": "a700d686",
   "metadata": {},
   "source": [
    "Главный объект **NumPy** - это однородный многомерный массив.\n",
    "\n",
    "Чаще всего это одномерная последовательность или двумерная таблица, заполненная элементами одного типа, как правило числами, которые проиндексированы кортежем положительных целых чисел."
   ]
  },
  {
   "cell_type": "code",
   "execution_count": 2,
   "id": "961dc458",
   "metadata": {},
   "outputs": [],
   "source": [
    "import numpy as np"
   ]
  },
  {
   "cell_type": "markdown",
   "id": "623eb67a",
   "metadata": {},
   "source": [
    "Способов создания массивов NumPy довольно много, но мы начнем с самого тривиального - создание массива из заполненного вручную списка Python:"
   ]
  },
  {
   "cell_type": "code",
   "execution_count": 3,
   "id": "5ad692d4",
   "metadata": {},
   "outputs": [
    {
     "data": {
      "text/plain": [
       "array([11, 22, 33, 44, 55, 66, 77, 88, 99])"
      ]
     },
     "execution_count": 3,
     "metadata": {},
     "output_type": "execute_result"
    }
   ],
   "source": [
    "a = np.array([11, 22, 33, 44, 55, 66, 77, 88, 99])\n",
    "a"
   ]
  },
  {
   "cell_type": "markdown",
   "id": "54802795",
   "metadata": {},
   "source": [
    "Теперь у нас есть одномерный массив, т.е. у него всего одна ось вдоль которой происходит индексирование его элементов."
   ]
  },
  {
   "cell_type": "markdown",
   "id": "dc8752e0",
   "metadata": {},
   "source": [
    "![image](1nd_array.jpg)"
   ]
  },
  {
   "cell_type": "code",
   "execution_count": 3,
   "id": "36536387",
   "metadata": {},
   "outputs": [
    {
     "data": {
      "text/plain": [
       "33"
      ]
     },
     "execution_count": 3,
     "metadata": {},
     "output_type": "execute_result"
    }
   ],
   "source": [
    "a[2]"
   ]
  },
  {
   "cell_type": "markdown",
   "id": "9b55b417",
   "metadata": {},
   "source": [
    "В общем-то, можно подумать, что ничего интересного и нет в этих массивах, но на самом деле это только начало кроличьей норы."
   ]
  },
  {
   "cell_type": "code",
   "execution_count": 4,
   "id": "5d906653",
   "metadata": {},
   "outputs": [
    {
     "data": {
      "text/plain": [
       "array([88, 11, 44, 44, 44, 11, 88])"
      ]
     },
     "execution_count": 4,
     "metadata": {},
     "output_type": "execute_result"
    }
   ],
   "source": [
    "a[[7, 0, 3, 3, 3, 0, 7]]"
   ]
  },
  {
   "cell_type": "markdown",
   "id": "077bff69",
   "metadata": {},
   "source": [
    "Вместо одного индекса, указан целый список индексов."
   ]
  },
  {
   "cell_type": "code",
   "execution_count": 5,
   "id": "32a62d34",
   "metadata": {},
   "outputs": [
    {
     "ename": "TypeError",
     "evalue": "list indices must be integers or slices, not list",
     "output_type": "error",
     "traceback": [
      "\u001b[1;31m---------------------------------------------------------------------------\u001b[0m",
      "\u001b[1;31mTypeError\u001b[0m                                 Traceback (most recent call last)",
      "\u001b[1;32m~\\AppData\\Local\\Temp/ipykernel_10944/3496475948.py\u001b[0m in \u001b[0;36m<module>\u001b[1;34m\u001b[0m\n\u001b[0;32m      1\u001b[0m \u001b[0mb\u001b[0m \u001b[1;33m=\u001b[0m \u001b[1;33m[\u001b[0m\u001b[1;36m1\u001b[0m\u001b[1;33m,\u001b[0m \u001b[1;36m2\u001b[0m\u001b[1;33m,\u001b[0m \u001b[1;36m3\u001b[0m\u001b[1;33m,\u001b[0m \u001b[1;36m4\u001b[0m \u001b[1;33m,\u001b[0m \u001b[1;36m5\u001b[0m\u001b[1;33m,\u001b[0m \u001b[1;36m6\u001b[0m\u001b[1;33m,\u001b[0m \u001b[1;36m7\u001b[0m\u001b[1;33m,\u001b[0m \u001b[1;36m8\u001b[0m\u001b[1;33m,\u001b[0m \u001b[1;36m9\u001b[0m\u001b[1;33m]\u001b[0m\u001b[1;33m\u001b[0m\u001b[1;33m\u001b[0m\u001b[0m\n\u001b[0;32m      2\u001b[0m \u001b[1;33m\u001b[0m\u001b[0m\n\u001b[1;32m----> 3\u001b[1;33m \u001b[0mb\u001b[0m\u001b[1;33m[\u001b[0m\u001b[1;33m[\u001b[0m\u001b[1;36m1\u001b[0m\u001b[1;33m,\u001b[0m \u001b[1;36m2\u001b[0m\u001b[1;33m,\u001b[0m \u001b[1;36m3\u001b[0m\u001b[1;33m]\u001b[0m\u001b[1;33m]\u001b[0m\u001b[1;33m\u001b[0m\u001b[1;33m\u001b[0m\u001b[0m\n\u001b[0m",
      "\u001b[1;31mTypeError\u001b[0m: list indices must be integers or slices, not list"
     ]
    }
   ],
   "source": [
    "b = [1, 2, 3, 4 , 5, 6, 7, 8, 9]\n",
    "\n",
    "b[[1, 2, 3]]"
   ]
  },
  {
   "cell_type": "markdown",
   "id": "5da38934",
   "metadata": {},
   "source": [
    " А вот с типом данных список так не работает. А вот еще любопытный пример, теперь вместо индекса укажем логическое выражение:"
   ]
  },
  {
   "cell_type": "code",
   "execution_count": 6,
   "id": "49a9f788",
   "metadata": {},
   "outputs": [
    {
     "data": {
      "text/plain": [
       "array([55, 66, 77, 88, 99])"
      ]
     },
     "execution_count": 6,
     "metadata": {},
     "output_type": "execute_result"
    }
   ],
   "source": [
    "a[a > 50]"
   ]
  },
  {
   "cell_type": "code",
   "execution_count": 7,
   "id": "938afac8",
   "metadata": {},
   "outputs": [
    {
     "data": {
      "text/plain": [
       "array([11, 22, 33, 44])"
      ]
     },
     "execution_count": 7,
     "metadata": {},
     "output_type": "execute_result"
    }
   ],
   "source": [
    "a[a < 50]"
   ]
  },
  {
   "cell_type": "markdown",
   "id": "6923721b",
   "metadata": {},
   "source": [
    "Цель этих двух примеров - не устраивать головоломку, а продемонстрировать расширенные возможности индексирования массивов NumPy.\n",
    "\n",
    "Что еще интересного можно продемонстрировать? Векторизованные вычисления:"
   ]
  },
  {
   "cell_type": "code",
   "execution_count": 8,
   "id": "a284b6ea",
   "metadata": {},
   "outputs": [
    {
     "data": {
      "text/plain": [
       "array([ 32,  54,  76,  98, 120, 142, 164, 186, 208])"
      ]
     },
     "execution_count": 8,
     "metadata": {},
     "output_type": "execute_result"
    }
   ],
   "source": [
    "2*a + 10"
   ]
  },
  {
   "cell_type": "code",
   "execution_count": 9,
   "id": "155a40ab",
   "metadata": {},
   "outputs": [
    {
     "data": {
      "text/plain": [
       "array([1., 1., 1., 1., 1., 1., 1., 1., 1.])"
      ]
     },
     "execution_count": 9,
     "metadata": {},
     "output_type": "execute_result"
    }
   ],
   "source": [
    "np.sin(a)**2 + np.cos(a)**2"
   ]
  },
  {
   "cell_type": "markdown",
   "id": "e299b4e7",
   "metadata": {},
   "source": [
    "Векторизованные - означает, что все арифметические операции и математические функции выполняются сразу над всеми элементами массивов. А это в свою очередь означает, что нет никакой необходимости выполнять вычисления в цикле."
   ]
  },
  {
   "cell_type": "code",
   "execution_count": 31,
   "id": "567dbc10",
   "metadata": {},
   "outputs": [
    {
     "data": {
      "text/plain": [
       "array([ 0,  1,  2,  3,  4,  5,  6,  7,  8,  9, 10, 11])"
      ]
     },
     "execution_count": 31,
     "metadata": {},
     "output_type": "execute_result"
    }
   ],
   "source": [
    "a = np.arange(12)\n",
    "a"
   ]
  },
  {
   "cell_type": "markdown",
   "id": "a44e4d6d",
   "metadata": {},
   "source": [
    "Сейчас мы создали массив с помощью функции np.arange(), которая во многом аналогична функции range() языка Python."
   ]
  },
  {
   "cell_type": "code",
   "execution_count": 11,
   "id": "b664453b",
   "metadata": {},
   "outputs": [
    {
     "data": {
      "text/plain": [
       "array([[ 0,  1,  2,  3],\n",
       "       [ 4,  5,  6,  7],\n",
       "       [ 8,  9, 10, 11]])"
      ]
     },
     "execution_count": 11,
     "metadata": {},
     "output_type": "execute_result"
    }
   ],
   "source": [
    "a = a.reshape(3, 4)\n",
    "a"
   ]
  },
  {
   "cell_type": "markdown",
   "id": "97fc31f2",
   "metadata": {},
   "source": [
    "Затем, мы изменили форму массива с помощью метода reshape(), т.е. на самом деле создать этот массив мы могли бы и одной командой:"
   ]
  },
  {
   "cell_type": "code",
   "execution_count": 33,
   "id": "a4598dbf",
   "metadata": {},
   "outputs": [
    {
     "data": {
      "text/plain": [
       "array([[ 0,  1,  2,  3],\n",
       "       [ 4,  5,  6,  7],\n",
       "       [ 8,  9, 10, 11]])"
      ]
     },
     "execution_count": 33,
     "metadata": {},
     "output_type": "execute_result"
    }
   ],
   "source": [
    "a = np.arange(12).reshape(3, 4)\n",
    "a"
   ]
  },
  {
   "cell_type": "markdown",
   "id": "1e81d495",
   "metadata": {},
   "source": [
    "Визуально, данный массив выглядит следующим образом:"
   ]
  },
  {
   "cell_type": "markdown",
   "id": "ec8f264f",
   "metadata": {},
   "source": [
    "![image](2nd_array.jpg)"
   ]
  },
  {
   "cell_type": "markdown",
   "id": "81a90aee",
   "metadata": {},
   "source": [
    "Глядя на картинку, становится понятно, что первая ось (и индекс соответственно) - это строки, вторая ось - это столбцы. Т.е. получить элемент 9 можно простой командой:"
   ]
  },
  {
   "cell_type": "code",
   "execution_count": 13,
   "id": "2b018a5b",
   "metadata": {},
   "outputs": [
    {
     "data": {
      "text/plain": [
       "9"
      ]
     },
     "execution_count": 13,
     "metadata": {},
     "output_type": "execute_result"
    }
   ],
   "source": [
    "a[2][1]    #  равносильно команде a[2, 1]"
   ]
  },
  {
   "cell_type": "code",
   "execution_count": 14,
   "id": "0ebb478e",
   "metadata": {},
   "outputs": [
    {
     "data": {
      "text/plain": [
       "9"
      ]
     },
     "execution_count": 14,
     "metadata": {},
     "output_type": "execute_result"
    }
   ],
   "source": [
    "a[2, 1]"
   ]
  },
  {
   "cell_type": "markdown",
   "id": "923b20ea",
   "metadata": {},
   "source": [
    "Снова можно подумать, что ничего нового - все как в стандартном Python. Да, так и есть, и, это круто!\n",
    "\n",
    "Еще круто, то что NumPy добавляет к удобному и привычному синтаксису Python, весьма удобные трюки, например - транслирование массивов:"
   ]
  },
  {
   "cell_type": "code",
   "execution_count": 34,
   "id": "8eee59d8",
   "metadata": {},
   "outputs": [
    {
     "data": {
      "text/plain": [
       "array([[ 0,  3,  8, 15],\n",
       "       [ 8, 15, 24, 35],\n",
       "       [16, 27, 40, 55]])"
      ]
     },
     "execution_count": 34,
     "metadata": {},
     "output_type": "execute_result"
    }
   ],
   "source": [
    "b = [2, 3, 4, 5]\n",
    "a * b"
   ]
  },
  {
   "cell_type": "markdown",
   "id": "e054c0fd",
   "metadata": {},
   "source": [
    "В данном примере, без всяких циклов, мы умножили каждый столбец из массива a на соответствующий элемент из массива b.\n",
    "\n",
    "\n",
    "Т.е. мы как бы транслировали (в какой-то степени можно сказать - растянули) массив b по массиву a."
   ]
  },
  {
   "cell_type": "markdown",
   "id": "bd48761b",
   "metadata": {},
   "source": [
    "То же самое мы можем проделать с каждой строкой массива a:"
   ]
  },
  {
   "cell_type": "code",
   "execution_count": 35,
   "id": "40ddc3f9",
   "metadata": {},
   "outputs": [
    {
     "data": {
      "text/plain": [
       "array([[10, 11, 12, 13],\n",
       "       [24, 25, 26, 27],\n",
       "       [38, 39, 40, 41]])"
      ]
     },
     "execution_count": 35,
     "metadata": {},
     "output_type": "execute_result"
    }
   ],
   "source": [
    "c = [[10],\n",
    "     [20],\n",
    "     [30]]\n",
    "a + c"
   ]
  },
  {
   "cell_type": "markdown",
   "id": "6564edaf",
   "metadata": {},
   "source": [
    "В данном случае мы просто прибавили к массиву a массив-столбец c. И получили, то что хотели.\n",
    "\n",
    "При работе с двумерными или трехмерными массивами, особенно с массивами большей размерности, становится очень важным удобство работы с элементами массива, которые расположены вдоль отдельных измерений - его осей.\n",
    "\n",
    "Например, у нас есть двумерный массив и мы хотим узнать его минимальные элементы по строкам и столбцам.\n",
    "\n",
    "Для начала создадим массив из случайных чисел и пусть, для нашего удобства, эти числа будут целыми:"
   ]
  },
  {
   "cell_type": "code",
   "execution_count": 42,
   "id": "c1706c8c",
   "metadata": {},
   "outputs": [
    {
     "data": {
      "text/plain": [
       "array([[ 1,  9, 13,  5, 11,  3],\n",
       "       [ 6,  3,  8,  0,  3,  9],\n",
       "       [10,  5,  9,  2,  3,  2],\n",
       "       [ 7,  9, 10, 11,  5,  4]])"
      ]
     },
     "execution_count": 42,
     "metadata": {},
     "output_type": "execute_result"
    }
   ],
   "source": [
    "a = np.random.randint(0, 15, size=(4, 6))\n",
    "a"
   ]
  },
  {
   "cell_type": "markdown",
   "id": "8218fc84",
   "metadata": {},
   "source": [
    "Минимальный элемент в данном массиве это:"
   ]
  },
  {
   "cell_type": "code",
   "execution_count": 41,
   "id": "5ad84ec7",
   "metadata": {},
   "outputs": [
    {
     "data": {
      "text/plain": [
       "-15"
      ]
     },
     "execution_count": 41,
     "metadata": {},
     "output_type": "execute_result"
    }
   ],
   "source": [
    "a.min()"
   ]
  },
  {
   "cell_type": "code",
   "execution_count": 39,
   "id": "d3105f2d",
   "metadata": {},
   "outputs": [
    {
     "data": {
      "text/plain": [
       "1"
      ]
     },
     "execution_count": 39,
     "metadata": {},
     "output_type": "execute_result"
    }
   ],
   "source": [
    "b = [1, 2, 3]\n",
    "min(b)"
   ]
  },
  {
   "cell_type": "markdown",
   "id": "21c58116",
   "metadata": {},
   "source": [
    "А вот минимальные элементы по столбцам и строкам:"
   ]
  },
  {
   "cell_type": "code",
   "execution_count": 43,
   "id": "2a50b6e6",
   "metadata": {},
   "outputs": [
    {
     "data": {
      "text/plain": [
       "array([1, 3, 8, 0, 3, 2])"
      ]
     },
     "execution_count": 43,
     "metadata": {},
     "output_type": "execute_result"
    }
   ],
   "source": [
    "a.min(axis=0)    #  минимальные элементы по столбцам"
   ]
  },
  {
   "cell_type": "code",
   "execution_count": 44,
   "id": "28af6a9e",
   "metadata": {},
   "outputs": [
    {
     "data": {
      "text/plain": [
       "array([1, 0, 2, 4])"
      ]
     },
     "execution_count": 44,
     "metadata": {},
     "output_type": "execute_result"
    }
   ],
   "source": [
    "a.min(axis=1)    #  минимальные элементы по строкам"
   ]
  },
  {
   "cell_type": "markdown",
   "id": "0f4c1d9d",
   "metadata": {},
   "source": [
    "Такое поведение заложено практически во все функции и методы NumPy:"
   ]
  },
  {
   "cell_type": "code",
   "execution_count": 45,
   "id": "e4728d17",
   "metadata": {},
   "outputs": [
    {
     "data": {
      "text/plain": [
       "array([ 6. ,  6.5, 10. ,  4.5,  5.5,  4.5])"
      ]
     },
     "execution_count": 45,
     "metadata": {},
     "output_type": "execute_result"
    }
   ],
   "source": [
    "a.mean(axis=0)   #  среднее по столбцам"
   ]
  },
  {
   "cell_type": "code",
   "execution_count": 46,
   "id": "4eeedde4",
   "metadata": {},
   "outputs": [
    {
     "data": {
      "text/plain": [
       "array([4.3204938 , 3.13138237, 3.23608131, 2.56038192])"
      ]
     },
     "execution_count": 46,
     "metadata": {},
     "output_type": "execute_result"
    }
   ],
   "source": [
    "np.std(a, axis=1)    #  стандартное отклонение по строкам"
   ]
  },
  {
   "cell_type": "markdown",
   "id": "ae2605c5",
   "metadata": {},
   "source": [
    "Что насчет вычислений, их скорости и занимаемой памяти?\n",
    "\n",
    "Для примера, создадим трехмерный массив:"
   ]
  },
  {
   "cell_type": "code",
   "execution_count": 4,
   "id": "a8cae37d",
   "metadata": {},
   "outputs": [
    {
     "data": {
      "text/plain": [
       "[[[1]], [[2]], [[3]]]"
      ]
     },
     "execution_count": 4,
     "metadata": {},
     "output_type": "execute_result"
    }
   ],
   "source": [
    "[[[1]], [[2]], [[3]]]"
   ]
  },
  {
   "cell_type": "code",
   "execution_count": 47,
   "id": "904f1ed7",
   "metadata": {},
   "outputs": [
    {
     "data": {
      "text/plain": [
       "array([[[ 0,  1,  2,  3],\n",
       "        [ 4,  5,  6,  7],\n",
       "        [ 8,  9, 10, 11]],\n",
       "\n",
       "       [[12, 13, 14, 15],\n",
       "        [16, 17, 18, 19],\n",
       "        [20, 21, 22, 23]],\n",
       "\n",
       "       [[24, 25, 26, 27],\n",
       "        [28, 29, 30, 31],\n",
       "        [32, 33, 34, 35]],\n",
       "\n",
       "       [[36, 37, 38, 39],\n",
       "        [40, 41, 42, 43],\n",
       "        [44, 45, 46, 47]]])"
      ]
     },
     "execution_count": 47,
     "metadata": {},
     "output_type": "execute_result"
    }
   ],
   "source": [
    "a = np.arange(48).reshape(4, 3, 4)\n",
    "a"
   ]
  },
  {
   "cell_type": "markdown",
   "id": "139b58eb",
   "metadata": {},
   "source": [
    "Почему именно трехмерный?\n",
    "\n",
    "На самом деле реальный мир вовсе не ограничивается таблицами, векторами и матрицами.\n",
    "\n",
    "Еще существуют тензоры, кватернионы, октавы. А некоторые данные, гораздо удобнее представлять именно в трехмерном и четырехмерном представлении:"
   ]
  },
  {
   "cell_type": "markdown",
   "id": "a1fa1ffd",
   "metadata": {},
   "source": [
    "![image](3nd_array.jpg)"
   ]
  },
  {
   "cell_type": "markdown",
   "id": "c43c4d8c",
   "metadata": {},
   "source": [
    "Визуализация (и хорошее воображение) позволяет сразу догадаться, как устроена индексация трехмерных массивов. Например, если нам нужно вытащить из данного массива число 31, то достаточно выполнить:"
   ]
  },
  {
   "cell_type": "code",
   "execution_count": 48,
   "id": "e4cb8899",
   "metadata": {},
   "outputs": [
    {
     "data": {
      "text/plain": [
       "31"
      ]
     },
     "execution_count": 48,
     "metadata": {},
     "output_type": "execute_result"
    }
   ],
   "source": [
    "a[2][1][3]    #  или a[2, 1, 3]"
   ]
  },
  {
   "cell_type": "code",
   "execution_count": 49,
   "id": "fcaf5700",
   "metadata": {},
   "outputs": [
    {
     "data": {
      "text/plain": [
       "31"
      ]
     },
     "execution_count": 49,
     "metadata": {},
     "output_type": "execute_result"
    }
   ],
   "source": [
    "a[2, 1, 3]"
   ]
  },
  {
   "cell_type": "markdown",
   "id": "cc068eec",
   "metadata": {},
   "source": [
    "В самом деле, у массивов есть целый ряд важных атрибутов. Например, количество осей массива (его размерность), которую при работе с очень большими массивами, не всегда легко увидеть:"
   ]
  },
  {
   "cell_type": "code",
   "execution_count": 50,
   "id": "54a4a214",
   "metadata": {},
   "outputs": [
    {
     "data": {
      "text/plain": [
       "3"
      ]
     },
     "execution_count": 50,
     "metadata": {},
     "output_type": "execute_result"
    }
   ],
   "source": [
    "a.ndim"
   ]
  },
  {
   "cell_type": "markdown",
   "id": "d5f22403",
   "metadata": {},
   "source": [
    "Массив a действительно трехмерный.\n",
    "\n",
    "Но иногда становится интересно, а на сколько же большой массив перед нами. Например, какой он формы, т.е. сколько элементов расположено вдоль каждой оси? Ответить позволяет метод ndarray.shape:"
   ]
  },
  {
   "cell_type": "code",
   "execution_count": 51,
   "id": "03f265fa",
   "metadata": {},
   "outputs": [
    {
     "data": {
      "text/plain": [
       "(4, 3, 4)"
      ]
     },
     "execution_count": 51,
     "metadata": {},
     "output_type": "execute_result"
    }
   ],
   "source": [
    "a.shape"
   ]
  },
  {
   "cell_type": "markdown",
   "id": "6f315ec0",
   "metadata": {},
   "source": [
    "Метод ndarray.size просто возвращает общее количество элементов массива:"
   ]
  },
  {
   "cell_type": "code",
   "execution_count": 52,
   "id": "85fcb7da",
   "metadata": {},
   "outputs": [
    {
     "data": {
      "text/plain": [
       "48"
      ]
     },
     "execution_count": 52,
     "metadata": {},
     "output_type": "execute_result"
    }
   ],
   "source": [
    "a.size"
   ]
  },
  {
   "cell_type": "markdown",
   "id": "0479d230",
   "metadata": {},
   "source": [
    "Еще может встать такой вопрос - сколько памяти занимает наш массив?\n",
    "\n",
    "Иногда даже возникает такой вопрос - влезет ли результирующий массив после всех вычислений в оперативную память?\n",
    "\n",
    "Что бы на него ответить надо знать, сколько \"весит\" один элемент массива:"
   ]
  },
  {
   "cell_type": "code",
   "execution_count": 53,
   "id": "ce6e8ac1",
   "metadata": {},
   "outputs": [
    {
     "data": {
      "text/plain": [
       "4"
      ]
     },
     "execution_count": 53,
     "metadata": {},
     "output_type": "execute_result"
    }
   ],
   "source": [
    "a.itemsize    #  эквивалентно ndarray.dtype.itemsize"
   ]
  },
  {
   "cell_type": "markdown",
   "id": "f15e1d4d",
   "metadata": {},
   "source": [
    "ndarray.itemsize возвращает размер элемента в байтах.\n",
    "\n",
    "Теперь мы можем узнать сколько \"весит\" наш массив:"
   ]
  },
  {
   "cell_type": "code",
   "execution_count": 54,
   "id": "170e8731",
   "metadata": {},
   "outputs": [
    {
     "data": {
      "text/plain": [
       "192"
      ]
     },
     "execution_count": 54,
     "metadata": {},
     "output_type": "execute_result"
    }
   ],
   "source": [
    "a.size * a.itemsize"
   ]
  },
  {
   "cell_type": "markdown",
   "id": "c24dc5ab",
   "metadata": {},
   "source": [
    "Итого - 192 байта. На самом деле, размер занимаемой массивом памяти, зависит не только от количества элементов в нем, но и от испльзуемого типа данных:"
   ]
  },
  {
   "cell_type": "code",
   "execution_count": 55,
   "id": "f849ab11",
   "metadata": {},
   "outputs": [
    {
     "data": {
      "text/plain": [
       "dtype('int32')"
      ]
     },
     "execution_count": 55,
     "metadata": {},
     "output_type": "execute_result"
    }
   ],
   "source": [
    "a.dtype"
   ]
  },
  {
   "cell_type": "markdown",
   "id": "308cb2c4",
   "metadata": {},
   "source": [
    "dtype('int32') - означает, что используется целочисленный тип данных, в котором для хранения одного числа выделяется 64 бита памяти.\n",
    "\n",
    "Но если мы выполним какие-нибудь вычисления с массивом, то тип данных может измениться:"
   ]
  },
  {
   "cell_type": "code",
   "execution_count": 56,
   "id": "63381bbc",
   "metadata": {},
   "outputs": [
    {
     "data": {
      "text/plain": [
       "array([[[ 0.        ,  0.31847134,  0.63694268,  0.95541401],\n",
       "        [ 1.27388535,  1.59235669,  1.91082803,  2.22929936],\n",
       "        [ 2.5477707 ,  2.86624204,  3.18471338,  3.50318471]],\n",
       "\n",
       "       [[ 3.82165605,  4.14012739,  4.45859873,  4.77707006],\n",
       "        [ 5.0955414 ,  5.41401274,  5.73248408,  6.05095541],\n",
       "        [ 6.36942675,  6.68789809,  7.00636943,  7.32484076]],\n",
       "\n",
       "       [[ 7.6433121 ,  7.96178344,  8.28025478,  8.59872611],\n",
       "        [ 8.91719745,  9.23566879,  9.55414013,  9.87261146],\n",
       "        [10.1910828 , 10.50955414, 10.82802548, 11.14649682]],\n",
       "\n",
       "       [[11.46496815, 11.78343949, 12.10191083, 12.42038217],\n",
       "        [12.7388535 , 13.05732484, 13.37579618, 13.69426752],\n",
       "        [14.01273885, 14.33121019, 14.64968153, 14.96815287]]])"
      ]
     },
     "execution_count": 56,
     "metadata": {},
     "output_type": "execute_result"
    }
   ],
   "source": [
    "b = a/3.14\n",
    "b"
   ]
  },
  {
   "cell_type": "code",
   "execution_count": 57,
   "id": "34587773",
   "metadata": {},
   "outputs": [
    {
     "data": {
      "text/plain": [
       "dtype('float64')"
      ]
     },
     "execution_count": 57,
     "metadata": {},
     "output_type": "execute_result"
    }
   ],
   "source": [
    "b.dtype"
   ]
  },
  {
   "cell_type": "markdown",
   "id": "ac61e592",
   "metadata": {},
   "source": [
    "Теперь у нас есть еще один массив - массив b и его тип данных 'float64' - вещественные числа (числа с плавающей точкой) длинной 64 бита.\n",
    "\n",
    "А его размер:"
   ]
  },
  {
   "cell_type": "code",
   "execution_count": 58,
   "id": "15393d1d",
   "metadata": {},
   "outputs": [
    {
     "data": {
      "text/plain": [
       "384"
      ]
     },
     "execution_count": 58,
     "metadata": {},
     "output_type": "execute_result"
    }
   ],
   "source": [
    "b.size * b.itemsize"
   ]
  },
  {
   "cell_type": "markdown",
   "id": "9c7fb365",
   "metadata": {},
   "source": [
    "Занимаемый объём памяти увеличился с 192 до 384 байт."
   ]
  },
  {
   "cell_type": "markdown",
   "id": "bf2c86a0",
   "metadata": {},
   "source": [
    "# Создание массивов NumPy"
   ]
  },
  {
   "cell_type": "markdown",
   "id": "043e3ab7",
   "metadata": {},
   "source": [
    "Обзор методов создания массивов\n",
    "https://pyprog.pro/array_creation/array_creation_functions.html"
   ]
  },
  {
   "cell_type": "markdown",
   "id": "7fc29cb5",
   "metadata": {},
   "source": [
    "И так, массив может быть создан из обычного списка или кортежа Python с использованием функции array().\n",
    "\n",
    "Причем тип полученного массива зависит от типа элементов последовательности:"
   ]
  },
  {
   "cell_type": "code",
   "execution_count": 59,
   "id": "7564b18c",
   "metadata": {},
   "outputs": [
    {
     "data": {
      "text/plain": [
       "array([1, 2, 3])"
      ]
     },
     "execution_count": 59,
     "metadata": {},
     "output_type": "execute_result"
    }
   ],
   "source": [
    "import numpy as np\n",
    "\n",
    "a = np.array([1, 2, 3])\n",
    "a"
   ]
  },
  {
   "cell_type": "code",
   "execution_count": 60,
   "id": "2f1cbee3",
   "metadata": {},
   "outputs": [
    {
     "data": {
      "text/plain": [
       "dtype('int32')"
      ]
     },
     "execution_count": 60,
     "metadata": {},
     "output_type": "execute_result"
    }
   ],
   "source": [
    "a.dtype"
   ]
  },
  {
   "cell_type": "code",
   "execution_count": 61,
   "id": "c10e2eec",
   "metadata": {},
   "outputs": [
    {
     "data": {
      "text/plain": [
       "array([1.1, 2.2, 3.3])"
      ]
     },
     "execution_count": 61,
     "metadata": {},
     "output_type": "execute_result"
    }
   ],
   "source": [
    "a = np.array([1.1, 2.2, 3.3])\n",
    "a"
   ]
  },
  {
   "cell_type": "code",
   "execution_count": 62,
   "id": "3ff71e2f",
   "metadata": {},
   "outputs": [
    {
     "data": {
      "text/plain": [
       "dtype('float64')"
      ]
     },
     "execution_count": 62,
     "metadata": {},
     "output_type": "execute_result"
    }
   ],
   "source": [
    "a.dtype"
   ]
  },
  {
   "cell_type": "code",
   "execution_count": 63,
   "id": "7af81192",
   "metadata": {},
   "outputs": [
    {
     "data": {
      "text/plain": [
       "array([1, 2, 3])"
      ]
     },
     "execution_count": 63,
     "metadata": {},
     "output_type": "execute_result"
    }
   ],
   "source": [
    "a = np.array((1, 2, 3))\n",
    "a"
   ]
  },
  {
   "cell_type": "code",
   "execution_count": 64,
   "id": "c1884201",
   "metadata": {},
   "outputs": [
    {
     "data": {
      "text/plain": [
       "dtype('int32')"
      ]
     },
     "execution_count": 64,
     "metadata": {},
     "output_type": "execute_result"
    }
   ],
   "source": [
    "a.dtype"
   ]
  },
  {
   "cell_type": "markdown",
   "id": "eab396f2",
   "metadata": {},
   "source": [
    "Функция array() преобразует последовательности последовательностей в двумерные массивы, а последовательности последовательностей, которые тоже состоят из последовательностей в трехмерные массивы.\n",
    "\n",
    "То есть уровень вложенности исходной последовательности определяет размерность получаемого массива:"
   ]
  },
  {
   "cell_type": "code",
   "execution_count": 65,
   "id": "60deb840",
   "metadata": {},
   "outputs": [
    {
     "data": {
      "text/plain": [
       "array([[ 2,  4],\n",
       "       [ 6,  8],\n",
       "       [10, 12]])"
      ]
     },
     "execution_count": 65,
     "metadata": {},
     "output_type": "execute_result"
    }
   ],
   "source": [
    "a = np.array([[2, 4], [6, 8], [10, 12]])\n",
    "a"
   ]
  },
  {
   "cell_type": "code",
   "execution_count": 66,
   "id": "bf3e2912",
   "metadata": {},
   "outputs": [
    {
     "data": {
      "text/plain": [
       "2"
      ]
     },
     "execution_count": 66,
     "metadata": {},
     "output_type": "execute_result"
    }
   ],
   "source": [
    "a.ndim    #  Количество осей массива"
   ]
  },
  {
   "cell_type": "code",
   "execution_count": 67,
   "id": "b3098ecb",
   "metadata": {},
   "outputs": [
    {
     "data": {
      "text/plain": [
       "array([[[ 1,  2],\n",
       "        [ 3,  4]],\n",
       "\n",
       "       [[ 5,  6],\n",
       "        [ 7,  8]],\n",
       "\n",
       "       [[ 9, 10],\n",
       "        [11, 12]]])"
      ]
     },
     "execution_count": 67,
     "metadata": {},
     "output_type": "execute_result"
    }
   ],
   "source": [
    "b = np.array([[[1, 2], [3, 4]],\n",
    "              [[5, 6], [7, 8]],\n",
    "              [[9, 10], [11, 12]]])\n",
    "b"
   ]
  },
  {
   "cell_type": "code",
   "execution_count": 68,
   "id": "b3c10519",
   "metadata": {},
   "outputs": [
    {
     "data": {
      "text/plain": [
       "3"
      ]
     },
     "execution_count": 68,
     "metadata": {},
     "output_type": "execute_result"
    }
   ],
   "source": [
    "b.ndim"
   ]
  },
  {
   "cell_type": "markdown",
   "id": "49cfadc4",
   "metadata": {},
   "source": [
    "Очень часто возникает задача создания массива определенного размера, причем, чем заполнен массив абсолютно неважно.\n",
    "\n",
    "В этом случае можно воспользоваться циклами или генераторами списков (кортежей), но NumPy для таких случаев предлагает более быстрые и менее затратные функции-заполнители.\n",
    "\n",
    "Функция zeros заполняет массив нулями, функция ones - единицами, а функция empty - случайными числами, которые зависят от состояния памяти.\n",
    "\n",
    "По умолчанию, тип создаваемого массива - float64."
   ]
  },
  {
   "cell_type": "code",
   "execution_count": 69,
   "id": "3d023e0e",
   "metadata": {},
   "outputs": [
    {
     "data": {
      "text/plain": [
       "array([[0., 0., 0.],\n",
       "       [0., 0., 0.],\n",
       "       [0., 0., 0.]])"
      ]
     },
     "execution_count": 69,
     "metadata": {},
     "output_type": "execute_result"
    }
   ],
   "source": [
    "np.zeros((3,3))"
   ]
  },
  {
   "cell_type": "code",
   "execution_count": 70,
   "id": "3207dd3d",
   "metadata": {},
   "outputs": [
    {
     "data": {
      "text/plain": [
       "array([[1., 1., 1.],\n",
       "       [1., 1., 1.],\n",
       "       [1., 1., 1.]])"
      ]
     },
     "execution_count": 70,
     "metadata": {},
     "output_type": "execute_result"
    }
   ],
   "source": [
    "np.ones((3,3))"
   ]
  },
  {
   "cell_type": "code",
   "execution_count": 71,
   "id": "bf0b4d48",
   "metadata": {},
   "outputs": [
    {
     "data": {
      "text/plain": [
       "array([[1.+0.j, 1.+0.j, 1.+0.j],\n",
       "       [1.+0.j, 1.+0.j, 1.+0.j],\n",
       "       [1.+0.j, 1.+0.j, 1.+0.j]])"
      ]
     },
     "execution_count": 71,
     "metadata": {},
     "output_type": "execute_result"
    }
   ],
   "source": [
    "np.ones((3,3), dtype=complex)  #  Можно изменить тип массива"
   ]
  },
  {
   "cell_type": "code",
   "execution_count": 80,
   "id": "19a375eb",
   "metadata": {},
   "outputs": [],
   "source": [
    "np.random.seed(100)"
   ]
  },
  {
   "cell_type": "code",
   "execution_count": 81,
   "id": "5f541a28",
   "metadata": {},
   "outputs": [
    {
     "data": {
      "text/plain": [
       "array([[0., 0., 0.],\n",
       "       [0., 0., 0.],\n",
       "       [0., 0., 0.]])"
      ]
     },
     "execution_count": 81,
     "metadata": {},
     "output_type": "execute_result"
    }
   ],
   "source": [
    "np.empty([3, 3])"
   ]
  },
  {
   "cell_type": "markdown",
   "id": "cc3d69c4",
   "metadata": {},
   "source": [
    "Для создания последовательностей чисел NumPy предоставляет функцию arange, которая возвращает одномерные массивы:"
   ]
  },
  {
   "cell_type": "code",
   "execution_count": 82,
   "id": "9efb5f14",
   "metadata": {},
   "outputs": [
    {
     "data": {
      "text/plain": [
       "array([0, 1, 2, 3, 4, 5, 6, 7, 8, 9])"
      ]
     },
     "execution_count": 82,
     "metadata": {},
     "output_type": "execute_result"
    }
   ],
   "source": [
    "np.arange(10)    #  От 0 до указанного числа"
   ]
  },
  {
   "cell_type": "code",
   "execution_count": 83,
   "id": "75de4ebf",
   "metadata": {},
   "outputs": [
    {
     "data": {
      "text/plain": [
       "array([10, 11, 12, 13, 14, 15, 16, 17, 18, 19])"
      ]
     },
     "execution_count": 83,
     "metadata": {},
     "output_type": "execute_result"
    }
   ],
   "source": [
    "np.arange(10, 20)    #  Диапазон"
   ]
  },
  {
   "cell_type": "code",
   "execution_count": 84,
   "id": "8d77bbf9",
   "metadata": {},
   "outputs": [
    {
     "data": {
      "text/plain": [
       "array([20, 30, 40, 50, 60, 70, 80, 90])"
      ]
     },
     "execution_count": 84,
     "metadata": {},
     "output_type": "execute_result"
    }
   ],
   "source": [
    "np.arange(20, 100, 10)    #  Диапазон с заданным шагом"
   ]
  },
  {
   "cell_type": "code",
   "execution_count": 85,
   "id": "1be0e44a",
   "metadata": {},
   "outputs": [
    {
     "data": {
      "text/plain": [
       "array([0. , 0.1, 0.2, 0.3, 0.4, 0.5, 0.6, 0.7, 0.8, 0.9])"
      ]
     },
     "execution_count": 85,
     "metadata": {},
     "output_type": "execute_result"
    }
   ],
   "source": [
    "np.arange(0, 1, 0.1)    #  Аргументы могут иметь тип float"
   ]
  },
  {
   "cell_type": "markdown",
   "id": "05f02e9a",
   "metadata": {},
   "source": [
    "Если функция arange используется с аргументами типа float, то предсказать количество элементов в возвращаемом массиве не так-то просто.\n",
    "\n",
    "Гораздо чаще возникает необходимость указания не шага изменения чисел в диапазоне, а количества чисел в заданном диапазоне.\n",
    "\n",
    "Функция linspace, так же как и arange принимает три аргумента, но третий аргумент, как раз и указывает количество чисел в диапазоне."
   ]
  },
  {
   "cell_type": "code",
   "execution_count": 86,
   "id": "38e44b8f",
   "metadata": {},
   "outputs": [
    {
     "data": {
      "text/plain": [
       "array([0.  , 0.25, 0.5 , 0.75, 1.  ])"
      ]
     },
     "execution_count": 86,
     "metadata": {},
     "output_type": "execute_result"
    }
   ],
   "source": [
    "np.linspace(0, 1, 5)"
   ]
  },
  {
   "cell_type": "code",
   "execution_count": 87,
   "id": "46655c92",
   "metadata": {},
   "outputs": [
    {
     "data": {
      "text/plain": [
       "array([0.        , 0.16666667, 0.33333333, 0.5       , 0.66666667,\n",
       "       0.83333333, 1.        ])"
      ]
     },
     "execution_count": 87,
     "metadata": {},
     "output_type": "execute_result"
    }
   ],
   "source": [
    "np.linspace(0, 1, 7)"
   ]
  },
  {
   "cell_type": "code",
   "execution_count": 88,
   "id": "6b582d15",
   "metadata": {},
   "outputs": [
    {
     "data": {
      "text/plain": [
       "array([ 10. ,  32.5,  55. ,  77.5, 100. ])"
      ]
     },
     "execution_count": 88,
     "metadata": {},
     "output_type": "execute_result"
    }
   ],
   "source": [
    "np.linspace(10, 100, 5)"
   ]
  },
  {
   "cell_type": "markdown",
   "id": "7d5cd68f",
   "metadata": {},
   "source": [
    "Функция linspace удобна еще и тем, что может быть использована для вычисления значений функций на заданном множестве точек:"
   ]
  },
  {
   "cell_type": "code",
   "execution_count": 90,
   "id": "47061a29",
   "metadata": {},
   "outputs": [
    {
     "data": {
      "text/plain": [
       "array([0.        , 0.6981317 , 1.3962634 , 2.0943951 , 2.7925268 ,\n",
       "       3.4906585 , 4.1887902 , 4.88692191, 5.58505361, 6.28318531])"
      ]
     },
     "execution_count": 90,
     "metadata": {},
     "output_type": "execute_result"
    }
   ],
   "source": [
    "x = np.linspace(0, 2*np.pi, 10)\n",
    "x"
   ]
  },
  {
   "cell_type": "code",
   "execution_count": 91,
   "id": "aa7875a9",
   "metadata": {},
   "outputs": [
    {
     "data": {
      "text/plain": [
       "array([ 0.00000000e+00,  6.42787610e-01,  9.84807753e-01,  8.66025404e-01,\n",
       "        3.42020143e-01, -3.42020143e-01, -8.66025404e-01, -9.84807753e-01,\n",
       "       -6.42787610e-01, -2.44929360e-16])"
      ]
     },
     "execution_count": 91,
     "metadata": {},
     "output_type": "execute_result"
    }
   ],
   "source": [
    "y1 = np.sin(x)\n",
    "y1"
   ]
  },
  {
   "cell_type": "code",
   "execution_count": 92,
   "id": "1d6ba643",
   "metadata": {},
   "outputs": [
    {
     "data": {
      "text/plain": [
       "array([ 1.        ,  0.76604444,  0.17364818, -0.5       , -0.93969262,\n",
       "       -0.93969262, -0.5       ,  0.17364818,  0.76604444,  1.        ])"
      ]
     },
     "execution_count": 92,
     "metadata": {},
     "output_type": "execute_result"
    }
   ],
   "source": [
    "y2 = np.cos(x)\n",
    "y2"
   ]
  },
  {
   "cell_type": "markdown",
   "id": "f0262ef0",
   "metadata": {},
   "source": [
    "# Вывод массивов на экран"
   ]
  },
  {
   "cell_type": "markdown",
   "id": "eae43310",
   "metadata": {},
   "source": [
    "Чтобы быстрее разобраться с примерами печати массивов воспользуемся методом ndarray.reshape(), который позволяет изменять размеры массивов.\n",
    "\n",
    "Одномерные массивы в NumPy печатаются в виде строк:"
   ]
  },
  {
   "cell_type": "code",
   "execution_count": 93,
   "id": "31921c6f",
   "metadata": {},
   "outputs": [
    {
     "name": "stdout",
     "output_type": "stream",
     "text": [
      "[0 1 2 3 4 5 6 7 8 9]\n"
     ]
    }
   ],
   "source": [
    "a = np.arange(10)    #  Одномерный массив\n",
    "print(a)"
   ]
  },
  {
   "cell_type": "code",
   "execution_count": 94,
   "id": "c37f7944",
   "metadata": {},
   "outputs": [
    {
     "name": "stdout",
     "output_type": "stream",
     "text": [
      "[[ 0  1  2  3]\n",
      " [ 4  5  6  7]\n",
      " [ 8  9 10 11]\n",
      " [12 13 14 15]]\n"
     ]
    }
   ],
   "source": [
    "b = np.arange(16).reshape(4, 4)    #  Двумерный массив\n",
    "print(b)"
   ]
  },
  {
   "cell_type": "code",
   "execution_count": 95,
   "id": "f24a9241",
   "metadata": {},
   "outputs": [
    {
     "name": "stdout",
     "output_type": "stream",
     "text": [
      "[[[ 0  1  2]\n",
      "  [ 3  4  5]\n",
      "  [ 6  7  8]]\n",
      "\n",
      " [[ 9 10 11]\n",
      "  [12 13 14]\n",
      "  [15 16 17]]\n",
      "\n",
      " [[18 19 20]\n",
      "  [21 22 23]\n",
      "  [24 25 26]]]\n"
     ]
    }
   ],
   "source": [
    "b = np.arange(27).reshape(3, 3, 3)    #  Двумерный массив\n",
    "print(b)"
   ]
  },
  {
   "cell_type": "markdown",
   "id": "a4c3f7e7",
   "metadata": {},
   "source": [
    "Трехмерные массивы печатаются в виде списка матриц, которые разделены пустой строкой:"
   ]
  },
  {
   "cell_type": "code",
   "execution_count": 96,
   "id": "99ccc28c",
   "metadata": {},
   "outputs": [
    {
     "name": "stdout",
     "output_type": "stream",
     "text": [
      "[[[ 0  1  2]\n",
      "  [ 3  4  5]]\n",
      "\n",
      " [[ 6  7  8]\n",
      "  [ 9 10 11]]\n",
      "\n",
      " [[12 13 14]\n",
      "  [15 16 17]]\n",
      "\n",
      " [[18 19 20]\n",
      "  [21 22 23]]\n",
      "\n",
      " [[24 25 26]\n",
      "  [27 28 29]]]\n"
     ]
    }
   ],
   "source": [
    "c = np.arange(30).reshape(5, 2, 3)    #  Трехмерный массив\n",
    "print(c)"
   ]
  },
  {
   "cell_type": "markdown",
   "id": "a3fac496",
   "metadata": {},
   "source": [
    "Можете поэкспериментировать с печатью массивов большей размерности и вы убедитесь, что в ней довольно легко ориентироваться.\n",
    "\n",
    "В случае, если массив очень большой (больше 1000 элементов), NumPy печатает только начало и конец массива, заменяя его центральную часть многоточием."
   ]
  },
  {
   "cell_type": "code",
   "execution_count": 97,
   "id": "7049a220",
   "metadata": {},
   "outputs": [
    {
     "name": "stdout",
     "output_type": "stream",
     "text": [
      "[   0    1    2 ...  998  999 1000]\n"
     ]
    }
   ],
   "source": [
    "print(np.arange(1001))"
   ]
  },
  {
   "cell_type": "code",
   "execution_count": 98,
   "id": "9887fa56",
   "metadata": {},
   "outputs": [
    {
     "name": "stdout",
     "output_type": "stream",
     "text": [
      "[     0      1      2 ... 999997 999998 999999]\n"
     ]
    }
   ],
   "source": [
    "print(np.arange(1000000))"
   ]
  },
  {
   "cell_type": "code",
   "execution_count": 99,
   "id": "ed045ccf",
   "metadata": {},
   "outputs": [
    {
     "name": "stdout",
     "output_type": "stream",
     "text": [
      "[[     0      1      2 ...    997    998    999]\n",
      " [  1000   1001   1002 ...   1997   1998   1999]\n",
      " [  2000   2001   2002 ...   2997   2998   2999]\n",
      " ...\n",
      " [997000 997001 997002 ... 997997 997998 997999]\n",
      " [998000 998001 998002 ... 998997 998998 998999]\n",
      " [999000 999001 999002 ... 999997 999998 999999]]\n"
     ]
    }
   ],
   "source": [
    "print(np.arange(1000000).reshape(1000,1000))"
   ]
  },
  {
   "cell_type": "markdown",
   "id": "7f5e2cfb",
   "metadata": {},
   "source": [
    "Если необходимо выводить весь массив целиком, то такое поведение печати можно изменить с помощью `set_printoptions`.\n",
    "\n",
    "> np.set_printoptions(threshold=np.nan)"
   ]
  },
  {
   "cell_type": "markdown",
   "id": "ca35eb33",
   "metadata": {},
   "source": [
    "# Файловый ввод и вывод массивов\n",
    "Занимаясь научными вычислениями, вы получаете результаты, которые должны быть обязательно сохранены.\n",
    "\n",
    "Самый надежный способ хранения - это загрузка массивов с результатами в файл, так как их легко хранить и передавать.\n",
    "\n",
    "Для данных нужд, NumPy предоставляет очень удобные инструменты, позволяющие производить загрузку и выгрузку массивов в файлы различных форматов, а также производить их сжатие, необходимое для больших массивов."
   ]
  },
  {
   "cell_type": "markdown",
   "id": "cbc54a9f",
   "metadata": {},
   "source": [
    "# Двоичные файлы NumPy (.npy, .npz)\n",
    "NumPy имеет два собственных формата файлов .npy - для хранения массивов без сжатия и .npz - для предварительного сжатия массивов.\n",
    "\n",
    "Если массивы, которые необходимо сохранить являются небольшими, то можно воспользоваться функцией numpy.save(). В самом простом случае, данная функция принимает всего два аргумента - имя файла в который будет сохранен массив и имя самого сохраняемого массива. Однако следует помнить, что файл будет сохранен, в той директории в которой происходит выполнение скрипта Python или в указанном месте:"
   ]
  },
  {
   "cell_type": "code",
   "execution_count": 100,
   "id": "24d1a92a",
   "metadata": {},
   "outputs": [
    {
     "data": {
      "text/plain": [
       "array([[ 0,  1,  2,  3],\n",
       "       [ 4,  5,  6,  7],\n",
       "       [ 8,  9, 10, 11]])"
      ]
     },
     "execution_count": 100,
     "metadata": {},
     "output_type": "execute_result"
    }
   ],
   "source": [
    "import numpy as np\n",
    "\n",
    "a = np.arange(12).reshape(3, 4)\n",
    "a"
   ]
  },
  {
   "cell_type": "code",
   "execution_count": 101,
   "id": "879ce342",
   "metadata": {},
   "outputs": [
    {
     "data": {
      "text/plain": [
       "array([[ 0,  1,  2,  3],\n",
       "       [ 4,  5,  6,  7],\n",
       "       [ 8,  9, 10, 11],\n",
       "       [12, 13, 14, 15]])"
      ]
     },
     "execution_count": 101,
     "metadata": {},
     "output_type": "execute_result"
    }
   ],
   "source": [
    "b = np.arange(16).reshape(4, 4)\n",
    "b"
   ]
  },
  {
   "cell_type": "code",
   "execution_count": 102,
   "id": "f5a36505",
   "metadata": {},
   "outputs": [],
   "source": [
    "#  Файл сохранится в той же папке что и исполняемый скрипт\n",
    "np.save('example_1', a)"
   ]
  },
  {
   "cell_type": "markdown",
   "id": "350ea147",
   "metadata": {},
   "source": [
    "После того как массив сохранен, его можно загрузить из файла с помощью функции numpy.load(), указав в виде строки имя необходимого файла, если он находится в той же директории, что и выполняемый скрипт Python, или путь к нему, если он располагается в другом месте:"
   ]
  },
  {
   "cell_type": "code",
   "execution_count": 103,
   "id": "6a218b4b",
   "metadata": {},
   "outputs": [
    {
     "data": {
      "text/plain": [
       "array([[ 0,  1,  2,  3],\n",
       "       [ 4,  5,  6,  7],\n",
       "       [ 8,  9, 10, 11]])"
      ]
     },
     "execution_count": 103,
     "metadata": {},
     "output_type": "execute_result"
    }
   ],
   "source": [
    "a = np.load('example_1.npy')\n",
    "a"
   ]
  },
  {
   "cell_type": "code",
   "execution_count": 105,
   "id": "56f64bc5",
   "metadata": {},
   "outputs": [
    {
     "data": {
      "text/plain": [
       "array([[ 0,  1,  2,  3],\n",
       "       [ 4,  5,  6,  7],\n",
       "       [ 8,  9, 10, 11]])"
      ]
     },
     "execution_count": 105,
     "metadata": {},
     "output_type": "execute_result"
    }
   ],
   "source": [
    "c = np.load('example_1.npy')\n",
    "c"
   ]
  },
  {
   "cell_type": "markdown",
   "id": "3eacaa0d",
   "metadata": {},
   "source": [
    "Файлы .npy удобны для хранения одного массива, если в одном файле нужно сохранить несколько массивов, то необходимо воспользоваться функцией numpy.savez(), которая сохранит их в несжатом виде в файле NumPy с форматом .npz."
   ]
  },
  {
   "cell_type": "code",
   "execution_count": 106,
   "id": "ebfb8c4d",
   "metadata": {},
   "outputs": [],
   "source": [
    "a = np.array([1, 2, 3])\n",
    "b = np.array([[1, 1], [0, 0]])\n",
    "c = np.array([[1], [2], [3]])\n",
    "\n",
    "np.savez('example_2', a, b, c)"
   ]
  },
  {
   "cell_type": "markdown",
   "id": "cfbf1c80",
   "metadata": {},
   "source": [
    "После сохранения массивов в файл .npz они могут быть загружены с помощью, уже знакомой нам функции numpy.load(). Однако, имена массивов теперь изменились с a, b и c на arr_0, arr_1 и arr_2 соответственно:"
   ]
  },
  {
   "cell_type": "code",
   "execution_count": 107,
   "id": "fd95d9b1",
   "metadata": {},
   "outputs": [],
   "source": [
    "ex_2 = np.load('example_2.npz')"
   ]
  },
  {
   "cell_type": "code",
   "execution_count": 108,
   "id": "73cef377",
   "metadata": {},
   "outputs": [
    {
     "data": {
      "text/plain": [
       "['arr_0', 'arr_1', 'arr_2']"
      ]
     },
     "execution_count": 108,
     "metadata": {},
     "output_type": "execute_result"
    }
   ],
   "source": [
    "ex_2.files"
   ]
  },
  {
   "cell_type": "code",
   "execution_count": 109,
   "id": "ece0be1a",
   "metadata": {},
   "outputs": [
    {
     "data": {
      "text/plain": [
       "array([1, 2, 3])"
      ]
     },
     "execution_count": 109,
     "metadata": {},
     "output_type": "execute_result"
    }
   ],
   "source": [
    "ex_2['arr_0']"
   ]
  },
  {
   "cell_type": "code",
   "execution_count": 110,
   "id": "f822777c",
   "metadata": {},
   "outputs": [
    {
     "data": {
      "text/plain": [
       "array([[1, 1],\n",
       "       [0, 0]])"
      ]
     },
     "execution_count": 110,
     "metadata": {},
     "output_type": "execute_result"
    }
   ],
   "source": [
    "ex_2['arr_1']"
   ]
  },
  {
   "cell_type": "code",
   "execution_count": 111,
   "id": "71d24329",
   "metadata": {},
   "outputs": [
    {
     "data": {
      "text/plain": [
       "array([[1],\n",
       "       [2],\n",
       "       [3]])"
      ]
     },
     "execution_count": 111,
     "metadata": {},
     "output_type": "execute_result"
    }
   ],
   "source": [
    "ex_2['arr_2']"
   ]
  },
  {
   "cell_type": "markdown",
   "id": "006df864",
   "metadata": {},
   "source": [
    "Что бы вместе с массивами сохранялись их оригинальные имена, необходимо в функции numpy.savez() указывать их как ключи словарей Python:"
   ]
  },
  {
   "cell_type": "code",
   "execution_count": 112,
   "id": "e2072cfc",
   "metadata": {},
   "outputs": [],
   "source": [
    "np.savez('example_2', a=a, b=b, c=c)"
   ]
  },
  {
   "cell_type": "code",
   "execution_count": 113,
   "id": "7f89b9f3",
   "metadata": {},
   "outputs": [],
   "source": [
    "ex_2 = np.load('example_2.npz')"
   ]
  },
  {
   "cell_type": "code",
   "execution_count": 114,
   "id": "36aa2d2c",
   "metadata": {},
   "outputs": [
    {
     "data": {
      "text/plain": [
       "['a', 'b', 'c']"
      ]
     },
     "execution_count": 114,
     "metadata": {},
     "output_type": "execute_result"
    }
   ],
   "source": [
    "ex_2.files"
   ]
  },
  {
   "cell_type": "code",
   "execution_count": 115,
   "id": "b99aa8a8",
   "metadata": {},
   "outputs": [
    {
     "data": {
      "text/plain": [
       "array([1, 2, 3])"
      ]
     },
     "execution_count": 115,
     "metadata": {},
     "output_type": "execute_result"
    }
   ],
   "source": [
    "ex_2['a']"
   ]
  },
  {
   "cell_type": "markdown",
   "id": "d98b4b0c",
   "metadata": {},
   "source": [
    "В случае очень больших массивов можно воспользоваться функцией numpy.savez_compressed()."
   ]
  },
  {
   "cell_type": "code",
   "execution_count": 116,
   "id": "18fd3812",
   "metadata": {},
   "outputs": [
    {
     "data": {
      "text/plain": [
       "array([    0,     1,     2, ..., 99997, 99998, 99999])"
      ]
     },
     "execution_count": 116,
     "metadata": {},
     "output_type": "execute_result"
    }
   ],
   "source": [
    "a = np.arange(100000)\n",
    "a"
   ]
  },
  {
   "cell_type": "code",
   "execution_count": 117,
   "id": "b034939d",
   "metadata": {},
   "outputs": [],
   "source": [
    "#  Файл example_3.npy занимает 391 кБ на диске:\n",
    "np.save('example_3', a)\n",
    "\n",
    "#  файл example_3.npynpz занимает всего 136 кБ на диске:\n",
    "np.savez_compressed('example_3', a)"
   ]
  },
  {
   "cell_type": "markdown",
   "id": "babe8969",
   "metadata": {},
   "source": [
    "На самом деле, файлы .npz это просто zip-архив который содержит отдельные файлы .npy для каждого массива.\n",
    "\n",
    "После того как файл был загружен с помощью функции numpy.savez_compressed() его так же легко загрузить с помощью функции numpy.load():"
   ]
  },
  {
   "cell_type": "code",
   "execution_count": 118,
   "id": "8d2919e6",
   "metadata": {},
   "outputs": [
    {
     "data": {
      "text/plain": [
       "['arr_0']"
      ]
     },
     "execution_count": 118,
     "metadata": {},
     "output_type": "execute_result"
    }
   ],
   "source": [
    "ex_3 = np.load('example_3.npz')\n",
    "ex_3.files"
   ]
  },
  {
   "cell_type": "code",
   "execution_count": 119,
   "id": "d80ccbb3",
   "metadata": {},
   "outputs": [
    {
     "data": {
      "text/plain": [
       "array([    0,     1,     2, ..., 99997, 99998, 99999])"
      ]
     },
     "execution_count": 119,
     "metadata": {},
     "output_type": "execute_result"
    }
   ],
   "source": [
    "ex_3['arr_0']"
   ]
  },
  {
   "cell_type": "code",
   "execution_count": null,
   "id": "d6d30366",
   "metadata": {},
   "outputs": [],
   "source": []
  },
  {
   "cell_type": "markdown",
   "id": "16b2ce18",
   "metadata": {},
   "source": [
    "# Задания"
   ]
  },
  {
   "cell_type": "markdown",
   "id": "54bb3338",
   "metadata": {},
   "source": [
    "1.Создать вектор (одномерный массив) размера 10, заполненный нулями"
   ]
  },
  {
   "cell_type": "code",
   "execution_count": 120,
   "id": "afdae887",
   "metadata": {},
   "outputs": [
    {
     "data": {
      "text/plain": [
       "array([0., 0., 0., 0., 0., 0., 0., 0., 0., 0.])"
      ]
     },
     "execution_count": 120,
     "metadata": {},
     "output_type": "execute_result"
    }
   ],
   "source": [
    "np.zeros(10)"
   ]
  },
  {
   "cell_type": "markdown",
   "id": "8044762b",
   "metadata": {},
   "source": [
    "2.Создать вектор размера 10, заполненный единицами"
   ]
  },
  {
   "cell_type": "code",
   "execution_count": 121,
   "id": "47e3c656",
   "metadata": {},
   "outputs": [
    {
     "data": {
      "text/plain": [
       "array([1., 1., 1., 1., 1., 1., 1., 1., 1., 1.])"
      ]
     },
     "execution_count": 121,
     "metadata": {},
     "output_type": "execute_result"
    }
   ],
   "source": [
    "np.ones(10)"
   ]
  },
  {
   "cell_type": "markdown",
   "id": "1094479c",
   "metadata": {},
   "source": [
    "3.Создать вектор размера 10, заполненный нулями, но пятый элемент равен 1"
   ]
  },
  {
   "cell_type": "code",
   "execution_count": 122,
   "id": "33b75306",
   "metadata": {},
   "outputs": [
    {
     "name": "stdout",
     "output_type": "stream",
     "text": [
      "[0. 0. 0. 0. 1. 0. 0. 0. 0. 0.]\n"
     ]
    }
   ],
   "source": [
    "a = np.zeros(10)\n",
    "a[4] = 1\n",
    "print(a)"
   ]
  },
  {
   "cell_type": "markdown",
   "id": "aa2bab50",
   "metadata": {},
   "source": [
    "4.Создать вектор со значениями от 10 до 49"
   ]
  },
  {
   "cell_type": "code",
   "execution_count": 125,
   "id": "adb40649",
   "metadata": {},
   "outputs": [
    {
     "data": {
      "text/plain": [
       "array([ 0,  1,  2,  3,  4,  5,  6,  7,  8,  9, 10, 11, 12, 13, 14, 15, 16,\n",
       "       17, 18, 19, 20, 21, 22, 23, 24, 25, 26, 27, 28, 29, 30, 31, 32, 33,\n",
       "       34, 35, 36, 37, 38, 39, 40, 41, 42, 43, 44, 45, 46, 47, 48, 49])"
      ]
     },
     "execution_count": 125,
     "metadata": {},
     "output_type": "execute_result"
    }
   ],
   "source": [
    "np.arange(50)"
   ]
  },
  {
   "cell_type": "markdown",
   "id": "c27d6b55",
   "metadata": {},
   "source": [
    "5.Развернуть вектор от 1 до 9 (первый становится последним)"
   ]
  },
  {
   "cell_type": "code",
   "execution_count": 126,
   "id": "d9a61589",
   "metadata": {},
   "outputs": [
    {
     "data": {
      "text/plain": [
       "array([9, 8, 7, 6, 5, 4, 3, 2, 1, 0])"
      ]
     },
     "execution_count": 126,
     "metadata": {},
     "output_type": "execute_result"
    }
   ],
   "source": [
    "np.arange(10)[::-1]"
   ]
  },
  {
   "cell_type": "markdown",
   "id": "0e5518bd",
   "metadata": {},
   "source": [
    "6.Создать матрицу (двумерный массив) 3x3 со значениями от 0 до 8"
   ]
  },
  {
   "cell_type": "code",
   "execution_count": 127,
   "id": "10adbc46",
   "metadata": {},
   "outputs": [
    {
     "data": {
      "text/plain": [
       "array([[0, 1, 2],\n",
       "       [3, 4, 5],\n",
       "       [6, 7, 8]])"
      ]
     },
     "execution_count": 127,
     "metadata": {},
     "output_type": "execute_result"
    }
   ],
   "source": [
    "np.arange(9).reshape(3, 3)"
   ]
  },
  {
   "cell_type": "markdown",
   "id": "9ed86934",
   "metadata": {},
   "source": [
    "7.Создать тензор (трёхмерный массив) 4x4х4 со значениями от 0 до 63"
   ]
  },
  {
   "cell_type": "code",
   "execution_count": 128,
   "id": "977f8faa",
   "metadata": {},
   "outputs": [
    {
     "data": {
      "text/plain": [
       "array([[[ 0,  1,  2,  3],\n",
       "        [ 4,  5,  6,  7],\n",
       "        [ 8,  9, 10, 11],\n",
       "        [12, 13, 14, 15]],\n",
       "\n",
       "       [[16, 17, 18, 19],\n",
       "        [20, 21, 22, 23],\n",
       "        [24, 25, 26, 27],\n",
       "        [28, 29, 30, 31]],\n",
       "\n",
       "       [[32, 33, 34, 35],\n",
       "        [36, 37, 38, 39],\n",
       "        [40, 41, 42, 43],\n",
       "        [44, 45, 46, 47]],\n",
       "\n",
       "       [[48, 49, 50, 51],\n",
       "        [52, 53, 54, 55],\n",
       "        [56, 57, 58, 59],\n",
       "        [60, 61, 62, 63]]])"
      ]
     },
     "execution_count": 128,
     "metadata": {},
     "output_type": "execute_result"
    }
   ],
   "source": [
    "np.arange(64).reshape(4, 4, 4)"
   ]
  },
  {
   "cell_type": "markdown",
   "id": "078e01ba",
   "metadata": {},
   "source": [
    "8.Найти объём памяти, который занимает двумерный массив 1000х1000, заполненный нулями."
   ]
  },
  {
   "cell_type": "code",
   "execution_count": 129,
   "id": "a9889800",
   "metadata": {},
   "outputs": [],
   "source": [
    "b = np.arange(1000000).reshape(1000, 1000)"
   ]
  },
  {
   "cell_type": "code",
   "execution_count": 130,
   "id": "acba5753",
   "metadata": {},
   "outputs": [
    {
     "data": {
      "text/plain": [
       "4"
      ]
     },
     "execution_count": 130,
     "metadata": {},
     "output_type": "execute_result"
    }
   ],
   "source": [
    "b.itemsize"
   ]
  },
  {
   "cell_type": "code",
   "execution_count": 131,
   "id": "9e75cd7b",
   "metadata": {},
   "outputs": [
    {
     "data": {
      "text/plain": [
       "1000000"
      ]
     },
     "execution_count": 131,
     "metadata": {},
     "output_type": "execute_result"
    }
   ],
   "source": [
    "b.size"
   ]
  },
  {
   "cell_type": "code",
   "execution_count": 132,
   "id": "101fb45d",
   "metadata": {},
   "outputs": [
    {
     "data": {
      "text/plain": [
       "4000000"
      ]
     },
     "execution_count": 132,
     "metadata": {},
     "output_type": "execute_result"
    }
   ],
   "source": [
    "b.itemsize * b.size"
   ]
  },
  {
   "cell_type": "code",
   "execution_count": 135,
   "id": "e9a04f94",
   "metadata": {},
   "outputs": [
    {
     "data": {
      "text/plain": [
       "3906.25"
      ]
     },
     "execution_count": 135,
     "metadata": {},
     "output_type": "execute_result"
    }
   ],
   "source": [
    "4000000/1024"
   ]
  },
  {
   "cell_type": "code",
   "execution_count": 134,
   "id": "4863eb77",
   "metadata": {},
   "outputs": [],
   "source": [
    "np.save('example_4', b)"
   ]
  },
  {
   "cell_type": "code",
   "execution_count": 138,
   "id": "f0f05f53",
   "metadata": {},
   "outputs": [],
   "source": [
    "np.savez_compressed('example_4', b)"
   ]
  },
  {
   "cell_type": "code",
   "execution_count": null,
   "id": "06f16b3d",
   "metadata": {},
   "outputs": [],
   "source": []
  }
 ],
 "metadata": {
  "kernelspec": {
   "display_name": "Python 3 (ipykernel)",
   "language": "python",
   "name": "python3"
  },
  "language_info": {
   "codemirror_mode": {
    "name": "ipython",
    "version": 3
   },
   "file_extension": ".py",
   "mimetype": "text/x-python",
   "name": "python",
   "nbconvert_exporter": "python",
   "pygments_lexer": "ipython3",
   "version": "3.9.7"
  }
 },
 "nbformat": 4,
 "nbformat_minor": 5
}
