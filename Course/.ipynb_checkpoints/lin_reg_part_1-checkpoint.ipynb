{
 "cells": [
  {
   "cell_type": "code",
   "execution_count": 9,
   "id": "1e321ace",
   "metadata": {},
   "outputs": [],
   "source": [
    "import numpy as np\n",
    "import pandas as pd\n",
    "import matplotlib.pyplot as plt\n",
    "from sklearn.datasets import make_regression\n",
    "from sklearn.model_selection import train_test_split\n",
    "from sklearn.preprocessing import scale, PolynomialFeatures\n",
    "from sklearn.linear_model import LinearRegression, Ridge, Lasso, ElasticNet\n",
    "from sklearn.metrics import mean_absolute_percentage_error, mean_squared_error, r2_score"
   ]
  },
  {
   "cell_type": "code",
   "execution_count": 28,
   "id": "4d7f6c4d",
   "metadata": {},
   "outputs": [],
   "source": [
    "class MatrixLinearRegression:\n",
    "    \n",
    "    def fit(self, X, y):\n",
    "        X = np.insert(X, 0, 1, axis=1)\n",
    "        XT_X_inv = np.linalg.inv(X.T @ X)\n",
    "        weights = np.linalg.multi_dot([XT_X_inv, X.T, y])\n",
    "        self.bias, self.weights = weights[0], weights[1:]\n",
    "        \n",
    "    def predict(self, X_test):\n",
    "        return X_test @ self.weights + self.bias"
   ]
  },
  {
   "cell_type": "code",
   "execution_count": 29,
   "id": "915d4677",
   "metadata": {
    "scrolled": true
   },
   "outputs": [],
   "source": [
    "income = pd.read_csv('multiple_linear_regression_dataset.csv')"
   ]
  },
  {
   "cell_type": "code",
   "execution_count": 30,
   "id": "650ac674",
   "metadata": {},
   "outputs": [],
   "source": [
    "X1, y1 = income.iloc[:, :-1].values, income.iloc[:, -1].values\n",
    "X1_scaled = scale(X1)\n",
    "X1_train, X1_test, y1_train, y1_test = train_test_split(X1, y1, random_state=10)\n",
    "X1_train_s, X1_test_s, y1_train, y1_test = train_test_split(X1_scaled, y1, random_state=0)"
   ]
  },
  {
   "cell_type": "code",
   "execution_count": 31,
   "id": "48bdcee3",
   "metadata": {},
   "outputs": [
    {
     "data": {
      "text/plain": [
       "((15, 2), (5, 2))"
      ]
     },
     "execution_count": 31,
     "metadata": {},
     "output_type": "execute_result"
    }
   ],
   "source": [
    "X1_train.shape, X1_test.shape"
   ]
  },
  {
   "cell_type": "code",
   "execution_count": 32,
   "id": "09e8d902",
   "metadata": {},
   "outputs": [
    {
     "data": {
      "text/html": [
       "<style type=\"text/css\">\n",
       "#T_59f70_row0_col0, #T_59f70_row1_col1, #T_59f70_row2_col2 {\n",
       "  background-color: #b40426;\n",
       "  color: #f1f1f1;\n",
       "}\n",
       "#T_59f70_row0_col1, #T_59f70_row0_col2, #T_59f70_row2_col0 {\n",
       "  background-color: #3b4cc0;\n",
       "  color: #f1f1f1;\n",
       "}\n",
       "#T_59f70_row1_col0 {\n",
       "  background-color: #7396f5;\n",
       "  color: #f1f1f1;\n",
       "}\n",
       "#T_59f70_row1_col2 {\n",
       "  background-color: #c0282f;\n",
       "  color: #f1f1f1;\n",
       "}\n",
       "#T_59f70_row2_col1 {\n",
       "  background-color: #c32e31;\n",
       "  color: #f1f1f1;\n",
       "}\n",
       "</style>\n",
       "<table id=\"T_59f70_\">\n",
       "  <thead>\n",
       "    <tr>\n",
       "      <th class=\"blank level0\" >&nbsp;</th>\n",
       "      <th class=\"col_heading level0 col0\" >age</th>\n",
       "      <th class=\"col_heading level0 col1\" >experience</th>\n",
       "      <th class=\"col_heading level0 col2\" >income</th>\n",
       "    </tr>\n",
       "  </thead>\n",
       "  <tbody>\n",
       "    <tr>\n",
       "      <th id=\"T_59f70_level0_row0\" class=\"row_heading level0 row0\" >age</th>\n",
       "      <td id=\"T_59f70_row0_col0\" class=\"data row0 col0\" >1.000000</td>\n",
       "      <td id=\"T_59f70_row0_col1\" class=\"data row0 col1\" >0.615165</td>\n",
       "      <td id=\"T_59f70_row0_col2\" class=\"data row0 col2\" >0.532204</td>\n",
       "    </tr>\n",
       "    <tr>\n",
       "      <th id=\"T_59f70_level0_row1\" class=\"row_heading level0 row1\" >experience</th>\n",
       "      <td id=\"T_59f70_row1_col0\" class=\"data row1 col0\" >0.615165</td>\n",
       "      <td id=\"T_59f70_row1_col1\" class=\"data row1 col1\" >1.000000</td>\n",
       "      <td id=\"T_59f70_row1_col2\" class=\"data row1 col2\" >0.984227</td>\n",
       "    </tr>\n",
       "    <tr>\n",
       "      <th id=\"T_59f70_level0_row2\" class=\"row_heading level0 row2\" >income</th>\n",
       "      <td id=\"T_59f70_row2_col0\" class=\"data row2 col0\" >0.532204</td>\n",
       "      <td id=\"T_59f70_row2_col1\" class=\"data row2 col1\" >0.984227</td>\n",
       "      <td id=\"T_59f70_row2_col2\" class=\"data row2 col2\" >1.000000</td>\n",
       "    </tr>\n",
       "  </tbody>\n",
       "</table>\n"
      ],
      "text/plain": [
       "<pandas.io.formats.style.Styler at 0x285444b0e20>"
      ]
     },
     "execution_count": 32,
     "metadata": {},
     "output_type": "execute_result"
    }
   ],
   "source": [
    "correlation_matrix = income.corr()\n",
    "correlation_matrix.style.background_gradient(cmap='coolwarm')"
   ]
  },
  {
   "cell_type": "code",
   "execution_count": 82,
   "id": "e8aa2bf2",
   "metadata": {},
   "outputs": [],
   "source": [
    "matrix_linear_regression = MatrixLinearRegression()\n",
    "matrix_linear_regression.fit(X1_train_s, y1_train)"
   ]
  },
  {
   "cell_type": "code",
   "execution_count": 83,
   "id": "7367df7b",
   "metadata": {},
   "outputs": [],
   "source": [
    "matrix_lr_pred_res = matrix_linear_regression.predict(X1_test_s)\n",
    "matrix_lr_r2 = r2_score(y1_test, matrix_lr_pred_res)\n",
    "matrix_lr_mape = mean_absolute_percentage_error(y1_test, matrix_lr_pred_res)"
   ]
  },
  {
   "cell_type": "code",
   "execution_count": 35,
   "id": "3e834227",
   "metadata": {},
   "outputs": [
    {
     "name": "stdout",
     "output_type": "stream",
     "text": [
      "Matrix Linear regression  R2 score: 0.9307237996010834\n",
      "Matrix Linear regression MAPE: 0.0466657717652587 \n",
      "\n"
     ]
    }
   ],
   "source": [
    "print(f'Matrix Linear regression  R2 score: {matrix_lr_r2}')\n",
    "print(f'Matrix Linear regression MAPE: {matrix_lr_mape}', '\\n')"
   ]
  },
  {
   "cell_type": "code",
   "execution_count": 36,
   "id": "8b0edb69",
   "metadata": {},
   "outputs": [
    {
     "name": "stdout",
     "output_type": "stream",
     "text": [
      "weights: (40922.38666080836, -1049.7866043343383, 8718.764356366164)\n"
     ]
    }
   ],
   "source": [
    "print(f'weights: {matrix_linear_regression.bias, *matrix_linear_regression.weights}')"
   ]
  },
  {
   "cell_type": "code",
   "execution_count": 21,
   "id": "f74c8d3a",
   "metadata": {},
   "outputs": [
    {
     "name": "stdout",
     "output_type": "stream",
     "text": [
      "prediction: [46528.00800666 35018.47848628 49448.73803373 38604.36954966\n",
      " 30788.13913983]\n"
     ]
    }
   ],
   "source": [
    "print(f'prediction: {matrix_lr_pred_res}')"
   ]
  },
  {
   "cell_type": "code",
   "execution_count": 22,
   "id": "4c6018d9",
   "metadata": {},
   "outputs": [
    {
     "data": {
      "text/html": [
       "<div>\n",
       "<style scoped>\n",
       "    .dataframe tbody tr th:only-of-type {\n",
       "        vertical-align: middle;\n",
       "    }\n",
       "\n",
       "    .dataframe tbody tr th {\n",
       "        vertical-align: top;\n",
       "    }\n",
       "\n",
       "    .dataframe thead th {\n",
       "        text-align: right;\n",
       "    }\n",
       "</style>\n",
       "<table border=\"1\" class=\"dataframe\">\n",
       "  <thead>\n",
       "    <tr style=\"text-align: right;\">\n",
       "      <th></th>\n",
       "      <th>age</th>\n",
       "      <th>experience</th>\n",
       "      <th>income</th>\n",
       "    </tr>\n",
       "  </thead>\n",
       "  <tbody>\n",
       "    <tr>\n",
       "      <th>0</th>\n",
       "      <td>25</td>\n",
       "      <td>1</td>\n",
       "      <td>30450</td>\n",
       "    </tr>\n",
       "  </tbody>\n",
       "</table>\n",
       "</div>"
      ],
      "text/plain": [
       "   age  experience  income\n",
       "0   25           1   30450"
      ]
     },
     "execution_count": 22,
     "metadata": {},
     "output_type": "execute_result"
    }
   ],
   "source": [
    "income.head(1)"
   ]
  },
  {
   "cell_type": "code",
   "execution_count": null,
   "id": "2bf2be9e",
   "metadata": {},
   "outputs": [],
   "source": [
    "incom_calc = -1049*age + 8718*expirience + 40922"
   ]
  },
  {
   "cell_type": "code",
   "execution_count": 40,
   "id": "7729f729",
   "metadata": {},
   "outputs": [],
   "source": [
    "w1_old = 0.001\n",
    "w1_new = 0.0009"
   ]
  },
  {
   "cell_type": "code",
   "execution_count": 41,
   "id": "2ba650a6",
   "metadata": {},
   "outputs": [],
   "source": [
    "w1 = w1_old - w1_new"
   ]
  },
  {
   "cell_type": "code",
   "execution_count": 42,
   "id": "d61ea54f",
   "metadata": {},
   "outputs": [
    {
     "data": {
      "text/plain": [
       "0.00010000000000000005"
      ]
     },
     "execution_count": 42,
     "metadata": {},
     "output_type": "execute_result"
    }
   ],
   "source": [
    "w1"
   ]
  },
  {
   "cell_type": "code",
   "execution_count": 43,
   "id": "53385832",
   "metadata": {},
   "outputs": [
    {
     "data": {
      "text/plain": [
       "0.0009"
      ]
     },
     "execution_count": 43,
     "metadata": {},
     "output_type": "execute_result"
    }
   ],
   "source": [
    "w1_old - w1"
   ]
  },
  {
   "cell_type": "code",
   "execution_count": 45,
   "id": "7f00bdc6",
   "metadata": {},
   "outputs": [
    {
     "data": {
      "text/plain": [
       "(15, 2)"
      ]
     },
     "execution_count": 45,
     "metadata": {},
     "output_type": "execute_result"
    }
   ],
   "source": [
    "X1_train_s.shape"
   ]
  },
  {
   "cell_type": "code",
   "execution_count": 93,
   "id": "d322794c",
   "metadata": {},
   "outputs": [],
   "source": [
    "class AproxLinearRegression:\n",
    "    \n",
    "    def __init__(self, learning_rate=0.01, tolerence=1e-4, n_end=1000):\n",
    "        self.learning_rate = learning_rate\n",
    "        self.tolerence = tolerence\n",
    "    \n",
    "        self.n = 0\n",
    "        self.n_end = n_end\n",
    "\n",
    "    def fit(self, X, y):\n",
    "        n_samples, n_features = X.shape\n",
    "        self.bias, self.weights = 0, np.zeros(n_features)\n",
    "        previous_db, previous_dw = 0, np.zeros(n_features)\n",
    "        \n",
    "        while True:\n",
    "            y_pred = X @ self.weights + self.bias\n",
    "            db = 1 / n_samples * np.sum(y_pred - y)\n",
    "            dw = 1 / n_samples * X.T @ (y_pred - y)\n",
    "            self.bias = self.bias - self.learning_rate * db\n",
    "            self.weights = self.weights - self.learning_rate * dw\n",
    "            \n",
    "            abs_db_reduction = np.abs(db - previous_db)\n",
    "            abs_dw_reduction = np.abs(dw - previous_dw)\n",
    "\n",
    "            self.n += 1\n",
    "            \n",
    "            if abs_db_reduction < self.tolerence:\n",
    "                if abs_dw_reduction.all() < self.tolerence:\n",
    "                    break\n",
    "            \n",
    "            if self.n > self.n_end:\n",
    "                break\n",
    "                    \n",
    "            previous_db = db\n",
    "            previous_dw = dw\n",
    "                \n",
    "    def predict(self, X_test):\n",
    "        return X_test @ self.weights + self.bias"
   ]
  },
  {
   "cell_type": "code",
   "execution_count": 85,
   "id": "307b6438",
   "metadata": {},
   "outputs": [],
   "source": [
    "ap_lin_reg = AproxLinearRegression()"
   ]
  },
  {
   "cell_type": "code",
   "execution_count": 86,
   "id": "9059f724",
   "metadata": {},
   "outputs": [],
   "source": [
    "ap_lin_reg.fit(X1_train_s, y1_train)"
   ]
  },
  {
   "cell_type": "code",
   "execution_count": 87,
   "id": "16db411b",
   "metadata": {},
   "outputs": [
    {
     "data": {
      "text/plain": [
       "6595"
      ]
     },
     "execution_count": 87,
     "metadata": {},
     "output_type": "execute_result"
    }
   ],
   "source": [
    "ap_lin_reg.n"
   ]
  },
  {
   "cell_type": "code",
   "execution_count": 88,
   "id": "3d1c9253",
   "metadata": {},
   "outputs": [],
   "source": [
    "pred_res = ap_lin_reg.predict(X1_test_s)\n",
    "r2 = r2_score(y1_test, pred_res)\n",
    "mape = mean_absolute_percentage_error(y1_test, pred_res)"
   ]
  },
  {
   "cell_type": "code",
   "execution_count": 89,
   "id": "a24818e0",
   "metadata": {},
   "outputs": [
    {
     "name": "stdout",
     "output_type": "stream",
     "text": [
      "Linear regression R2 score: 0.9307237996011029\n",
      "Linear regression MAPE: 0.04666577176525262 \n",
      "\n"
     ]
    }
   ],
   "source": [
    "print(f'Linear regression R2 score: {r2}')\n",
    "print(f'Linear regression MAPE: {mape}', '\\n')"
   ]
  },
  {
   "cell_type": "code",
   "execution_count": 77,
   "id": "ca1a02a6",
   "metadata": {},
   "outputs": [
    {
     "name": "stdout",
     "output_type": "stream",
     "text": [
      "weights: (40922.38666080791, -1049.7866043333488, 8718.764356365164)\n"
     ]
    }
   ],
   "source": [
    "print(f'weights: {ap_lin_reg.bias, *ap_lin_reg.weights}')"
   ]
  },
  {
   "cell_type": "code",
   "execution_count": 84,
   "id": "5fb4d85f",
   "metadata": {},
   "outputs": [
    {
     "name": "stdout",
     "output_type": "stream",
     "text": [
      "Matrix Linear regression  R2 score: 0.9307237996010834\n",
      "Matrix Linear regression MAPE: 0.0466657717652587 \n",
      "\n"
     ]
    }
   ],
   "source": [
    "print(f'Matrix Linear regression  R2 score: {matrix_lr_r2}')\n",
    "print(f'Matrix Linear regression MAPE: {matrix_lr_mape}', '\\n')"
   ]
  },
  {
   "cell_type": "code",
   "execution_count": 79,
   "id": "0063be78",
   "metadata": {},
   "outputs": [
    {
     "name": "stdout",
     "output_type": "stream",
     "text": [
      "weights: (40922.38666080836, -1049.7866043343383, 8718.764356366164)\n"
     ]
    }
   ],
   "source": [
    "print(f'weights: {matrix_linear_regression.bias, *matrix_linear_regression.weights}')"
   ]
  },
  {
   "cell_type": "code",
   "execution_count": 81,
   "id": "20f205cc",
   "metadata": {},
   "outputs": [
    {
     "data": {
      "text/plain": [
       "-1.942890293094024e-14"
      ]
     },
     "execution_count": 81,
     "metadata": {},
     "output_type": "execute_result"
    }
   ],
   "source": [
    "0.9307237996010834 - 0.9307237996011029"
   ]
  },
  {
   "cell_type": "code",
   "execution_count": 90,
   "id": "b14d851f",
   "metadata": {},
   "outputs": [
    {
     "data": {
      "text/plain": [
       "-6.078471059822732e-15"
      ]
     },
     "execution_count": 90,
     "metadata": {},
     "output_type": "execute_result"
    }
   ],
   "source": [
    "0.04666577176525262 - 0.0466657717652587 "
   ]
  },
  {
   "cell_type": "code",
   "execution_count": 91,
   "id": "a7a34336",
   "metadata": {},
   "outputs": [
    {
     "data": {
      "image/png": "[encoded data removed]",
      "text/plain": [
       "<Figure size 648x504 with 1 Axes>"
      ]
     },
     "metadata": {
      "needs_background": "light"
     },
     "output_type": "display_data"
    }
   ],
   "source": [
    "feature1, feature2 = X1[:, 0], X1[:, 1]\n",
    "X1_linspace = np.linspace(feature1.min(), feature1.max())\n",
    "X2_linspace = np.linspace(feature2.min(), feature2.max())\n",
    "X1_surface, X2_surface = np.meshgrid(X1_linspace, X2_linspace)\n",
    "X_surfaces = np.array([X1_surface.ravel(), X2_surface.ravel()]).T\n",
    "\n",
    "sk_linear_regression = LinearRegression()\n",
    "sk_linear_regression.fit(X1_train, y1_train)\n",
    "y_surface = sk_linear_regression.predict(X_surfaces).reshape(X1_surface.shape)\n",
    "\n",
    "fig = plt.figure(figsize=(9, 7))\n",
    "ax = plt.axes(projection='3d')\n",
    "ax.scatter(feature1, feature2, y1, color='red', marker='o')\n",
    "ax.plot_surface(X1_surface, X2_surface, y_surface, color='black', alpha=0.6)\n",
    "plt.title('Fitted linear regression surface')\n",
    "ax.set_xlabel('Age')\n",
    "ax.set_ylabel('Experience')\n",
    "ax.set_zlabel('Income')\n",
    "ax.view_init(20, 10)\n",
    "plt.show()"
   ]
  },
  {
   "cell_type": "code",
   "execution_count": null,
   "id": "9e2c4923",
   "metadata": {},
   "outputs": [],
   "source": []
  }
 ],
 "metadata": {
  "kernelspec": {
   "display_name": "hackthecart",
   "language": "python",
   "name": "hackthecart"
  },
  "language_info": {
   "codemirror_mode": {
    "name": "ipython",
    "version": 3
   },
   "file_extension": ".py",
   "mimetype": "text/x-python",
   "name": "python",
   "nbconvert_exporter": "python",
   "pygments_lexer": "ipython3",
   "version": "3.9.7"
  }
 },
 "nbformat": 4,
 "nbformat_minor": 5
}
