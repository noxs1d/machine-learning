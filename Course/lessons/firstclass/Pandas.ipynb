{
 "cells": [
  {
   "cell_type": "code",
   "execution_count": 1,
   "id": "initial_id",
   "metadata": {
    "ExecuteTime": {
     "end_time": "2024-07-15T15:20:49.211970800Z",
     "start_time": "2024-07-15T15:20:49.029267700Z"
    }
   },
   "outputs": [
    {
     "data": {
      "text/plain": [
       "4"
      ]
     },
     "execution_count": 1,
     "metadata": {},
     "output_type": "execute_result"
    }
   ],
   "source": [
    "2+2"
   ]
  },
  {
   "cell_type": "code",
   "execution_count": 2,
   "id": "dcbe098865301bb9",
   "metadata": {
    "ExecuteTime": {
     "end_time": "2024-07-15T15:20:50.420983700Z",
     "start_time": "2024-07-15T15:20:49.074287700Z"
    },
    "collapsed": false,
    "jupyter": {
     "outputs_hidden": false
    }
   },
   "outputs": [],
   "source": [
    "import numpy as np"
   ]
  },
  {
   "cell_type": "code",
   "execution_count": 3,
   "id": "e9b11fcae41a1a9e",
   "metadata": {
    "ExecuteTime": {
     "end_time": "2024-07-15T15:20:53.407700900Z",
     "start_time": "2024-07-15T15:20:50.418928400Z"
    },
    "collapsed": false,
    "jupyter": {
     "outputs_hidden": false
    }
   },
   "outputs": [],
   "source": [
    "import pandas as pd"
   ]
  },
  {
   "cell_type": "code",
   "execution_count": 7,
   "id": "f2d33f16e7efafe1",
   "metadata": {
    "ExecuteTime": {
     "end_time": "2024-07-15T15:21:55.118967600Z",
     "start_time": "2024-07-15T15:21:54.905667600Z"
    },
    "collapsed": false,
    "jupyter": {
     "outputs_hidden": false
    }
   },
   "outputs": [],
   "source": [
    "import os #operating system\n",
    "import tarfile #чтобы открывать tgz file ili zip\n",
    "import urllib #dlya roboty s url"
   ]
  },
  {
   "cell_type": "code",
   "execution_count": null,
   "id": "729e1647f8cc9288",
   "metadata": {
    "ExecuteTime": {
     "end_time": "2024-07-15T15:20:54.140618600Z",
     "start_time": "2024-07-15T15:20:54.136084700Z"
    },
    "collapsed": false,
    "jupyter": {
     "outputs_hidden": false
    }
   },
   "outputs": [],
   "source": [
    "DOWNLOAD_ROOT =\"https://github.com/ageron/handson-ml2/tree/master/\"\n",
    "HOUSING_PATH=os.path.join(\"datasets\",\"housing\")\n",
    "HOUSING_URL=DOWNLOAD_ROOT+\"datasets/housing/housing.tgz \""
   ]
  }
 ],
 "metadata": {
  "kernelspec": {
   "display_name": "Python 3 (ipykernel)",
   "language": "python",
   "name": "python3"
  },
  "language_info": {
   "codemirror_mode": {
    "name": "ipython",
    "version": 3
   },
   "file_extension": ".py",
   "mimetype": "text/x-python",
   "name": "python",
   "nbconvert_exporter": "python",
   "pygments_lexer": "ipython3",
   "version": "3.12.4"
  }
 },
 "nbformat": 4,
 "nbformat_minor": 5
}
