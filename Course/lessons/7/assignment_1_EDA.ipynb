{
 "cells": [
  {
   "cell_type": "markdown",
   "id": "66c3d58a",
   "metadata": {},
   "source": [
    "# Вопросы к assignment 1\n",
    "Для работы вам предоставлен датасет, содержащий характеристики авто (19 признаков) и таргет для предсказания - его цену. Цена по своей сути - это непрерывная величина (не категориальная), поэтому перед вами задача регрессии."
   ]
  },
  {
   "cell_type": "markdown",
   "id": "7078c3ca",
   "metadata": {},
   "source": [
    "Вы можете создавать более одной ячейком под соответствующими вопросами. Вопросы повышенной сложности отмечены *"
   ]
  },
  {
   "cell_type": "markdown",
   "id": "ed15d5af",
   "metadata": {},
   "source": [
    "Признаки:\n",
    "- Make - приозводитель\n",
    "- Model - модель авто\n",
    "- Price - цена авто, таргет для моделей\n",
    "- Year - год выпуска авто\n",
    "- Kilometer - пробег авто в километрах\n",
    "- Fuel Type - тип топлива для авто\n",
    "- Transmission - тип коробка передач\n",
    "- Location - место продажи\n",
    "- Color - цвет авто\n",
    "- Owner - количество предыдущих владельцев\n",
    "- Seller Type - кто выступает продавцом\n",
    "- Engine - тип двигателя\n",
    "- Max Power - максимальная мощность авто\n",
    "- Max Torque - максимальный крутящий момент авто\n",
    "- Drivetrain - тип трансмиссии авто\n",
    "- Length - длина авто\n",
    "- Width - ширина авто\n",
    "- Height - высота авто\n",
    "- Seating Capacity - количество сидячих мест\n",
    "- Fuel Tank Capacity - объем топливного бака"
   ]
  },
  {
   "cell_type": "code",
   "execution_count": null,
   "id": "ba617221",
   "metadata": {},
   "outputs": [],
   "source": [
    "import pandas as pd\n",
    "import seaborn as sns\n",
    "import numpy as np\n",
    "import matplotlib.pyplot as plt"
   ]
  },
  {
   "cell_type": "code",
   "execution_count": null,
   "id": "c175b23d",
   "metadata": {},
   "outputs": [],
   "source": [
    "data = pd.read_csv('car details v4.csv')"
   ]
  },
  {
   "cell_type": "code",
   "execution_count": null,
   "id": "87d98bc8",
   "metadata": {
    "scrolled": true
   },
   "outputs": [],
   "source": [
    "data.head()"
   ]
  },
  {
   "cell_type": "markdown",
   "id": "e2cc4166",
   "metadata": {},
   "source": [
    "1. Вывести общую информацию по данным, сколько числовых и сколько сктроковых типов признаков? Перечислить признаки, имеющие пропуски в данных. Какие методы работы с пропущенными значениями вы знаете? Обработайте эти пропуски. Важно, линейная регрессия не умеет работать с пропусками в данных."
   ]
  },
  {
   "cell_type": "code",
   "execution_count": null,
   "id": "5746de29",
   "metadata": {},
   "outputs": [],
   "source": [
    "# your code here"
   ]
  },
  {
   "cell_type": "markdown",
   "id": "570f04e8",
   "metadata": {},
   "source": [
    "2. Вывести описательные статистики по численным признакам. Какая медиана у признака \"Kilometer\"? Какая медиана у признака \"Fuel Tank Capacity\"? Какой год выпуска является самым минимальным/максимальным? Выведите строку(-и) в данных, имеющую(-щих) эти года выпуска."
   ]
  },
  {
   "cell_type": "code",
   "execution_count": null,
   "id": "e33d1308",
   "metadata": {},
   "outputs": [],
   "source": [
    "# your code here"
   ]
  },
  {
   "cell_type": "markdown",
   "id": "d050c570",
   "metadata": {},
   "source": [
    "3. Какой производитель (\"Make\") встречается наиболее часто в датасете? Выведите количество и долю в процентах."
   ]
  },
  {
   "cell_type": "code",
   "execution_count": null,
   "id": "2e9fd54e",
   "metadata": {},
   "outputs": [],
   "source": [
    "# your code here"
   ]
  },
  {
   "cell_type": "markdown",
   "id": "a10e1537",
   "metadata": {},
   "source": [
    "4. Какой город наиболее часто встречается в датасете?"
   ]
  },
  {
   "cell_type": "code",
   "execution_count": null,
   "id": "d8546068",
   "metadata": {},
   "outputs": [],
   "source": [
    "# your code here"
   ]
  },
  {
   "cell_type": "markdown",
   "id": "2021f62e",
   "metadata": {},
   "source": [
    "5. Постройте гистограмму для признака \"Fuel Tank Capacity\". Какими бы вы выбрали границы категорий для разбиения этого признака и что может помочь вам в этом? В каких целях можно использовать эти категории в дальнейшем? Повторите описанные действия для признака \"Seating Capacity\"."
   ]
  },
  {
   "cell_type": "markdown",
   "id": "f4f43dd9",
   "metadata": {},
   "source": [
    "*6. Постройте pie chart для признаков \"Color\"/\"Owner\"/\"Seller Type\". Укажите данные как в числах, так и в процентах. Добавьте легенду на графики (подписи осей, категорий данных, поиграйтесь с цветом и другим функционалом seaborn)."
   ]
  },
  {
   "cell_type": "code",
   "execution_count": null,
   "id": "5e722e33",
   "metadata": {},
   "outputs": [],
   "source": [
    "# your code here"
   ]
  },
  {
   "cell_type": "markdown",
   "id": "bba8cb19",
   "metadata": {},
   "source": [
    "7. Добавьте к данным новые признаки (новые колонки) в группировке по прозводителю (\"Make\"): медиана \"Kilometer\"/\"Length\"/\"Fuel tank Capacity\". Т.е. для каждой записи в новой колонке должны содержаться соответствующие данной модели признаки, которые показывают \"медиану пробега авто марки Toyota\" и т.д. Подсказка: необходимо воспользоваться методом groupby()."
   ]
  },
  {
   "cell_type": "code",
   "execution_count": null,
   "id": "574da948",
   "metadata": {},
   "outputs": [],
   "source": [
    "# your code here"
   ]
  },
  {
   "cell_type": "markdown",
   "id": "285a28fc",
   "metadata": {},
   "source": [
    "8. Для всех полученных на данный момент числовых признаков постройте график матрицы корреляций, на нем выведите значение корреляций в виде тепловой карты. Также постройте ещё одну матрицу корреляций, в которую пойдут топ 5 признаков по значению корреляции."
   ]
  },
  {
   "cell_type": "code",
   "execution_count": null,
   "id": "b7f419cb",
   "metadata": {},
   "outputs": [],
   "source": [
    "# your code here"
   ]
  },
  {
   "cell_type": "markdown",
   "id": "346f503a",
   "metadata": {},
   "source": [
    "9. Обработайте категориальные признаки, содержащие менее 5 уникальных значений. Воспользуйтесь OrdinalEncoding, OneHotEncoding или простым mapping чисел для этих признаков. Для дальнейших заданий удалите все остальные категориальные признаки (все, которые содержат больше 5 уникальных значений). Важно, вы не сможете построить линейную регрессию на текстовых признаках, поэтому все текстовые признаки необходимо удалить или транфсормировать в числовые."
   ]
  },
  {
   "cell_type": "code",
   "execution_count": null,
   "id": "d3c76a97",
   "metadata": {},
   "outputs": [],
   "source": [
    "# your code here"
   ]
  },
  {
   "cell_type": "markdown",
   "id": "1b5dca9f",
   "metadata": {},
   "source": [
    "10. Воспользовавшись train test split разделите полученные данные на тестовую и трейн выборки в пропорции 80% train/20% test. Можем ли мы воспользоваться stratifed split? Вы можете использовать готовые реализации из sklearn, либо написать свои функции. Помните, что перед сплитом мы разделяем данные на признаки и таргет (\"Price\")."
   ]
  },
  {
   "cell_type": "code",
   "execution_count": null,
   "id": "061f2b04",
   "metadata": {},
   "outputs": [],
   "source": [
    "# your code here"
   ]
  },
  {
   "cell_type": "markdown",
   "id": "b9d045c7",
   "metadata": {},
   "source": [
    "11. Примените алгоритм линейной регрессии для обучения и дальнейшего прогнозирования цены автомобиля. Отобразите ошибку прогноза модели на тестовой выборке с помощью RMSE."
   ]
  },
  {
   "cell_type": "code",
   "execution_count": null,
   "id": "54230394",
   "metadata": {},
   "outputs": [],
   "source": [
    "# your code here"
   ]
  },
  {
   "cell_type": "markdown",
   "id": "c79476e8",
   "metadata": {},
   "source": [
    "*12. Постройте полный пайплайн по подготовке данных обучения через sklearn.pipeline.Pipeline. Для этого воспользуйтесь предыдущими вопросами, соберите все трансформации из предыдущих вопросов и реализуйте их в данном пайплайне. Помните, что некоторый функционал идёт из коробки (import из sklearn) , а некоторый (добавление новых признаков), можно реализовать через классы с методами fit/transform/fit_transform."
   ]
  },
  {
   "cell_type": "code",
   "execution_count": null,
   "id": "35bfb8ec",
   "metadata": {},
   "outputs": [],
   "source": [
    "# your code here"
   ]
  },
  {
   "cell_type": "markdown",
   "id": "c506cbcb",
   "metadata": {},
   "source": [
    "*13. Подберите необходимые параметры модели Random Forest (n_estimators, max_features) используя стратегию кросс-валидации (с bootstrap=False и bootstrap=True). Удастся ли вам получить лучшую метрику на тестовых данных, чем если вы будете в качестве прогноза на тестовой выборке просто отдавать среднюю цену всех авто из обучающей выборки?"
   ]
  },
  {
   "cell_type": "code",
   "execution_count": null,
   "id": "9ecd45f5",
   "metadata": {},
   "outputs": [],
   "source": [
    "# your code here"
   ]
  }
 ],
 "metadata": {
  "kernelspec": {
   "display_name": "hackthecart",
   "language": "python",
   "name": "hackthecart"
  },
  "language_info": {
   "codemirror_mode": {
    "name": "ipython",
    "version": 3
   },
   "file_extension": ".py",
   "mimetype": "text/x-python",
   "name": "python",
   "nbconvert_exporter": "python",
   "pygments_lexer": "ipython3",
   "version": "3.9.7"
  }
 },
 "nbformat": 4,
 "nbformat_minor": 5
}
