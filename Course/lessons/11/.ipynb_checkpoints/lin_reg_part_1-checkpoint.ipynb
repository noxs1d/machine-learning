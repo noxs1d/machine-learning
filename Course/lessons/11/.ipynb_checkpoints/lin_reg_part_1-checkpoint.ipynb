{
 "cells": [
  {
   "cell_type": "code",
   "execution_count": 116,
   "id": "899de026",
   "metadata": {},
   "outputs": [],
   "source": [
    "import numpy as np\n",
    "import pandas as pd\n",
    "import matplotlib.pyplot as plt\n",
    "from sklearn.datasets import make_regression\n",
    "from sklearn.model_selection import train_test_split\n",
    "from sklearn.preprocessing import scale, PolynomialFeatures\n",
    "from sklearn.linear_model import LinearRegression, Ridge, Lasso, ElasticNet\n",
    "from sklearn.metrics import mean_absolute_percentage_error, mean_squared_error, r2_score"
   ]
  },
  {
   "cell_type": "code",
   "execution_count": 28,
   "id": "8c58838f",
   "metadata": {},
   "outputs": [],
   "source": [
    "class MatrixLinearRegression:\n",
    "    \n",
    "    def fit(self, X, y):\n",
    "        X = np.insert(X, 0, 1, axis=1)\n",
    "        XT_X_inv = np.linalg.inv(X.T @ X)\n",
    "        weights = np.linalg.multi_dot([XT_X_inv, X.T, y])\n",
    "        self.bias, self.weights = weights[0], weights[1:]\n",
    "        \n",
    "    def predict(self, X_test):\n",
    "        return X_test @ self.weights + self.bias"
   ]
  },
  {
   "cell_type": "code",
   "execution_count": 29,
   "id": "5bf26405",
   "metadata": {
    "scrolled": true
   },
   "outputs": [],
   "source": [
    "income = pd.read_csv('multiple_linear_regression_dataset.csv')"
   ]
  },
  {
   "cell_type": "code",
   "execution_count": 30,
   "id": "8df017cf",
   "metadata": {},
   "outputs": [],
   "source": [
    "X1, y1 = income.iloc[:, :-1].values, income.iloc[:, -1].values\n",
    "X1_scaled = scale(X1)\n",
    "X1_train, X1_test, y1_train, y1_test = train_test_split(X1, y1, random_state=10)\n",
    "X1_train_s, X1_test_s, y1_train, y1_test = train_test_split(X1_scaled, y1, random_state=0)"
   ]
  },
  {
   "cell_type": "code",
   "execution_count": 31,
   "id": "65be6f6c",
   "metadata": {},
   "outputs": [
    {
     "data": {
      "text/plain": [
       "((15, 2), (5, 2))"
      ]
     },
     "execution_count": 31,
     "metadata": {},
     "output_type": "execute_result"
    }
   ],
   "source": [
    "X1_train.shape, X1_test.shape"
   ]
  },
  {
   "cell_type": "code",
   "execution_count": 32,
   "id": "f1477635",
   "metadata": {},
   "outputs": [
    {
     "data": {
      "text/html": [
       "<style type=\"text/css\">\n",
       "#T_59f70_row0_col0, #T_59f70_row1_col1, #T_59f70_row2_col2 {\n",
       "  background-color: #b40426;\n",
       "  color: #f1f1f1;\n",
       "}\n",
       "#T_59f70_row0_col1, #T_59f70_row0_col2, #T_59f70_row2_col0 {\n",
       "  background-color: #3b4cc0;\n",
       "  color: #f1f1f1;\n",
       "}\n",
       "#T_59f70_row1_col0 {\n",
       "  background-color: #7396f5;\n",
       "  color: #f1f1f1;\n",
       "}\n",
       "#T_59f70_row1_col2 {\n",
       "  background-color: #c0282f;\n",
       "  color: #f1f1f1;\n",
       "}\n",
       "#T_59f70_row2_col1 {\n",
       "  background-color: #c32e31;\n",
       "  color: #f1f1f1;\n",
       "}\n",
       "</style>\n",
       "<table id=\"T_59f70_\">\n",
       "  <thead>\n",
       "    <tr>\n",
       "      <th class=\"blank level0\" >&nbsp;</th>\n",
       "      <th class=\"col_heading level0 col0\" >age</th>\n",
       "      <th class=\"col_heading level0 col1\" >experience</th>\n",
       "      <th class=\"col_heading level0 col2\" >income</th>\n",
       "    </tr>\n",
       "  </thead>\n",
       "  <tbody>\n",
       "    <tr>\n",
       "      <th id=\"T_59f70_level0_row0\" class=\"row_heading level0 row0\" >age</th>\n",
       "      <td id=\"T_59f70_row0_col0\" class=\"data row0 col0\" >1.000000</td>\n",
       "      <td id=\"T_59f70_row0_col1\" class=\"data row0 col1\" >0.615165</td>\n",
       "      <td id=\"T_59f70_row0_col2\" class=\"data row0 col2\" >0.532204</td>\n",
       "    </tr>\n",
       "    <tr>\n",
       "      <th id=\"T_59f70_level0_row1\" class=\"row_heading level0 row1\" >experience</th>\n",
       "      <td id=\"T_59f70_row1_col0\" class=\"data row1 col0\" >0.615165</td>\n",
       "      <td id=\"T_59f70_row1_col1\" class=\"data row1 col1\" >1.000000</td>\n",
       "      <td id=\"T_59f70_row1_col2\" class=\"data row1 col2\" >0.984227</td>\n",
       "    </tr>\n",
       "    <tr>\n",
       "      <th id=\"T_59f70_level0_row2\" class=\"row_heading level0 row2\" >income</th>\n",
       "      <td id=\"T_59f70_row2_col0\" class=\"data row2 col0\" >0.532204</td>\n",
       "      <td id=\"T_59f70_row2_col1\" class=\"data row2 col1\" >0.984227</td>\n",
       "      <td id=\"T_59f70_row2_col2\" class=\"data row2 col2\" >1.000000</td>\n",
       "    </tr>\n",
       "  </tbody>\n",
       "</table>\n"
      ],
      "text/plain": [
       "<pandas.io.formats.style.Styler at 0x285444b0e20>"
      ]
     },
     "execution_count": 32,
     "metadata": {},
     "output_type": "execute_result"
    }
   ],
   "source": [
    "correlation_matrix = income.corr()\n",
    "correlation_matrix.style.background_gradient(cmap='coolwarm')"
   ]
  },
  {
   "cell_type": "code",
   "execution_count": 82,
   "id": "d213eca7",
   "metadata": {},
   "outputs": [],
   "source": [
    "matrix_linear_regression = MatrixLinearRegression()\n",
    "matrix_linear_regression.fit(X1_train_s, y1_train)"
   ]
  },
  {
   "cell_type": "code",
   "execution_count": 83,
   "id": "310151c6",
   "metadata": {},
   "outputs": [],
   "source": [
    "matrix_lr_pred_res = matrix_linear_regression.predict(X1_test_s)\n",
    "matrix_lr_r2 = r2_score(y1_test, matrix_lr_pred_res)\n",
    "matrix_lr_mape = mean_absolute_percentage_error(y1_test, matrix_lr_pred_res)"
   ]
  },
  {
   "cell_type": "code",
   "execution_count": 35,
   "id": "ed1f8ca4",
   "metadata": {},
   "outputs": [
    {
     "name": "stdout",
     "output_type": "stream",
     "text": [
      "Matrix Linear regression  R2 score: 0.9307237996010834\n",
      "Matrix Linear regression MAPE: 0.0466657717652587 \n",
      "\n"
     ]
    }
   ],
   "source": [
    "print(f'Matrix Linear regression  R2 score: {matrix_lr_r2}')\n",
    "print(f'Matrix Linear regression MAPE: {matrix_lr_mape}', '\\n')"
   ]
  },
  {
   "cell_type": "code",
   "execution_count": 36,
   "id": "01c71e5e",
   "metadata": {},
   "outputs": [
    {
     "name": "stdout",
     "output_type": "stream",
     "text": [
      "weights: (40922.38666080836, -1049.7866043343383, 8718.764356366164)\n"
     ]
    }
   ],
   "source": [
    "print(f'weights: {matrix_linear_regression.bias, *matrix_linear_regression.weights}')"
   ]
  },
  {
   "cell_type": "code",
   "execution_count": 21,
   "id": "59444d7e",
   "metadata": {},
   "outputs": [
    {
     "name": "stdout",
     "output_type": "stream",
     "text": [
      "prediction: [46528.00800666 35018.47848628 49448.73803373 38604.36954966\n",
      " 30788.13913983]\n"
     ]
    }
   ],
   "source": [
    "print(f'prediction: {matrix_lr_pred_res}')"
   ]
  },
  {
   "cell_type": "code",
   "execution_count": 22,
   "id": "c0cb80b5",
   "metadata": {},
   "outputs": [
    {
     "data": {
      "text/html": [
       "<div>\n",
       "<style scoped>\n",
       "    .dataframe tbody tr th:only-of-type {\n",
       "        vertical-align: middle;\n",
       "    }\n",
       "\n",
       "    .dataframe tbody tr th {\n",
       "        vertical-align: top;\n",
       "    }\n",
       "\n",
       "    .dataframe thead th {\n",
       "        text-align: right;\n",
       "    }\n",
       "</style>\n",
       "<table border=\"1\" class=\"dataframe\">\n",
       "  <thead>\n",
       "    <tr style=\"text-align: right;\">\n",
       "      <th></th>\n",
       "      <th>age</th>\n",
       "      <th>experience</th>\n",
       "      <th>income</th>\n",
       "    </tr>\n",
       "  </thead>\n",
       "  <tbody>\n",
       "    <tr>\n",
       "      <th>0</th>\n",
       "      <td>25</td>\n",
       "      <td>1</td>\n",
       "      <td>30450</td>\n",
       "    </tr>\n",
       "  </tbody>\n",
       "</table>\n",
       "</div>"
      ],
      "text/plain": [
       "   age  experience  income\n",
       "0   25           1   30450"
      ]
     },
     "execution_count": 22,
     "metadata": {},
     "output_type": "execute_result"
    }
   ],
   "source": [
    "income.head(1)"
   ]
  },
  {
   "cell_type": "code",
   "execution_count": null,
   "id": "8444b071",
   "metadata": {},
   "outputs": [],
   "source": [
    "incom_calc = -1049*age + 8718*expirience + 40922"
   ]
  },
  {
   "cell_type": "code",
   "execution_count": 40,
   "id": "8f67c4ce",
   "metadata": {},
   "outputs": [],
   "source": [
    "w1_old = 0.001\n",
    "w1_new = 0.0009"
   ]
  },
  {
   "cell_type": "code",
   "execution_count": 41,
   "id": "21c6cfad",
   "metadata": {},
   "outputs": [],
   "source": [
    "w1 = w1_old - w1_new"
   ]
  },
  {
   "cell_type": "code",
   "execution_count": 42,
   "id": "0df01c75",
   "metadata": {},
   "outputs": [
    {
     "data": {
      "text/plain": [
       "0.00010000000000000005"
      ]
     },
     "execution_count": 42,
     "metadata": {},
     "output_type": "execute_result"
    }
   ],
   "source": [
    "w1"
   ]
  },
  {
   "cell_type": "code",
   "execution_count": 43,
   "id": "d25fe8af",
   "metadata": {},
   "outputs": [
    {
     "data": {
      "text/plain": [
       "0.0009"
      ]
     },
     "execution_count": 43,
     "metadata": {},
     "output_type": "execute_result"
    }
   ],
   "source": [
    "w1_old - w1"
   ]
  },
  {
   "cell_type": "code",
   "execution_count": 45,
   "id": "77f765da",
   "metadata": {},
   "outputs": [
    {
     "data": {
      "text/plain": [
       "(15, 2)"
      ]
     },
     "execution_count": 45,
     "metadata": {},
     "output_type": "execute_result"
    }
   ],
   "source": [
    "X1_train_s.shape"
   ]
  },
  {
   "cell_type": "code",
   "execution_count": 93,
   "id": "b5c2632a",
   "metadata": {},
   "outputs": [],
   "source": [
    "class AproxLinearRegression:\n",
    "    \n",
    "    def __init__(self, learning_rate=0.01, tolerence=1e-4, n_end=1000):\n",
    "        self.learning_rate = learning_rate\n",
    "        self.tolerence = tolerence\n",
    "    \n",
    "        self.n = 0\n",
    "        self.n_end = n_end\n",
    "\n",
    "    def fit(self, X, y):\n",
    "        n_samples, n_features = X.shape\n",
    "        self.bias, self.weights = 0, np.zeros(n_features)\n",
    "        previous_db, previous_dw = 0, np.zeros(n_features)\n",
    "        \n",
    "        while True:\n",
    "            y_pred = X @ self.weights + self.bias\n",
    "            db = 1 / n_samples * np.sum(y_pred - y)\n",
    "            dw = 1 / n_samples * X.T @ (y_pred - y)\n",
    "            self.bias = self.bias - self.learning_rate * db\n",
    "            self.weights = self.weights - self.learning_rate * dw\n",
    "            \n",
    "            abs_db_reduction = np.abs(db - previous_db)\n",
    "            abs_dw_reduction = np.abs(dw - previous_dw)\n",
    "\n",
    "            self.n += 1\n",
    "            \n",
    "            if abs_db_reduction < self.tolerence:\n",
    "                if abs_dw_reduction.all() < self.tolerence:\n",
    "                    break\n",
    "            \n",
    "            if self.n > self.n_end:\n",
    "                break\n",
    "                    \n",
    "            previous_db = db\n",
    "            previous_dw = dw\n",
    "                \n",
    "    def predict(self, X_test):\n",
    "        return X_test @ self.weights + self.bias"
   ]
  },
  {
   "cell_type": "code",
   "execution_count": 85,
   "id": "9db3e361",
   "metadata": {},
   "outputs": [],
   "source": [
    "ap_lin_reg = AproxLinearRegression()"
   ]
  },
  {
   "cell_type": "code",
   "execution_count": 86,
   "id": "e1d68c52",
   "metadata": {},
   "outputs": [],
   "source": [
    "ap_lin_reg.fit(X1_train_s, y1_train)"
   ]
  },
  {
   "cell_type": "code",
   "execution_count": 87,
   "id": "6d6ce4f2",
   "metadata": {},
   "outputs": [
    {
     "data": {
      "text/plain": [
       "6595"
      ]
     },
     "execution_count": 87,
     "metadata": {},
     "output_type": "execute_result"
    }
   ],
   "source": [
    "ap_lin_reg.n"
   ]
  },
  {
   "cell_type": "code",
   "execution_count": 88,
   "id": "77da23cb",
   "metadata": {},
   "outputs": [],
   "source": [
    "pred_res = ap_lin_reg.predict(X1_test_s)\n",
    "r2 = r2_score(y1_test, pred_res)\n",
    "mape = mean_absolute_percentage_error(y1_test, pred_res)"
   ]
  },
  {
   "cell_type": "code",
   "execution_count": 89,
   "id": "dabee1e0",
   "metadata": {},
   "outputs": [
    {
     "name": "stdout",
     "output_type": "stream",
     "text": [
      "Linear regression R2 score: 0.9307237996011029\n",
      "Linear regression MAPE: 0.04666577176525262 \n",
      "\n"
     ]
    }
   ],
   "source": [
    "print(f'Linear regression R2 score: {r2}')\n",
    "print(f'Linear regression MAPE: {mape}', '\\n')"
   ]
  },
  {
   "cell_type": "code",
   "execution_count": 77,
   "id": "17ae1df7",
   "metadata": {},
   "outputs": [
    {
     "name": "stdout",
     "output_type": "stream",
     "text": [
      "weights: (40922.38666080791, -1049.7866043333488, 8718.764356365164)\n"
     ]
    }
   ],
   "source": [
    "print(f'weights: {ap_lin_reg.bias, *ap_lin_reg.weights}')"
   ]
  },
  {
   "cell_type": "code",
   "execution_count": 84,
   "id": "1f164b3d",
   "metadata": {},
   "outputs": [
    {
     "name": "stdout",
     "output_type": "stream",
     "text": [
      "Matrix Linear regression  R2 score: 0.9307237996010834\n",
      "Matrix Linear regression MAPE: 0.0466657717652587 \n",
      "\n"
     ]
    }
   ],
   "source": [
    "print(f'Matrix Linear regression  R2 score: {matrix_lr_r2}')\n",
    "print(f'Matrix Linear regression MAPE: {matrix_lr_mape}', '\\n')"
   ]
  },
  {
   "cell_type": "code",
   "execution_count": 79,
   "id": "2c6fa56c",
   "metadata": {},
   "outputs": [
    {
     "name": "stdout",
     "output_type": "stream",
     "text": [
      "weights: (40922.38666080836, -1049.7866043343383, 8718.764356366164)\n"
     ]
    }
   ],
   "source": [
    "print(f'weights: {matrix_linear_regression.bias, *matrix_linear_regression.weights}')"
   ]
  },
  {
   "cell_type": "code",
   "execution_count": 81,
   "id": "c8705c4b",
   "metadata": {},
   "outputs": [
    {
     "data": {
      "text/plain": [
       "-1.942890293094024e-14"
      ]
     },
     "execution_count": 81,
     "metadata": {},
     "output_type": "execute_result"
    }
   ],
   "source": [
    "0.9307237996010834 - 0.9307237996011029"
   ]
  },
  {
   "cell_type": "code",
   "execution_count": 90,
   "id": "0a95a96a",
   "metadata": {},
   "outputs": [
    {
     "data": {
      "text/plain": [
       "-6.078471059822732e-15"
      ]
     },
     "execution_count": 90,
     "metadata": {},
     "output_type": "execute_result"
    }
   ],
   "source": [
    "0.04666577176525262 - 0.0466657717652587 "
   ]
  },
  {
   "cell_type": "code",
   "execution_count": 91,
   "id": "87c1bdc0",
   "metadata": {},
   "outputs": [
    {
     "data": {
      "image/png": "[encoded data removed]",
      "text/plain": [
       "<Figure size 648x504 with 1 Axes>"
      ]
     },
     "metadata": {
      "needs_background": "light"
     },
     "output_type": "display_data"
    }
   ],
   "source": [
    "feature1, feature2 = X1[:, 0], X1[:, 1]\n",
    "X1_linspace = np.linspace(feature1.min(), feature1.max())\n",
    "X2_linspace = np.linspace(feature2.min(), feature2.max())\n",
    "X1_surface, X2_surface = np.meshgrid(X1_linspace, X2_linspace)\n",
    "X_surfaces = np.array([X1_surface.ravel(), X2_surface.ravel()]).T\n",
    "\n",
    "sk_linear_regression = LinearRegression()\n",
    "sk_linear_regression.fit(X1_train, y1_train)\n",
    "y_surface = sk_linear_regression.predict(X_surfaces).reshape(X1_surface.shape)\n",
    "\n",
    "fig = plt.figure(figsize=(9, 7))\n",
    "ax = plt.axes(projection='3d')\n",
    "ax.scatter(feature1, feature2, y1, color='red', marker='o')\n",
    "ax.plot_surface(X1_surface, X2_surface, y_surface, color='black', alpha=0.6)\n",
    "plt.title('Fitted linear regression surface')\n",
    "ax.set_xlabel('Age')\n",
    "ax.set_ylabel('Experience')\n",
    "ax.set_zlabel('Income')\n",
    "ax.view_init(20, 10)\n",
    "plt.show()"
   ]
  },
  {
   "cell_type": "markdown",
   "id": "644f1dbf",
   "metadata": {},
   "source": [
    "# Примеры градиентного спуска"
   ]
  },
  {
   "cell_type": "code",
   "execution_count": 2,
   "id": "9e919f17",
   "metadata": {},
   "outputs": [],
   "source": [
    "import matplotlib.pyplot as plt\n",
    "import numpy as np"
   ]
  },
  {
   "cell_type": "code",
   "execution_count": 4,
   "id": "0528f8cb",
   "metadata": {},
   "outputs": [],
   "source": [
    "def quadratic_function(x):\n",
    "    return np.array(x) ** 2"
   ]
  },
  {
   "cell_type": "code",
   "execution_count": 5,
   "id": "93a7bde4",
   "metadata": {},
   "outputs": [],
   "source": [
    "def derivative_quaratic_func(x):\n",
    "    return 2 * np.array(x)"
   ]
  },
  {
   "cell_type": "code",
   "execution_count": 21,
   "id": "b3fe22f1",
   "metadata": {},
   "outputs": [],
   "source": [
    "def gradient_descent(gradient, start, learning_rate, n_iter=100, tolerence=1e-6):\n",
    "    vector = start\n",
    "    \n",
    "    vector_values = []\n",
    "    \n",
    "    n_steps = 0\n",
    "    \n",
    "    for _ in range(n_iter):\n",
    "        n_steps += 1\n",
    "        vector_values.append(vector)\n",
    "        \n",
    "        diff = -learning_rate * gradient(vector)\n",
    "        if np.all(np.abs(diff) <= tolerence):\n",
    "            break\n",
    "            \n",
    "        vector += diff\n",
    "        \n",
    "    return vector, vector_values, n_steps"
   ]
  },
  {
   "cell_type": "code",
   "execution_count": 64,
   "id": "3422c27c",
   "metadata": {},
   "outputs": [],
   "source": [
    "def plot_gd(func, approx_values, start_in, end_int, n_observations):\n",
    "    \n",
    "    print(f\"Gradient descent took {len(approx_values)} steps.\")\n",
    "    \n",
    "    plt.figure(figsize=(10, 8))\n",
    "    x_values = np.random.uniform(start_in, end_int, n_observations)\n",
    "    x_values.sort()\n",
    "    \n",
    "    plt.plot(x_values, func(x_values), 'r', label='Original func.')\n",
    "    plt.plot(approx_values, func(approx_values), '-go', label='gradient descent.')\n",
    "    plt.legend()\n",
    "    plt.grid()"
   ]
  },
  {
   "cell_type": "code",
   "execution_count": 31,
   "id": "baf6ef13",
   "metadata": {},
   "outputs": [],
   "source": [
    "end, steps, n_steps = gradient_descent(\n",
    "    gradient=derivative_quaratic_func,\n",
    "    start=10.0,\n",
    "    learning_rate=0.09,\n",
    ")"
   ]
  },
  {
   "cell_type": "code",
   "execution_count": 32,
   "id": "80ff3c83",
   "metadata": {},
   "outputs": [
    {
     "name": "stdout",
     "output_type": "stream",
     "text": [
      "Gradient descent took 74 steps.\n"
     ]
    },
    {
     "data": {
      "image/png": "[encoded data removed]",
      "text/plain": [
       "<Figure size 720x576 with 1 Axes>"
      ]
     },
     "metadata": {
      "needs_background": "light"
     },
     "output_type": "display_data"
    }
   ],
   "source": [
    "plot_gd(quadratic_function, steps)"
   ]
  },
  {
   "cell_type": "code",
   "execution_count": 46,
   "id": "89bffeda",
   "metadata": {},
   "outputs": [],
   "source": [
    "end, steps, n_steps = gradient_descent(\n",
    "    gradient=derivative_quaratic_func,\n",
    "    start=10.0,\n",
    "    learning_rate=0.009,\n",
    "    n_iter=50,\n",
    ")"
   ]
  },
  {
   "cell_type": "code",
   "execution_count": 47,
   "id": "b76a02ea",
   "metadata": {},
   "outputs": [
    {
     "data": {
      "text/plain": [
       "4.032500123367327"
      ]
     },
     "execution_count": 47,
     "metadata": {},
     "output_type": "execute_result"
    }
   ],
   "source": [
    "end"
   ]
  },
  {
   "cell_type": "code",
   "execution_count": 48,
   "id": "d3ac45a8",
   "metadata": {},
   "outputs": [
    {
     "name": "stdout",
     "output_type": "stream",
     "text": [
      "Gradient descent took 50 steps.\n"
     ]
    },
    {
     "data": {
      "image/png": "[encoded data removed]",
      "text/plain": [
       "<Figure size 720x576 with 1 Axes>"
      ]
     },
     "metadata": {
      "needs_background": "light"
     },
     "output_type": "display_data"
    }
   ],
   "source": [
    "plot_gd(quadratic_function, steps)"
   ]
  },
  {
   "cell_type": "code",
   "execution_count": 49,
   "id": "3925a17b",
   "metadata": {},
   "outputs": [],
   "source": [
    "def cubic_function(x):\n",
    "    return np.array(x) ** 3"
   ]
  },
  {
   "cell_type": "code",
   "execution_count": 50,
   "id": "1a82f7f3",
   "metadata": {},
   "outputs": [],
   "source": [
    "def derivative_cubic_func(x):\n",
    "    return 3 * (np.array(x) ** 2)"
   ]
  },
  {
   "cell_type": "code",
   "execution_count": 53,
   "id": "9ad8d67a",
   "metadata": {},
   "outputs": [],
   "source": [
    "end, steps, n_steps = gradient_descent(\n",
    "    gradient=derivative_cubic_func,\n",
    "    start=10.0,\n",
    "    learning_rate=0.009,\n",
    "    n_iter=1000,\n",
    ")"
   ]
  },
  {
   "cell_type": "code",
   "execution_count": 54,
   "id": "0b95b7e8",
   "metadata": {},
   "outputs": [
    {
     "name": "stdout",
     "output_type": "stream",
     "text": [
      "Gradient descent took 1000 steps.\n"
     ]
    },
    {
     "data": {
      "image/png": "[encoded data removed]",
      "text/plain": [
       "<Figure size 720x576 with 1 Axes>"
      ]
     },
     "metadata": {
      "needs_background": "light"
     },
     "output_type": "display_data"
    }
   ],
   "source": [
    "plot_gd(cubic_function, steps)"
   ]
  },
  {
   "cell_type": "code",
   "execution_count": 56,
   "id": "a87de2f8",
   "metadata": {},
   "outputs": [],
   "source": [
    "def polynomial_func(x):\n",
    "    return np.array(x) ** 4 - 5*np.array(x)**2 - 3*np.array(x)"
   ]
  },
  {
   "cell_type": "code",
   "execution_count": 57,
   "id": "e782f52a",
   "metadata": {},
   "outputs": [],
   "source": [
    "def derivative_polynomial_func(x):\n",
    "    return 4 * np.array(x) ** 3 - 10*np.array(x) - 3"
   ]
  },
  {
   "cell_type": "code",
   "execution_count": 90,
   "id": "d52e11ac",
   "metadata": {},
   "outputs": [],
   "source": [
    "end, steps, n_steps = gradient_descent(\n",
    "    gradient=derivative_polynomial_func,\n",
    "    start=-0.8,\n",
    "    learning_rate=0.001,\n",
    "    n_iter=1000,\n",
    ")"
   ]
  },
  {
   "cell_type": "code",
   "execution_count": 91,
   "id": "dcb37b03",
   "metadata": {},
   "outputs": [
    {
     "data": {
      "text/plain": [
       "743"
      ]
     },
     "execution_count": 91,
     "metadata": {},
     "output_type": "execute_result"
    }
   ],
   "source": [
    "n_steps"
   ]
  },
  {
   "cell_type": "code",
   "execution_count": 93,
   "id": "75d5dab4",
   "metadata": {},
   "outputs": [
    {
     "name": "stdout",
     "output_type": "stream",
     "text": [
      "Gradient descent took 743 steps.\n"
     ]
    },
    {
     "data": {
      "image/png": "[encoded data removed]",
      "text/plain": [
       "<Figure size 720x576 with 1 Axes>"
      ]
     },
     "metadata": {
      "needs_background": "light"
     },
     "output_type": "display_data"
    }
   ],
   "source": [
    "plot_gd(polynomial_func, steps, -2, 2.5, 100)"
   ]
  },
  {
   "cell_type": "code",
   "execution_count": 66,
   "id": "febc0867",
   "metadata": {},
   "outputs": [
    {
     "name": "stdout",
     "output_type": "stream",
     "text": [
      "Gradient descent took 70 steps.\n"
     ]
    },
    {
     "data": {
      "image/png": "[encoded data removed]",
      "text/plain": [
       "<Figure size 720x576 with 1 Axes>"
      ]
     },
     "metadata": {
      "needs_background": "light"
     },
     "output_type": "display_data"
    }
   ],
   "source": [
    "plot_gd(polynomial_func, steps, -10, 10, 100)"
   ]
  },
  {
   "cell_type": "markdown",
   "id": "ad23619b",
   "metadata": {},
   "source": [
    "# полиномиальная регрессия"
   ]
  },
  {
   "cell_type": "code",
   "execution_count": 113,
   "id": "ebda8853",
   "metadata": {},
   "outputs": [],
   "source": [
    "import pandas as pd\n",
    "from sklearn.model_selection import train_test_split\n",
    "from sklearn.preprocessing import PolynomialFeatures\n",
    "from sklearn.linear_model import LinearRegression"
   ]
  },
  {
   "cell_type": "code",
   "execution_count": 97,
   "id": "b283864c",
   "metadata": {},
   "outputs": [],
   "source": [
    "ice_cream = pd.read_csv('Ice_cream selling data.csv')"
   ]
  },
  {
   "cell_type": "code",
   "execution_count": 98,
   "id": "3376fb68",
   "metadata": {
    "scrolled": true
   },
   "outputs": [
    {
     "data": {
      "text/html": [
       "<div>\n",
       "<style scoped>\n",
       "    .dataframe tbody tr th:only-of-type {\n",
       "        vertical-align: middle;\n",
       "    }\n",
       "\n",
       "    .dataframe tbody tr th {\n",
       "        vertical-align: top;\n",
       "    }\n",
       "\n",
       "    .dataframe thead th {\n",
       "        text-align: right;\n",
       "    }\n",
       "</style>\n",
       "<table border=\"1\" class=\"dataframe\">\n",
       "  <thead>\n",
       "    <tr style=\"text-align: right;\">\n",
       "      <th></th>\n",
       "      <th>Temperature (°C)</th>\n",
       "      <th>Ice Cream Sales (units)</th>\n",
       "    </tr>\n",
       "  </thead>\n",
       "  <tbody>\n",
       "    <tr>\n",
       "      <th>0</th>\n",
       "      <td>-4.662263</td>\n",
       "      <td>41.842986</td>\n",
       "    </tr>\n",
       "    <tr>\n",
       "      <th>1</th>\n",
       "      <td>-4.316559</td>\n",
       "      <td>34.661120</td>\n",
       "    </tr>\n",
       "    <tr>\n",
       "      <th>2</th>\n",
       "      <td>-4.213985</td>\n",
       "      <td>39.383001</td>\n",
       "    </tr>\n",
       "    <tr>\n",
       "      <th>3</th>\n",
       "      <td>-3.949661</td>\n",
       "      <td>37.539845</td>\n",
       "    </tr>\n",
       "    <tr>\n",
       "      <th>4</th>\n",
       "      <td>-3.578554</td>\n",
       "      <td>32.284531</td>\n",
       "    </tr>\n",
       "    <tr>\n",
       "      <th>5</th>\n",
       "      <td>-3.455712</td>\n",
       "      <td>30.001138</td>\n",
       "    </tr>\n",
       "    <tr>\n",
       "      <th>6</th>\n",
       "      <td>-3.108440</td>\n",
       "      <td>22.635401</td>\n",
       "    </tr>\n",
       "    <tr>\n",
       "      <th>7</th>\n",
       "      <td>-3.081303</td>\n",
       "      <td>25.365022</td>\n",
       "    </tr>\n",
       "    <tr>\n",
       "      <th>8</th>\n",
       "      <td>-2.672461</td>\n",
       "      <td>19.226970</td>\n",
       "    </tr>\n",
       "    <tr>\n",
       "      <th>9</th>\n",
       "      <td>-2.652287</td>\n",
       "      <td>20.279679</td>\n",
       "    </tr>\n",
       "    <tr>\n",
       "      <th>10</th>\n",
       "      <td>-2.651498</td>\n",
       "      <td>13.275828</td>\n",
       "    </tr>\n",
       "    <tr>\n",
       "      <th>11</th>\n",
       "      <td>-2.288264</td>\n",
       "      <td>18.123991</td>\n",
       "    </tr>\n",
       "    <tr>\n",
       "      <th>12</th>\n",
       "      <td>-2.111870</td>\n",
       "      <td>11.218294</td>\n",
       "    </tr>\n",
       "    <tr>\n",
       "      <th>13</th>\n",
       "      <td>-1.818938</td>\n",
       "      <td>10.012868</td>\n",
       "    </tr>\n",
       "    <tr>\n",
       "      <th>14</th>\n",
       "      <td>-1.660348</td>\n",
       "      <td>12.615181</td>\n",
       "    </tr>\n",
       "    <tr>\n",
       "      <th>15</th>\n",
       "      <td>-1.326379</td>\n",
       "      <td>10.957731</td>\n",
       "    </tr>\n",
       "    <tr>\n",
       "      <th>16</th>\n",
       "      <td>-1.173123</td>\n",
       "      <td>6.689123</td>\n",
       "    </tr>\n",
       "    <tr>\n",
       "      <th>17</th>\n",
       "      <td>-0.773330</td>\n",
       "      <td>9.392969</td>\n",
       "    </tr>\n",
       "    <tr>\n",
       "      <th>18</th>\n",
       "      <td>-0.673753</td>\n",
       "      <td>5.210163</td>\n",
       "    </tr>\n",
       "    <tr>\n",
       "      <th>19</th>\n",
       "      <td>-0.149635</td>\n",
       "      <td>4.673643</td>\n",
       "    </tr>\n",
       "    <tr>\n",
       "      <th>20</th>\n",
       "      <td>-0.036156</td>\n",
       "      <td>0.328626</td>\n",
       "    </tr>\n",
       "    <tr>\n",
       "      <th>21</th>\n",
       "      <td>-0.033895</td>\n",
       "      <td>0.897603</td>\n",
       "    </tr>\n",
       "    <tr>\n",
       "      <th>22</th>\n",
       "      <td>0.008608</td>\n",
       "      <td>3.165600</td>\n",
       "    </tr>\n",
       "    <tr>\n",
       "      <th>23</th>\n",
       "      <td>0.149245</td>\n",
       "      <td>1.931416</td>\n",
       "    </tr>\n",
       "    <tr>\n",
       "      <th>24</th>\n",
       "      <td>0.688781</td>\n",
       "      <td>2.576782</td>\n",
       "    </tr>\n",
       "    <tr>\n",
       "      <th>25</th>\n",
       "      <td>0.693599</td>\n",
       "      <td>4.625689</td>\n",
       "    </tr>\n",
       "    <tr>\n",
       "      <th>26</th>\n",
       "      <td>0.874905</td>\n",
       "      <td>0.789974</td>\n",
       "    </tr>\n",
       "    <tr>\n",
       "      <th>27</th>\n",
       "      <td>1.024181</td>\n",
       "      <td>2.313806</td>\n",
       "    </tr>\n",
       "    <tr>\n",
       "      <th>28</th>\n",
       "      <td>1.240712</td>\n",
       "      <td>1.292361</td>\n",
       "    </tr>\n",
       "    <tr>\n",
       "      <th>29</th>\n",
       "      <td>1.359813</td>\n",
       "      <td>0.953115</td>\n",
       "    </tr>\n",
       "    <tr>\n",
       "      <th>30</th>\n",
       "      <td>1.740000</td>\n",
       "      <td>3.782570</td>\n",
       "    </tr>\n",
       "    <tr>\n",
       "      <th>31</th>\n",
       "      <td>1.850552</td>\n",
       "      <td>4.857988</td>\n",
       "    </tr>\n",
       "    <tr>\n",
       "      <th>32</th>\n",
       "      <td>1.999310</td>\n",
       "      <td>8.943823</td>\n",
       "    </tr>\n",
       "    <tr>\n",
       "      <th>33</th>\n",
       "      <td>2.075101</td>\n",
       "      <td>8.170735</td>\n",
       "    </tr>\n",
       "    <tr>\n",
       "      <th>34</th>\n",
       "      <td>2.318591</td>\n",
       "      <td>7.412094</td>\n",
       "    </tr>\n",
       "    <tr>\n",
       "      <th>35</th>\n",
       "      <td>2.471946</td>\n",
       "      <td>10.336631</td>\n",
       "    </tr>\n",
       "    <tr>\n",
       "      <th>36</th>\n",
       "      <td>2.784836</td>\n",
       "      <td>15.996620</td>\n",
       "    </tr>\n",
       "    <tr>\n",
       "      <th>37</th>\n",
       "      <td>2.831760</td>\n",
       "      <td>12.568237</td>\n",
       "    </tr>\n",
       "    <tr>\n",
       "      <th>38</th>\n",
       "      <td>2.959932</td>\n",
       "      <td>21.342916</td>\n",
       "    </tr>\n",
       "    <tr>\n",
       "      <th>39</th>\n",
       "      <td>3.020874</td>\n",
       "      <td>20.114413</td>\n",
       "    </tr>\n",
       "    <tr>\n",
       "      <th>40</th>\n",
       "      <td>3.211366</td>\n",
       "      <td>22.839406</td>\n",
       "    </tr>\n",
       "    <tr>\n",
       "      <th>41</th>\n",
       "      <td>3.270044</td>\n",
       "      <td>16.983279</td>\n",
       "    </tr>\n",
       "    <tr>\n",
       "      <th>42</th>\n",
       "      <td>3.316073</td>\n",
       "      <td>25.142082</td>\n",
       "    </tr>\n",
       "    <tr>\n",
       "      <th>43</th>\n",
       "      <td>3.335932</td>\n",
       "      <td>26.104740</td>\n",
       "    </tr>\n",
       "    <tr>\n",
       "      <th>44</th>\n",
       "      <td>3.610778</td>\n",
       "      <td>28.912188</td>\n",
       "    </tr>\n",
       "    <tr>\n",
       "      <th>45</th>\n",
       "      <td>3.704057</td>\n",
       "      <td>17.843957</td>\n",
       "    </tr>\n",
       "    <tr>\n",
       "      <th>46</th>\n",
       "      <td>4.130868</td>\n",
       "      <td>34.530743</td>\n",
       "    </tr>\n",
       "    <tr>\n",
       "      <th>47</th>\n",
       "      <td>4.133534</td>\n",
       "      <td>27.698383</td>\n",
       "    </tr>\n",
       "    <tr>\n",
       "      <th>48</th>\n",
       "      <td>4.899032</td>\n",
       "      <td>41.514822</td>\n",
       "    </tr>\n",
       "  </tbody>\n",
       "</table>\n",
       "</div>"
      ],
      "text/plain": [
       "    Temperature (°C)  Ice Cream Sales (units)\n",
       "0          -4.662263                41.842986\n",
       "1          -4.316559                34.661120\n",
       "2          -4.213985                39.383001\n",
       "3          -3.949661                37.539845\n",
       "4          -3.578554                32.284531\n",
       "5          -3.455712                30.001138\n",
       "6          -3.108440                22.635401\n",
       "7          -3.081303                25.365022\n",
       "8          -2.672461                19.226970\n",
       "9          -2.652287                20.279679\n",
       "10         -2.651498                13.275828\n",
       "11         -2.288264                18.123991\n",
       "12         -2.111870                11.218294\n",
       "13         -1.818938                10.012868\n",
       "14         -1.660348                12.615181\n",
       "15         -1.326379                10.957731\n",
       "16         -1.173123                 6.689123\n",
       "17         -0.773330                 9.392969\n",
       "18         -0.673753                 5.210163\n",
       "19         -0.149635                 4.673643\n",
       "20         -0.036156                 0.328626\n",
       "21         -0.033895                 0.897603\n",
       "22          0.008608                 3.165600\n",
       "23          0.149245                 1.931416\n",
       "24          0.688781                 2.576782\n",
       "25          0.693599                 4.625689\n",
       "26          0.874905                 0.789974\n",
       "27          1.024181                 2.313806\n",
       "28          1.240712                 1.292361\n",
       "29          1.359813                 0.953115\n",
       "30          1.740000                 3.782570\n",
       "31          1.850552                 4.857988\n",
       "32          1.999310                 8.943823\n",
       "33          2.075101                 8.170735\n",
       "34          2.318591                 7.412094\n",
       "35          2.471946                10.336631\n",
       "36          2.784836                15.996620\n",
       "37          2.831760                12.568237\n",
       "38          2.959932                21.342916\n",
       "39          3.020874                20.114413\n",
       "40          3.211366                22.839406\n",
       "41          3.270044                16.983279\n",
       "42          3.316073                25.142082\n",
       "43          3.335932                26.104740\n",
       "44          3.610778                28.912188\n",
       "45          3.704057                17.843957\n",
       "46          4.130868                34.530743\n",
       "47          4.133534                27.698383\n",
       "48          4.899032                41.514822"
      ]
     },
     "execution_count": 98,
     "metadata": {},
     "output_type": "execute_result"
    }
   ],
   "source": [
    "ice_cream"
   ]
  },
  {
   "cell_type": "code",
   "execution_count": 130,
   "id": "3a2daa26",
   "metadata": {},
   "outputs": [
    {
     "data": {
      "text/html": [
       "<div>\n",
       "<style scoped>\n",
       "    .dataframe tbody tr th:only-of-type {\n",
       "        vertical-align: middle;\n",
       "    }\n",
       "\n",
       "    .dataframe tbody tr th {\n",
       "        vertical-align: top;\n",
       "    }\n",
       "\n",
       "    .dataframe thead th {\n",
       "        text-align: right;\n",
       "    }\n",
       "</style>\n",
       "<table border=\"1\" class=\"dataframe\">\n",
       "  <thead>\n",
       "    <tr style=\"text-align: right;\">\n",
       "      <th></th>\n",
       "      <th>Temperature (°C)</th>\n",
       "      <th>Ice Cream Sales (units)</th>\n",
       "    </tr>\n",
       "  </thead>\n",
       "  <tbody>\n",
       "    <tr>\n",
       "      <th>Temperature (°C)</th>\n",
       "      <td>1.000000</td>\n",
       "      <td>-0.175184</td>\n",
       "    </tr>\n",
       "    <tr>\n",
       "      <th>Ice Cream Sales (units)</th>\n",
       "      <td>-0.175184</td>\n",
       "      <td>1.000000</td>\n",
       "    </tr>\n",
       "  </tbody>\n",
       "</table>\n",
       "</div>"
      ],
      "text/plain": [
       "                         Temperature (°C)  Ice Cream Sales (units)\n",
       "Temperature (°C)                 1.000000                -0.175184\n",
       "Ice Cream Sales (units)         -0.175184                 1.000000"
      ]
     },
     "execution_count": 130,
     "metadata": {},
     "output_type": "execute_result"
    }
   ],
   "source": [
    "ice_cream.corr()"
   ]
  },
  {
   "cell_type": "code",
   "execution_count": 103,
   "id": "6f367a22",
   "metadata": {},
   "outputs": [],
   "source": [
    "X2, y2 = ice_cream.iloc[:, :-1], ice_cream.iloc[:, -1]\n",
    "X2_train, X2_test, y2_train, y2_test = train_test_split(X2, y2, random_state=0)"
   ]
  },
  {
   "cell_type": "code",
   "execution_count": 105,
   "id": "930cee0e",
   "metadata": {},
   "outputs": [],
   "source": [
    "feature_name, target_name = ice_cream.columns"
   ]
  },
  {
   "cell_type": "code",
   "execution_count": 107,
   "id": "600b2bdc",
   "metadata": {},
   "outputs": [],
   "source": [
    "poly_features = PolynomialFeatures(degree=8, include_bias=True)"
   ]
  },
  {
   "cell_type": "code",
   "execution_count": 109,
   "id": "4c11d718",
   "metadata": {},
   "outputs": [],
   "source": [
    "X2_poly = poly_features.fit_transform(X2)"
   ]
  },
  {
   "cell_type": "code",
   "execution_count": 111,
   "id": "2d9a12f8",
   "metadata": {},
   "outputs": [],
   "source": [
    "X2_poly_train, X2_poly_test = train_test_split(X2_poly, random_state=0)"
   ]
  },
  {
   "cell_type": "code",
   "execution_count": 122,
   "id": "36b53788",
   "metadata": {},
   "outputs": [],
   "source": [
    "sk_linear_regression = LinearRegression()\n",
    "sk_linear_regression.fit(X2_train, y2_train)\n",
    "sk_lr_pred_res = sk_linear_regression.predict(X2_test)\n",
    "sk_lr_pred_all_data_res = sk_linear_regression.predict(X2)\n",
    "linear_regression_r2 = r2_score(y2_test, sk_lr_pred_res)"
   ]
  },
  {
   "cell_type": "code",
   "execution_count": 123,
   "id": "fa26faca",
   "metadata": {},
   "outputs": [],
   "source": [
    "sk_polynomial_regression = LinearRegression()\n",
    "sk_polynomial_regression.fit(X2_poly_train, y2_train)\n",
    "sk_poly_lr_pred_res = sk_polynomial_regression.predict(X2_poly_test)\n",
    "sk_poly_lr_pred_all_data_res = sk_polynomial_regression.predict(X2_poly)\n",
    "polynomial_regression_r2 = r2_score(y2_test, sk_poly_lr_pred_res)"
   ]
  },
  {
   "cell_type": "code",
   "execution_count": 120,
   "id": "55f2e26b",
   "metadata": {},
   "outputs": [],
   "source": [
    "linear_regression_mse = mean_squared_error(y2_test, sk_lr_pred_res)\n",
    "polynomial_regression_mse = mean_squared_error(y2_test, sk_poly_lr_pred_res)\n",
    "\n",
    "linear_regression_mape = mean_absolute_percentage_error(y2_test, sk_lr_pred_res)\n",
    "polynomial_regression_mape = mean_absolute_percentage_error(y2_test, sk_poly_lr_pred_res)"
   ]
  },
  {
   "cell_type": "code",
   "execution_count": 121,
   "id": "bb5f9a7a",
   "metadata": {},
   "outputs": [
    {
     "name": "stdout",
     "output_type": "stream",
     "text": [
      "R2 score (Linear regression): -0.17464074069095403\n",
      "R2 score (Polynomial regression): 0.9263835127777211 \n",
      "\n",
      "MSE (Linear regression): 104.58329195064105\n",
      "MSE (Polynomial regression): 6.554390894887102 \n",
      "\n",
      "MAPE (Linear regression): 3.6799207393653273\n",
      "MAPE (Polynomial regression): 0.4288439423868393\n"
     ]
    }
   ],
   "source": [
    "print(f'R2 score (Linear regression): {linear_regression_r2}')\n",
    "print(f'R2 score (Polynomial regression): {polynomial_regression_r2}', '\\n')\n",
    "\n",
    "print(f'MSE (Linear regression): {linear_regression_mse}')\n",
    "print(f'MSE (Polynomial regression): {polynomial_regression_mse}', '\\n')\n",
    "\n",
    "print(f'MAPE (Linear regression): {linear_regression_mape}')\n",
    "print(f'MAPE (Polynomial regression): {polynomial_regression_mape}')"
   ]
  },
  {
   "cell_type": "code",
   "execution_count": 128,
   "id": "68bb65e1",
   "metadata": {},
   "outputs": [
    {
     "data": {
      "image/png": "[encoded data removed]",
      "text/plain": [
       "<Figure size 720x576 with 1 Axes>"
      ]
     },
     "metadata": {
      "needs_background": "light"
     },
     "output_type": "display_data"
    }
   ],
   "source": [
    "plt.figure(figsize=(10, 8))\n",
    "plt.scatter(X2, y2)\n",
    "plt.plot(X2, sk_lr_pred_all_data_res, color='darkorange', label='Linear Regression')\n",
    "plt.plot(X2, sk_poly_lr_pred_all_data_res, color='green', label='Polynomial Regression')\n",
    "plt.title('Polynomial vs Linear regression')\n",
    "plt.xlabel(feature_name)\n",
    "plt.ylabel(target_name)\n",
    "plt.legend()\n",
    "plt.grid()\n",
    "plt.show()"
   ]
  },
  {
   "cell_type": "code",
   "execution_count": 135,
   "id": "21fa8b04",
   "metadata": {},
   "outputs": [
    {
     "data": {
      "text/html": [
       "<div>\n",
       "<style scoped>\n",
       "    .dataframe tbody tr th:only-of-type {\n",
       "        vertical-align: middle;\n",
       "    }\n",
       "\n",
       "    .dataframe tbody tr th {\n",
       "        vertical-align: top;\n",
       "    }\n",
       "\n",
       "    .dataframe thead th {\n",
       "        text-align: right;\n",
       "    }\n",
       "</style>\n",
       "<table border=\"1\" class=\"dataframe\">\n",
       "  <thead>\n",
       "    <tr style=\"text-align: right;\">\n",
       "      <th></th>\n",
       "      <th>0</th>\n",
       "      <th>1</th>\n",
       "      <th>2</th>\n",
       "      <th>3</th>\n",
       "      <th>4</th>\n",
       "      <th>5</th>\n",
       "      <th>6</th>\n",
       "      <th>7</th>\n",
       "      <th>8</th>\n",
       "      <th>Ice Cream Sales (units)</th>\n",
       "    </tr>\n",
       "  </thead>\n",
       "  <tbody>\n",
       "    <tr>\n",
       "      <th>0</th>\n",
       "      <td>NaN</td>\n",
       "      <td>NaN</td>\n",
       "      <td>NaN</td>\n",
       "      <td>NaN</td>\n",
       "      <td>NaN</td>\n",
       "      <td>NaN</td>\n",
       "      <td>NaN</td>\n",
       "      <td>NaN</td>\n",
       "      <td>NaN</td>\n",
       "      <td>NaN</td>\n",
       "    </tr>\n",
       "    <tr>\n",
       "      <th>1</th>\n",
       "      <td>NaN</td>\n",
       "      <td>1.000000</td>\n",
       "      <td>0.006539</td>\n",
       "      <td>0.905175</td>\n",
       "      <td>-0.013306</td>\n",
       "      <td>0.772967</td>\n",
       "      <td>-0.011933</td>\n",
       "      <td>0.662714</td>\n",
       "      <td>0.002890</td>\n",
       "      <td>-0.175184</td>\n",
       "    </tr>\n",
       "    <tr>\n",
       "      <th>2</th>\n",
       "      <td>NaN</td>\n",
       "      <td>0.006539</td>\n",
       "      <td>1.000000</td>\n",
       "      <td>0.022885</td>\n",
       "      <td>0.942305</td>\n",
       "      <td>0.035461</td>\n",
       "      <td>0.853483</td>\n",
       "      <td>0.057380</td>\n",
       "      <td>0.773705</td>\n",
       "      <td>0.948268</td>\n",
       "    </tr>\n",
       "    <tr>\n",
       "      <th>3</th>\n",
       "      <td>NaN</td>\n",
       "      <td>0.905175</td>\n",
       "      <td>0.022885</td>\n",
       "      <td>1.000000</td>\n",
       "      <td>0.022821</td>\n",
       "      <td>0.961305</td>\n",
       "      <td>0.041791</td>\n",
       "      <td>0.892114</td>\n",
       "      <td>0.072337</td>\n",
       "      <td>-0.113698</td>\n",
       "    </tr>\n",
       "    <tr>\n",
       "      <th>4</th>\n",
       "      <td>NaN</td>\n",
       "      <td>-0.013306</td>\n",
       "      <td>0.942305</td>\n",
       "      <td>0.022821</td>\n",
       "      <td>1.000000</td>\n",
       "      <td>0.060849</td>\n",
       "      <td>0.975509</td>\n",
       "      <td>0.104028</td>\n",
       "      <td>0.929684</td>\n",
       "      <td>0.872103</td>\n",
       "    </tr>\n",
       "    <tr>\n",
       "      <th>5</th>\n",
       "      <td>NaN</td>\n",
       "      <td>0.772967</td>\n",
       "      <td>0.035461</td>\n",
       "      <td>0.961305</td>\n",
       "      <td>0.060849</td>\n",
       "      <td>1.000000</td>\n",
       "      <td>0.099434</td>\n",
       "      <td>0.980490</td>\n",
       "      <td>0.144445</td>\n",
       "      <td>-0.074324</td>\n",
       "    </tr>\n",
       "    <tr>\n",
       "      <th>6</th>\n",
       "      <td>NaN</td>\n",
       "      <td>-0.011933</td>\n",
       "      <td>0.853483</td>\n",
       "      <td>0.041791</td>\n",
       "      <td>0.975509</td>\n",
       "      <td>0.099434</td>\n",
       "      <td>1.000000</td>\n",
       "      <td>0.157792</td>\n",
       "      <td>0.987122</td>\n",
       "      <td>0.771796</td>\n",
       "    </tr>\n",
       "    <tr>\n",
       "      <th>7</th>\n",
       "      <td>NaN</td>\n",
       "      <td>0.662714</td>\n",
       "      <td>0.057380</td>\n",
       "      <td>0.892114</td>\n",
       "      <td>0.104028</td>\n",
       "      <td>0.980490</td>\n",
       "      <td>0.157792</td>\n",
       "      <td>1.000000</td>\n",
       "      <td>0.213072</td>\n",
       "      <td>-0.035188</td>\n",
       "    </tr>\n",
       "    <tr>\n",
       "      <th>8</th>\n",
       "      <td>NaN</td>\n",
       "      <td>0.002890</td>\n",
       "      <td>0.773705</td>\n",
       "      <td>0.072337</td>\n",
       "      <td>0.929684</td>\n",
       "      <td>0.144445</td>\n",
       "      <td>0.987122</td>\n",
       "      <td>0.213072</td>\n",
       "      <td>1.000000</td>\n",
       "      <td>0.686228</td>\n",
       "    </tr>\n",
       "    <tr>\n",
       "      <th>Ice Cream Sales (units)</th>\n",
       "      <td>NaN</td>\n",
       "      <td>-0.175184</td>\n",
       "      <td>0.948268</td>\n",
       "      <td>-0.113698</td>\n",
       "      <td>0.872103</td>\n",
       "      <td>-0.074324</td>\n",
       "      <td>0.771796</td>\n",
       "      <td>-0.035188</td>\n",
       "      <td>0.686228</td>\n",
       "      <td>1.000000</td>\n",
       "    </tr>\n",
       "  </tbody>\n",
       "</table>\n",
       "</div>"
      ],
      "text/plain": [
       "                          0         1         2         3         4         5  \\\n",
       "0                       NaN       NaN       NaN       NaN       NaN       NaN   \n",
       "1                       NaN  1.000000  0.006539  0.905175 -0.013306  0.772967   \n",
       "2                       NaN  0.006539  1.000000  0.022885  0.942305  0.035461   \n",
       "3                       NaN  0.905175  0.022885  1.000000  0.022821  0.961305   \n",
       "4                       NaN -0.013306  0.942305  0.022821  1.000000  0.060849   \n",
       "5                       NaN  0.772967  0.035461  0.961305  0.060849  1.000000   \n",
       "6                       NaN -0.011933  0.853483  0.041791  0.975509  0.099434   \n",
       "7                       NaN  0.662714  0.057380  0.892114  0.104028  0.980490   \n",
       "8                       NaN  0.002890  0.773705  0.072337  0.929684  0.144445   \n",
       "Ice Cream Sales (units) NaN -0.175184  0.948268 -0.113698  0.872103 -0.074324   \n",
       "\n",
       "                                6         7         8  Ice Cream Sales (units)  \n",
       "0                             NaN       NaN       NaN                      NaN  \n",
       "1                       -0.011933  0.662714  0.002890                -0.175184  \n",
       "2                        0.853483  0.057380  0.773705                 0.948268  \n",
       "3                        0.041791  0.892114  0.072337                -0.113698  \n",
       "4                        0.975509  0.104028  0.929684                 0.872103  \n",
       "5                        0.099434  0.980490  0.144445                -0.074324  \n",
       "6                        1.000000  0.157792  0.987122                 0.771796  \n",
       "7                        0.157792  1.000000  0.213072                -0.035188  \n",
       "8                        0.987122  0.213072  1.000000                 0.686228  \n",
       "Ice Cream Sales (units)  0.771796 -0.035188  0.686228                 1.000000  "
      ]
     },
     "execution_count": 135,
     "metadata": {},
     "output_type": "execute_result"
    }
   ],
   "source": [
    "pd.concat([pd.DataFrame(X2_poly), y2], axis=1).corr()"
   ]
  },
  {
   "cell_type": "code",
   "execution_count": null,
   "id": "c3fb9d69",
   "metadata": {},
   "outputs": [],
   "source": [
    "y = k * t + 16"
   ]
  },
  {
   "cell_type": "code",
   "execution_count": null,
   "id": "3126cc07",
   "metadata": {},
   "outputs": [],
   "source": [
    "y = k0 + k1 * t + k2 * t**2 ..... k8* t ** 8"
   ]
  },
  {
   "cell_type": "markdown",
   "id": "5a0c7ecd",
   "metadata": {},
   "source": [
    "# Batch gradient descent"
   ]
  },
  {
   "cell_type": "code",
   "execution_count": 3,
   "id": "421fc12b",
   "metadata": {},
   "outputs": [],
   "source": [
    "import numpy as np\n",
    "import matplotlib.pyplot as plt"
   ]
  },
  {
   "cell_type": "code",
   "execution_count": 4,
   "id": "16a2a2ac",
   "metadata": {},
   "outputs": [],
   "source": [
    "def gradient_descent(gradient, x, y, start, learning_rate=0.1, n_iter=50, tolerence=1e-04):\n",
    "    \n",
    "    vector = start\n",
    "    n_steps = 0\n",
    "    \n",
    "    for _ in range(n_iter):\n",
    "        diff = learning_rate * np.array(ssr_gradient(x, y, vector))\n",
    "        if np.all(np.abs(diff) <= tolerence):\n",
    "            break\n",
    "        vector -= diff\n",
    "        n_steps += 1\n",
    "        \n",
    "    return vector, n_steps"
   ]
  },
  {
   "cell_type": "code",
   "execution_count": 5,
   "id": "1ac59b20",
   "metadata": {},
   "outputs": [],
   "source": [
    "x = np.array([5, 15, 25, 35, 45, 55])\n",
    "y = np.array([5, 20, 14, 32, 22, 38])"
   ]
  },
  {
   "cell_type": "code",
   "execution_count": 6,
   "id": "cc3709c9",
   "metadata": {},
   "outputs": [
    {
     "data": {
      "text/plain": [
       "[<matplotlib.lines.Line2D at 0x29b4e973280>]"
      ]
     },
     "execution_count": 6,
     "metadata": {},
     "output_type": "execute_result"
    },
    {
     "data": {
      "image/png": "[encoded data removed]",
      "text/plain": [
       "<Figure size 432x288 with 1 Axes>"
      ]
     },
     "metadata": {
      "needs_background": "light"
     },
     "output_type": "display_data"
    }
   ],
   "source": [
    "plt.plot(x, y, 'or')"
   ]
  },
  {
   "cell_type": "code",
   "execution_count": 7,
   "id": "8f8a4649",
   "metadata": {},
   "outputs": [],
   "source": [
    "def ssr_gradient(x, y, b):\n",
    "    res = b[0] + b[1] * x - y\n",
    "    return res.mean(), (res * x).mean()"
   ]
  },
  {
   "cell_type": "code",
   "execution_count": 8,
   "id": "23a9a4d6",
   "metadata": {},
   "outputs": [
    {
     "data": {
      "text/plain": [
       "(array([5.1223361 , 0.55286691]), 11785)"
      ]
     },
     "execution_count": 8,
     "metadata": {},
     "output_type": "execute_result"
    }
   ],
   "source": [
    "gradient_descent(ssr_gradient, x, y, start=[0.5, 0.5], learning_rate=0.0008, n_iter=100000)"
   ]
  },
  {
   "cell_type": "code",
   "execution_count": null,
   "id": "628c7195",
   "metadata": {},
   "outputs": [],
   "source": [
    "f(x) = 5.63 + 0.54 * x"
   ]
  },
  {
   "cell_type": "code",
   "execution_count": 11,
   "id": "f3c5e405",
   "metadata": {},
   "outputs": [],
   "source": [
    "preds = np.array(x) * 0.54 + 5.63 "
   ]
  },
  {
   "cell_type": "code",
   "execution_count": 12,
   "id": "6f5656d9",
   "metadata": {},
   "outputs": [
    {
     "data": {
      "text/plain": [
       "[<matplotlib.lines.Line2D at 0x29b50a77520>]"
      ]
     },
     "execution_count": 12,
     "metadata": {},
     "output_type": "execute_result"
    },
    {
     "data": {
      "image/png": "[encoded data removed]",
      "text/plain": [
       "<Figure size 432x288 with 1 Axes>"
      ]
     },
     "metadata": {
      "needs_background": "light"
     },
     "output_type": "display_data"
    }
   ],
   "source": [
    "plt.plot(x, y, '-or')\n",
    "plt.plot(x, preds, '--og')"
   ]
  },
  {
   "cell_type": "code",
   "execution_count": 13,
   "id": "5e126aa6",
   "metadata": {},
   "outputs": [
    {
     "data": {
      "text/plain": [
       "dtype('float64')"
      ]
     },
     "execution_count": 13,
     "metadata": {},
     "output_type": "execute_result"
    }
   ],
   "source": [
    "dtype_ = np.dtype('float64')\n",
    "dtype_"
   ]
  },
  {
   "cell_type": "code",
   "execution_count": 14,
   "id": "23c2166e",
   "metadata": {},
   "outputs": [
    {
     "data": {
      "text/plain": [
       "6"
      ]
     },
     "execution_count": 14,
     "metadata": {},
     "output_type": "execute_result"
    }
   ],
   "source": [
    "x.shape[0]"
   ]
  },
  {
   "cell_type": "code",
   "execution_count": 15,
   "id": "bc10db97",
   "metadata": {},
   "outputs": [
    {
     "data": {
      "text/plain": [
       "array([[ 5],\n",
       "       [15],\n",
       "       [25],\n",
       "       [35],\n",
       "       [45],\n",
       "       [55]])"
      ]
     },
     "execution_count": 15,
     "metadata": {},
     "output_type": "execute_result"
    }
   ],
   "source": [
    "x.reshape(6, -1)"
   ]
  },
  {
   "cell_type": "code",
   "execution_count": 16,
   "id": "c22fc859",
   "metadata": {},
   "outputs": [
    {
     "data": {
      "text/plain": [
       "array([[ 5,  5],\n",
       "       [15, 20],\n",
       "       [25, 14],\n",
       "       [35, 32],\n",
       "       [45, 22],\n",
       "       [55, 38]])"
      ]
     },
     "execution_count": 16,
     "metadata": {},
     "output_type": "execute_result"
    }
   ],
   "source": [
    "np.c_[x.reshape(6, -1), y.reshape(6, 1)]"
   ]
  },
  {
   "cell_type": "code",
   "execution_count": 17,
   "id": "1a696806",
   "metadata": {},
   "outputs": [
    {
     "data": {
      "text/plain": [
       "Generator(PCG64) at 0x29B50A95F20"
      ]
     },
     "execution_count": 17,
     "metadata": {},
     "output_type": "execute_result"
    }
   ],
   "source": [
    "rng = np.random.default_rng(2)\n",
    "rng"
   ]
  },
  {
   "cell_type": "code",
   "execution_count": 29,
   "id": "c3231cf1",
   "metadata": {},
   "outputs": [],
   "source": [
    "import numpy as np\n",
    "\n",
    "def gradient_descent(\n",
    "    gradient, x, y, start, learn_rate=0.1, n_iter=50, tolerance=1e-06,\n",
    "    dtype=\"float64\"\n",
    "):\n",
    "    # Checking if the gradient is callable\n",
    "    if not callable(gradient):\n",
    "        raise TypeError(\"'gradient' must be callable\")\n",
    "\n",
    "    # Setting up the data type for NumPy arrays\n",
    "    dtype_ = np.dtype(dtype)\n",
    "\n",
    "    # Converting x and y to NumPy arrays\n",
    "    x, y = np.array(x, dtype=dtype_), np.array(y, dtype=dtype_)\n",
    "    if x.shape[0] != y.shape[0]:\n",
    "        raise ValueError(\"'x' and 'y' lengths do not match\")\n",
    "\n",
    "    # Initializing the values of the variables\n",
    "    vector = np.array(start, dtype=dtype_)\n",
    "\n",
    "    # Setting up and checking the learning rate\n",
    "    learn_rate = np.array(learn_rate, dtype=dtype_)\n",
    "    if np.any(learn_rate <= 0):\n",
    "        raise ValueError(\"'learn_rate' must be greater than zero\")\n",
    "\n",
    "    # Setting up and checking the maximal number of iterations\n",
    "    n_iter = int(n_iter)\n",
    "    if n_iter <= 0:\n",
    "        raise ValueError(\"'n_iter' must be greater than zero\")\n",
    "\n",
    "    # Setting up and checking the tolerance\n",
    "    tolerance = np.array(tolerance, dtype=dtype_)\n",
    "    if np.any(tolerance <= 0):\n",
    "        raise ValueError(\"'tolerance' must be greater than zero\")\n",
    "\n",
    "    n_steps = 0\n",
    "        \n",
    "    # Performing the gradient descent loop\n",
    "    for _ in range(n_iter):\n",
    "        # Recalculating the difference\n",
    "        diff = -learn_rate * np.array(gradient(x, y, vector), dtype_)\n",
    "\n",
    "        # Checking if the absolute difference is small enough\n",
    "        if np.all(np.abs(diff) <= tolerance):\n",
    "            break\n",
    "\n",
    "        # Updating the values of the variables\n",
    "        vector += diff\n",
    "        \n",
    "        n_steps += 1\n",
    "\n",
    "    return vector if vector.shape else vector.item(), n_steps"
   ]
  },
  {
   "cell_type": "markdown",
   "id": "fec52e4b",
   "metadata": {},
   "source": [
    "# Не запускать ячейки с использованием этой функции sgd на своём большом количестве сгенерированных данных, она вернёт бесконечные коэффициенты регрессии"
   ]
  },
  {
   "cell_type": "code",
   "execution_count": 93,
   "id": "cf164036",
   "metadata": {},
   "outputs": [],
   "source": [
    "import numpy as np\n",
    "\n",
    "def sgd(\n",
    "    gradient, x, y, start, learn_rate=0.1, batch_size=1, \n",
    "    n_iter=50, tolerance=1e-06, dtype=\"float64\", random_state=2,\n",
    "):\n",
    "    # Checking if the gradient is callable\n",
    "    if not callable(gradient):\n",
    "        raise TypeError(\"'gradient' must be callable\")\n",
    "\n",
    "    # Setting up the data type for NumPy arrays\n",
    "    dtype_ = np.dtype(dtype)\n",
    "\n",
    "    # Converting x and y to NumPy arrays\n",
    "    x, y = np.array(x, dtype=dtype_), np.array(y, dtype=dtype_)\n",
    "    n_obs = x.shape[0]\n",
    "    if x.shape[0] != y.shape[0]:\n",
    "        raise ValueError(\"'x' and 'y' lengths do not match\")\n",
    "    xy = np.c_[x.reshape(n_obs, -1), y.reshape(n_obs, 1)]\n",
    "    \n",
    "    # Initializing the random state of genetrator\n",
    "    seed = None if random_state is None else int(random_state)\n",
    "    rng = np.random.default_rng(seed)\n",
    "\n",
    "    # Initializing the values of the variables\n",
    "    vector = np.array(start, dtype=dtype_)\n",
    "\n",
    "    # Setting up and checking the learning rate\n",
    "    learn_rate = np.array(learn_rate, dtype=dtype_)\n",
    "    if np.any(learn_rate <= 0):\n",
    "        raise ValueError(\"'learn_rate' must be greater than zero\")\n",
    "        \n",
    "    # Setting up and checking the size of minibatches\n",
    "    if not 0 < batch_size <= n_obs:\n",
    "        raise ValueError(\n",
    "            \"'batch_size' must be greater than zero and less than \"\n",
    "            \"or equal to the number of observations\"\n",
    "        )\n",
    "\n",
    "    # Setting up and checking the maximal number of iterations\n",
    "    n_iter = int(n_iter)\n",
    "    if n_iter <= 0:\n",
    "        raise ValueError(\"'n_iter' must be greater than zero\")\n",
    "\n",
    "    # Setting up and checking the tolerance\n",
    "    tolerance = np.array(tolerance, dtype=dtype_)\n",
    "    if np.any(tolerance <= 0):\n",
    "        raise ValueError(\"'tolerance' must be greater than zero\")\n",
    "\n",
    "    n_steps = 0\n",
    "        \n",
    "    # Performing the gradient descent loop\n",
    "    for _ in range(n_iter):\n",
    "        \n",
    "        # Shuffle x and y\n",
    "        rng.shuffle(xy)\n",
    "        \n",
    "        # Performing minibatch moves\n",
    "        for start in range(0, n_obs, batch_size):\n",
    "            \n",
    "            stop = start + batch_size\n",
    "            x_batch, y_batch = xy[start:stop, :-1], xy[start:stop, -1:]\n",
    "\n",
    "            # Recalculating the difference\n",
    "            grad = np.array(gradient(x_batch, y_batch, vector), dtype_)\n",
    "            diff = -learn_rate * grad\n",
    "\n",
    "            # Checking if the absolute difference is small enough\n",
    "            if np.all(np.abs(diff) <= tolerance):\n",
    "                break\n",
    "\n",
    "            # Updating the values of the variables\n",
    "            vector += diff\n",
    "            \n",
    "            n_steps += 1\n",
    "\n",
    "    return vector if vector.shape else vector.item(), n_steps"
   ]
  },
  {
   "cell_type": "code",
   "execution_count": 94,
   "id": "79d00a8c",
   "metadata": {},
   "outputs": [],
   "source": [
    "x = np.array([5, 15, 25, 35, 45, 55])\n",
    "y = np.array([5, 20, 14, 32, 22, 38])"
   ]
  },
  {
   "cell_type": "code",
   "execution_count": 95,
   "id": "3dc0a7f5",
   "metadata": {},
   "outputs": [
    {
     "name": "stdout",
     "output_type": "stream",
     "text": [
      "Wall time: 3.48 s\n"
     ]
    },
    {
     "data": {
      "text/plain": [
       "(array([5.1223361 , 0.55286691]), 11785)"
      ]
     },
     "execution_count": 95,
     "metadata": {},
     "output_type": "execute_result"
    }
   ],
   "source": [
    "%%time\n",
    "sgd(ssr_gradient, x, y, start=[0.5, 0.5], learn_rate=0.0008, batch_size=6, n_iter=100000, random_state=0, tolerance=1e-04)"
   ]
  },
  {
   "cell_type": "code",
   "execution_count": 96,
   "id": "b58fd675",
   "metadata": {},
   "outputs": [
    {
     "name": "stdout",
     "output_type": "stream",
     "text": [
      "Wall time: 782 ms\n"
     ]
    },
    {
     "data": {
      "text/plain": [
       "(array([5.62822349, 0.54012867]), 35317)"
      ]
     },
     "execution_count": 96,
     "metadata": {},
     "output_type": "execute_result"
    }
   ],
   "source": [
    "%%time\n",
    "gradient_descent(ssr_gradient, x, y, start=[0.5, 0.5], learn_rate=0.0008, n_iter=100000, )"
   ]
  },
  {
   "cell_type": "markdown",
   "id": "575914c6",
   "metadata": {},
   "source": [
    "- Batch gradient descent - вся выборка участвует в корректировке весов в конкретной эпохе (n_iter) - smoothest way\n",
    "- Mini batch dg - подвыборка участвует в корректировке весов внутри цикла по мини-батчам (вся выборка делить на batch size), который находится внутри другого цикла по эпохкам - чуть хуже чем smoothes, но все ещё окей\n",
    "- Stochastic gd - в эпохе участвует либо один сэмпл из выборке данных и по нему корректируются веса, либо какое-то количество batch size. - идёт шагами"
   ]
  },
  {
   "cell_type": "markdown",
   "id": "dedf907f",
   "metadata": {},
   "source": [
    "# Another example of gd"
   ]
  },
  {
   "cell_type": "code",
   "execution_count": 32,
   "id": "8b544e89",
   "metadata": {},
   "outputs": [],
   "source": [
    "import numpy as np\n",
    "import matplotlib.pyplot as plt"
   ]
  },
  {
   "cell_type": "code",
   "execution_count": 33,
   "id": "28f221a0",
   "metadata": {},
   "outputs": [],
   "source": [
    "# creating data\n",
    "mean = np.array([5.0, 6.0])\n",
    "cov = np.array([[1.0, 0.95], [0.95, 1.2]])\n",
    "data = np.random.multivariate_normal(mean, cov, 8000)"
   ]
  },
  {
   "cell_type": "code",
   "execution_count": 34,
   "id": "74c342a3",
   "metadata": {},
   "outputs": [
    {
     "data": {
      "image/png": "[encoded data removed]",
      "text/plain": [
       "<Figure size 432x288 with 1 Axes>"
      ]
     },
     "metadata": {
      "needs_background": "light"
     },
     "output_type": "display_data"
    }
   ],
   "source": [
    "# visualising data\n",
    "plt.scatter(data[:500, 0], data[:500, 1], marker='.')\n",
    "plt.show()"
   ]
  },
  {
   "cell_type": "code",
   "execution_count": 35,
   "id": "02ff30f8",
   "metadata": {},
   "outputs": [
    {
     "data": {
      "text/plain": [
       "array([[5.24519148, 5.89657307],\n",
       "       [4.84465216, 6.4211402 ],\n",
       "       [4.25399135, 5.15371964],\n",
       "       ...,\n",
       "       [5.03216004, 5.21629369],\n",
       "       [3.53919269, 5.33712598],\n",
       "       [4.94459233, 6.42165204]])"
      ]
     },
     "execution_count": 35,
     "metadata": {},
     "output_type": "execute_result"
    }
   ],
   "source": [
    "data"
   ]
  },
  {
   "cell_type": "code",
   "execution_count": 36,
   "id": "1b99a220",
   "metadata": {},
   "outputs": [],
   "source": [
    "# train-test-split\n",
    "data = np.hstack((np.ones((data.shape[0], 1)), data))"
   ]
  },
  {
   "cell_type": "code",
   "execution_count": 37,
   "id": "19c8298f",
   "metadata": {},
   "outputs": [
    {
     "data": {
      "text/plain": [
       "array([[1.        , 5.24519148, 5.89657307],\n",
       "       [1.        , 4.84465216, 6.4211402 ],\n",
       "       [1.        , 4.25399135, 5.15371964],\n",
       "       ...,\n",
       "       [1.        , 5.03216004, 5.21629369],\n",
       "       [1.        , 3.53919269, 5.33712598],\n",
       "       [1.        , 4.94459233, 6.42165204]])"
      ]
     },
     "execution_count": 37,
     "metadata": {},
     "output_type": "execute_result"
    }
   ],
   "source": [
    "data"
   ]
  },
  {
   "cell_type": "code",
   "execution_count": 42,
   "id": "5030cca5",
   "metadata": {},
   "outputs": [
    {
     "data": {
      "text/plain": [
       "array([[5.89657307],\n",
       "       [6.4211402 ],\n",
       "       [5.15371964],\n",
       "       ...,\n",
       "       [5.21629369],\n",
       "       [5.33712598],\n",
       "       [6.42165204]])"
      ]
     },
     "execution_count": 42,
     "metadata": {},
     "output_type": "execute_result"
    }
   ],
   "source": [
    "data[:, -1:]"
   ]
  },
  {
   "cell_type": "code",
   "execution_count": 39,
   "id": "b93fe5a9",
   "metadata": {},
   "outputs": [],
   "source": [
    "from sklearn.model_selection import train_test_split"
   ]
  },
  {
   "cell_type": "code",
   "execution_count": 44,
   "id": "6aa64a61",
   "metadata": {},
   "outputs": [],
   "source": [
    "X_tr, X_test, y_tr, y_test =  train_test_split(data[:, :2], data[:, -1:], test_size=0.2)"
   ]
  },
  {
   "cell_type": "code",
   "execution_count": 46,
   "id": "d15f83bd",
   "metadata": {},
   "outputs": [
    {
     "data": {
      "text/plain": [
       "(6400, 2)"
      ]
     },
     "execution_count": 46,
     "metadata": {},
     "output_type": "execute_result"
    }
   ],
   "source": [
    "X_tr.shape"
   ]
  },
  {
   "cell_type": "code",
   "execution_count": 47,
   "id": "5028d43a",
   "metadata": {},
   "outputs": [
    {
     "name": "stdout",
     "output_type": "stream",
     "text": [
      "Number of train observations 6400\n",
      "Number of test observations 1600\n"
     ]
    }
   ],
   "source": [
    "print(f\"Number of train observations {X_tr.shape[0]}\")\n",
    "print(f\"Number of test observations {X_test.shape[0]}\")"
   ]
  },
  {
   "cell_type": "code",
   "execution_count": 56,
   "id": "87a05434",
   "metadata": {},
   "outputs": [],
   "source": [
    "# linear regression using \"mini-batch\" gradient descent\n",
    "# function to compute hypothesis / predictions\n",
    "def hypothesis(X, theta):\n",
    "    return np.dot(X, theta)\n",
    " \n",
    "# function to compute gradient of error function w.r.t. theta\n",
    "def gradient(X, y, theta):\n",
    "    h = hypothesis(X, theta)\n",
    "    grad = np.dot(X.transpose(), (h - y))\n",
    "    return grad\n",
    " \n",
    "# function to compute the error for current values of theta\n",
    "def cost(X, y, theta):\n",
    "    h = hypothesis(X, theta)\n",
    "    J = np.dot((h - y).transpose(), (h - y))\n",
    "    J /= 2\n",
    "    return J[0]"
   ]
  },
  {
   "cell_type": "code",
   "execution_count": 57,
   "id": "39552c40",
   "metadata": {},
   "outputs": [],
   "source": [
    "# function to create a list containing mini-batches\n",
    "def create_mini_batches(X, y, batch_size):\n",
    "    \n",
    "    # create list with created batches\n",
    "    mini_batches = []\n",
    "    \n",
    "    # shuffle data\n",
    "    data = np.hstack((X, y))\n",
    "    \n",
    "    np.random.shuffle(data)\n",
    "    \n",
    "    # calculate size of batch\n",
    "    n_minibatches = data.shape[0] // batch_size\n",
    "    \n",
    "    i = 0\n",
    " \n",
    "    # collecting batches\n",
    "    for i in range(n_minibatches + 1):\n",
    "        mini_batch = data[i * batch_size:(i + 1)*batch_size, :]\n",
    "        X_mini = mini_batch[:, :-1]\n",
    "        Y_mini = mini_batch[:, -1].reshape((-1, 1))\n",
    "        mini_batches.append((X_mini, Y_mini))\n",
    "        \n",
    "    if data.shape[0] % batch_size != 0:\n",
    "        \n",
    "        mini_batch = data[i * batch_size:data.shape[0]]\n",
    "        X_mini = mini_batch[:, :-1]\n",
    "        Y_mini = mini_batch[:, -1].reshape((-1, 1))\n",
    "        mini_batches.append((X_mini, Y_mini))\n",
    "        \n",
    "    return mini_batches"
   ]
  },
  {
   "cell_type": "code",
   "execution_count": 58,
   "id": "b025282a",
   "metadata": {},
   "outputs": [],
   "source": [
    "# function to perform mini-batch gradient descent\n",
    "def gradientDescent(X, y, learning_rate=0.001, batch_size=32, max_iters = 100):\n",
    "    \n",
    "    # create vector of coefficients\n",
    "    theta = np.zeros((X.shape[1], 1))\n",
    "    \n",
    "    # colelcting adjustments\n",
    "    error_list = []\n",
    "    \n",
    "    # run through iterations (or epochs)\n",
    "    for itr in range(max_iters):\n",
    "        \n",
    "        mini_batches = create_mini_batches(X, y, batch_size)\n",
    "        \n",
    "        # run over mini-batches\n",
    "        for mini_batch in mini_batches:\n",
    "            \n",
    "            X_mini, y_mini = mini_batch\n",
    "            \n",
    "            theta -= learning_rate * gradient(X_mini, y_mini, theta)\n",
    "            \n",
    "            error_list.append(cost(X_mini, y_mini, theta))\n",
    " \n",
    "    return theta, error_list"
   ]
  },
  {
   "cell_type": "code",
   "execution_count": 59,
   "id": "36bd2555",
   "metadata": {},
   "outputs": [],
   "source": [
    "theta, error_list = gradientDescent(X_tr, y_tr)"
   ]
  },
  {
   "cell_type": "code",
   "execution_count": 60,
   "id": "dbf52286",
   "metadata": {},
   "outputs": [
    {
     "data": {
      "text/plain": [
       "array([[1.21622236],\n",
       "       [0.95884281]])"
      ]
     },
     "execution_count": 60,
     "metadata": {},
     "output_type": "execute_result"
    }
   ],
   "source": [
    "theta"
   ]
  },
  {
   "cell_type": "code",
   "execution_count": 62,
   "id": "e95a4718",
   "metadata": {},
   "outputs": [
    {
     "name": "stdout",
     "output_type": "stream",
     "text": [
      "Bias =  [1.21622236]\n",
      "Coefficients =  [[0.95884281]]\n"
     ]
    },
    {
     "data": {
      "image/png": "[encoded data removed]",
      "text/plain": [
       "<Figure size 864x576 with 1 Axes>"
      ]
     },
     "metadata": {
      "needs_background": "light"
     },
     "output_type": "display_data"
    }
   ],
   "source": [
    "print(\"Bias = \", theta[0])\n",
    "print(\"Coefficients = \", theta[1:])\n",
    " \n",
    "# visualising gradient descent\n",
    "plt.figure(figsize=(12, 8))\n",
    "plt.plot(error_list)\n",
    "plt.xlabel(\"Number of iterations\")\n",
    "plt.ylabel(\"Cost\")\n",
    "plt.show()"
   ]
  },
  {
   "cell_type": "code",
   "execution_count": 63,
   "id": "997b02c7",
   "metadata": {},
   "outputs": [
    {
     "data": {
      "image/png": "[encoded data removed]",
      "text/plain": [
       "<Figure size 432x288 with 1 Axes>"
      ]
     },
     "metadata": {
      "needs_background": "light"
     },
     "output_type": "display_data"
    }
   ],
   "source": [
    "# predicting output for X_test\n",
    "y_pred = hypothesis(X_test, theta)\n",
    "plt.scatter(X_test[:, 1], y_test[:, ], marker='.')\n",
    "plt.plot(X_test[:, 1], y_pred, color='orange')\n",
    "plt.show()"
   ]
  },
  {
   "cell_type": "code",
   "execution_count": 64,
   "id": "fb39eae3",
   "metadata": {},
   "outputs": [],
   "source": [
    "# calculating error in predictions\n",
    "error = np.sum(np.abs(y_test - y_pred) / y_test.shape[0])"
   ]
  },
  {
   "cell_type": "code",
   "execution_count": 65,
   "id": "e00860b4",
   "metadata": {},
   "outputs": [
    {
     "name": "stdout",
     "output_type": "stream",
     "text": [
      "0.44037497411556165\n"
     ]
    }
   ],
   "source": [
    "print(error)"
   ]
  },
  {
   "cell_type": "markdown",
   "id": "847b623a",
   "metadata": {},
   "source": [
    "# Regularization"
   ]
  },
  {
   "cell_type": "code",
   "execution_count": 66,
   "id": "5b1c3431",
   "metadata": {},
   "outputs": [],
   "source": [
    "from sklearn.linear_model import LinearRegression\n",
    "from sklearn.model_selection import train_test_split\n",
    "from numpy import genfromtxt"
   ]
  },
  {
   "cell_type": "code",
   "execution_count": 67,
   "id": "7d74f0a1",
   "metadata": {},
   "outputs": [],
   "source": [
    "dataset = genfromtxt('https://raw.githubusercontent.com/m-mehdi/tutorials/main/boston_housing.csv', delimiter=',')"
   ]
  },
  {
   "cell_type": "code",
   "execution_count": 78,
   "id": "fd0fdb3b",
   "metadata": {},
   "outputs": [
    {
     "data": {
      "text/plain": [
       "(506, 105)"
      ]
     },
     "execution_count": 78,
     "metadata": {},
     "output_type": "execute_result"
    }
   ],
   "source": [
    "dataset.shape"
   ]
  },
  {
   "cell_type": "code",
   "execution_count": 69,
   "id": "0e2009dd",
   "metadata": {},
   "outputs": [],
   "source": [
    "X = dataset[:,:-1]\n",
    "y = dataset[:,-1]\n",
    "X_train, X_test, y_train, y_test = train_test_split(X, y, test_size=0.25, random_state=0)"
   ]
  },
  {
   "cell_type": "code",
   "execution_count": 70,
   "id": "a7d4ca01",
   "metadata": {},
   "outputs": [],
   "source": [
    "lr = LinearRegression().fit(X_train, y_train)"
   ]
  },
  {
   "cell_type": "code",
   "execution_count": 71,
   "id": "7f719d9d",
   "metadata": {},
   "outputs": [
    {
     "name": "stdout",
     "output_type": "stream",
     "text": [
      "Linear Regression-Training set score: 0.95\n",
      "Linear Regression-Test set score: 0.61\n"
     ]
    }
   ],
   "source": [
    "print(f\"Linear Regression-Training set score: {lr.score(X_train, y_train):.2f}\")\n",
    "print(f\"Linear Regression-Test set score: {lr.score(X_test, y_test):.2f}\")"
   ]
  },
  {
   "cell_type": "code",
   "execution_count": 72,
   "id": "9719463f",
   "metadata": {},
   "outputs": [],
   "source": [
    "from sklearn.linear_model import Ridge\n",
    "ridge = Ridge(alpha=0.7).fit(X_train, y_train)"
   ]
  },
  {
   "cell_type": "code",
   "execution_count": 73,
   "id": "1e1d39b4",
   "metadata": {},
   "outputs": [
    {
     "name": "stdout",
     "output_type": "stream",
     "text": [
      "Ridge Regression-Training set score: 0.90\n",
      "Ridge Regression-Test set score: 0.76\n"
     ]
    }
   ],
   "source": [
    "print(f\"Ridge Regression-Training set score: {ridge.score(X_train, y_train):.2f}\")\n",
    "print(f\"Ridge Regression-Test set score: {ridge.score(X_test, y_test):.2f}\")"
   ]
  },
  {
   "cell_type": "code",
   "execution_count": 77,
   "id": "02d9e5a3",
   "metadata": {},
   "outputs": [
    {
     "data": {
      "text/plain": [
       "array([ True,  True,  True,  True,  True,  True,  True,  True,  True,\n",
       "        True,  True,  True,  True,  True,  True,  True,  True,  True,\n",
       "        True,  True,  True,  True,  True,  True,  True,  True,  True,\n",
       "        True,  True,  True,  True,  True,  True,  True,  True,  True,\n",
       "        True,  True,  True,  True,  True,  True,  True,  True,  True,\n",
       "        True,  True,  True,  True,  True,  True,  True,  True,  True,\n",
       "        True,  True,  True,  True,  True,  True,  True,  True,  True,\n",
       "        True,  True,  True,  True,  True,  True,  True,  True,  True,\n",
       "        True,  True,  True,  True,  True,  True,  True,  True,  True,\n",
       "        True,  True,  True,  True,  True,  True,  True,  True,  True,\n",
       "        True,  True,  True,  True,  True,  True,  True,  True,  True,\n",
       "        True,  True,  True,  True,  True])"
      ]
     },
     "execution_count": 77,
     "metadata": {},
     "output_type": "execute_result"
    }
   ],
   "source": [
    "ridge.coef_ != 0"
   ]
  },
  {
   "cell_type": "code",
   "execution_count": 74,
   "id": "22c946e3",
   "metadata": {},
   "outputs": [
    {
     "name": "stdout",
     "output_type": "stream",
     "text": [
      "Lasso Regression-Training set score: 0.29\n",
      "Lasso Regression-Test set score: 0.21\n"
     ]
    }
   ],
   "source": [
    "from sklearn.linear_model import Lasso\n",
    "lasso = Lasso(alpha=1.0).fit(X_train, y_train)\n",
    "print(f\"Lasso Regression-Training set score: {lasso.score(X_train, y_train):.2f}\")\n",
    "print(f\"Lasso Regression-Test set score: {lasso.score(X_test, y_test):.2f}\")"
   ]
  },
  {
   "cell_type": "code",
   "execution_count": 79,
   "id": "4d8094ed",
   "metadata": {},
   "outputs": [
    {
     "data": {
      "text/plain": [
       "array([False, False, False, False, False, False, False, False, False,\n",
       "       False, False, False,  True, False, False, False, False, False,\n",
       "       False, False, False, False, False, False, False, False, False,\n",
       "       False, False, False, False, False, False, False, False, False,\n",
       "       False, False, False, False, False, False, False, False, False,\n",
       "       False, False, False, False, False, False, False, False, False,\n",
       "       False, False, False, False, False, False, False, False, False,\n",
       "       False, False, False, False, False, False, False, False, False,\n",
       "       False, False, False, False, False, False, False,  True,  True,\n",
       "       False, False, False, False, False, False, False, False,  True,\n",
       "       False, False, False, False, False, False, False, False, False,\n",
       "       False, False, False, False, False])"
      ]
     },
     "execution_count": 79,
     "metadata": {},
     "output_type": "execute_result"
    }
   ],
   "source": [
    "lasso.coef_ != 0"
   ]
  },
  {
   "cell_type": "code",
   "execution_count": 80,
   "id": "149b7f72",
   "metadata": {},
   "outputs": [
    {
     "name": "stderr",
     "output_type": "stream",
     "text": [
      "C:\\Users\\sente\\anaconda3\\lib\\site-packages\\sklearn\\linear_model\\_coordinate_descent.py:648: ConvergenceWarning: Objective did not converge. You might want to increase the number of iterations, check the scale of the features or consider increasing regularisation. Duality gap: 4.690e+01, tolerance: 3.233e+00\n",
      "  model = cd_fast.enet_coordinate_descent(\n"
     ]
    }
   ],
   "source": [
    "lasso = Lasso(alpha=0.01).fit(X_train, y_train)"
   ]
  },
  {
   "cell_type": "code",
   "execution_count": 81,
   "id": "13fce13d",
   "metadata": {},
   "outputs": [
    {
     "name": "stdout",
     "output_type": "stream",
     "text": [
      "Lasso Regression-Training set score: 0.90\n",
      "Lasso Regression-Test set score: 0.77\n"
     ]
    }
   ],
   "source": [
    "print(\"Lasso Regression-Training set score: {:.2f}\".format(lasso.score(X_train, y_train)))\n",
    "print(\"Lasso Regression-Test set score: {:.2f}\".format(lasso.score(X_test, y_test)))"
   ]
  },
  {
   "cell_type": "code",
   "execution_count": 82,
   "id": "a09071a6",
   "metadata": {},
   "outputs": [
    {
     "data": {
      "text/plain": [
       "array([False, False, False, False, False, False, False,  True,  True,\n",
       "       False, False, False, False, False, False, False, False, False,\n",
       "       False, False, False,  True, False, False, False, False,  True,\n",
       "       False, False, False, False, False, False, False, False, False,\n",
       "       False, False, False, False, False, False, False,  True, False,\n",
       "        True, False, False, False, False,  True,  True,  True, False,\n",
       "        True, False, False,  True, False,  True,  True, False, False,\n",
       "        True, False,  True, False, False,  True,  True, False,  True,\n",
       "        True,  True,  True,  True, False, False,  True, False, False,\n",
       "       False,  True, False, False, False, False,  True, False, False,\n",
       "        True, False, False,  True,  True, False, False,  True, False,\n",
       "       False, False,  True,  True,  True])"
      ]
     },
     "execution_count": 82,
     "metadata": {},
     "output_type": "execute_result"
    }
   ],
   "source": [
    "lasso.coef_ != 0"
   ]
  },
  {
   "cell_type": "code",
   "execution_count": 83,
   "id": "eeb0adb2",
   "metadata": {},
   "outputs": [
    {
     "name": "stderr",
     "output_type": "stream",
     "text": [
      "C:\\Users\\sente\\anaconda3\\lib\\site-packages\\sklearn\\linear_model\\_coordinate_descent.py:648: ConvergenceWarning: Objective did not converge. You might want to increase the number of iterations, check the scale of the features or consider increasing regularisation. Duality gap: 1.474e+02, tolerance: 3.233e+00\n",
      "  model = cd_fast.enet_coordinate_descent(\n"
     ]
    }
   ],
   "source": [
    "from sklearn.linear_model import ElasticNet\n",
    "elastic_net = ElasticNet(alpha=0.01, l1_ratio=0.01).fit(X_train, y_train)"
   ]
  },
  {
   "cell_type": "code",
   "execution_count": 84,
   "id": "89b273fa",
   "metadata": {},
   "outputs": [
    {
     "name": "stdout",
     "output_type": "stream",
     "text": [
      "Elastic Net-Training set score: 0.84\n",
      "Elastic Net-Test set score: 0.70\n"
     ]
    }
   ],
   "source": [
    "print(f\"Elastic Net-Training set score: {elastic_net.score(X_train, y_train):.2f}\")\n",
    "print(f\"Elastic Net-Test set score: {elastic_net.score(X_test, y_test):.2f}\")"
   ]
  },
  {
   "cell_type": "code",
   "execution_count": 91,
   "id": "189c79b8",
   "metadata": {},
   "outputs": [
    {
     "name": "stderr",
     "output_type": "stream",
     "text": [
      "C:\\Users\\sente\\anaconda3\\lib\\site-packages\\sklearn\\linear_model\\_coordinate_descent.py:648: ConvergenceWarning: Objective did not converge. You might want to increase the number of iterations, check the scale of the features or consider increasing regularisation. Duality gap: 1.852e+03, tolerance: 3.233e+00\n",
      "  model = cd_fast.enet_coordinate_descent(\n"
     ]
    }
   ],
   "source": [
    "from sklearn.linear_model import ElasticNet\n",
    "elastic_net = ElasticNet(alpha=0.0008, l1_ratio=0.01).fit(X_train, y_train)"
   ]
  },
  {
   "cell_type": "code",
   "execution_count": 92,
   "id": "ad41627f",
   "metadata": {},
   "outputs": [
    {
     "name": "stdout",
     "output_type": "stream",
     "text": [
      "Elastic Net-Training set score: 0.91\n",
      "Elastic Net-Test set score: 0.77\n"
     ]
    }
   ],
   "source": [
    "print(f\"Elastic Net-Training set score: {elastic_net.score(X_train, y_train):.2f}\")\n",
    "print(f\"Elastic Net-Test set score: {elastic_net.score(X_test, y_test):.2f}\")"
   ]
  },
  {
   "cell_type": "markdown",
   "id": "31cbc857",
   "metadata": {},
   "source": [
    "Регуляризация повзоляет нам штрафовать искомые коэффициенты линейной регрессии таким образом, чтобы предотвратить переобечцение нашей модели. L1 регуляризация позволяет нам откинуть часть признаков, которые по её мнению не улучшают модель (в каких-то случаях это будут линейно зависимые признаки к уже отобранным)."
   ]
  },
  {
   "cell_type": "code",
   "execution_count": null,
   "id": "dd95da98",
   "metadata": {},
   "outputs": [],
   "source": []
  }
 ],
 "metadata": {
  "kernelspec": {
   "display_name": "hackthecart",
   "language": "python",
   "name": "hackthecart"
  },
  "language_info": {
   "codemirror_mode": {
    "name": "ipython",
    "version": 3
   },
   "file_extension": ".py",
   "mimetype": "text/x-python",
   "name": "python",
   "nbconvert_exporter": "python",
   "pygments_lexer": "ipython3",
   "version": "3.9.7"
  }
 },
 "nbformat": 4,
 "nbformat_minor": 5
}
